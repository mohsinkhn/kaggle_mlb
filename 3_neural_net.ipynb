{
 "cells": [
  {
   "cell_type": "code",
   "execution_count": 1,
   "id": "f6d42930-3947-40f7-b658-8030b609115a",
   "metadata": {},
   "outputs": [
    {
     "name": "stderr",
     "output_type": "stream",
     "text": [
      "Global seed set to 4578690\n"
     ]
    },
    {
     "data": {
      "text/plain": [
       "4578690"
      ]
     },
     "execution_count": 1,
     "metadata": {},
     "output_type": "execute_result"
    }
   ],
   "source": [
    "import os\n",
    "os.environ['WANDB_NOTEBOOK_NAME'] = '3_neural_net.ipynb'\n",
    "import joblib\n",
    "import numpy as np\n",
    "import matplotlib.pyplot as plt\n",
    "import pandas as pd\n",
    "import pytorch_lightning as pl\n",
    "from sklearn.preprocessing import MinMaxScaler, OneHotEncoder\n",
    "from sklearn.metrics import mean_absolute_error as mae\n",
    "import seaborn as sns\n",
    "import timm\n",
    "from timm.optim import NovoGrad\n",
    "import torch\n",
    "from torch import nn\n",
    "from torch.utils.data import Dataset, DataLoader\n",
    "import wandb\n",
    "\n",
    "from sklearn.pipeline import make_pipeline, make_union\n",
    "from src.constants import TARGETS\n",
    "seed = 4578690\n",
    "pl.seed_everything(seed)"
   ]
  },
  {
   "cell_type": "code",
   "execution_count": 2,
   "id": "25549b22-8284-42b1-bb78-c9a9286200ea",
   "metadata": {},
   "outputs": [],
   "source": [
    "class RandomData(Dataset):\n",
    "    def __init__(self, data, labels, scaler):\n",
    "        super().__init__()\n",
    "        self.data = data.copy()\n",
    "        self.data[np.isnan(self.data)] = 0\n",
    "        self.data = scaler.transform(self.data)\n",
    "        self.labels = labels\n",
    "    \n",
    "    def __len__(self):\n",
    "        return len(self.data)\n",
    "    \n",
    "    def __getitem__(self, idx):\n",
    "        \n",
    "        return self.data[idx].astype(np.float32), np.sqrt(self.labels[idx]).astype(np.float32)/10.0\n",
    "\n",
    "\n",
    "class FCModel(nn.Module):\n",
    "    def __init__(self, in_f, out_f, d, p):\n",
    "        super().__init__()\n",
    "        self.fc1 = nn.Linear(in_f, d)\n",
    "        self.h1 = nn.Linear(d, d)\n",
    "        self.classifier = nn.Linear(d, 4)\n",
    "        self.bnorm1 = nn.BatchNorm1d(in_f)\n",
    "        self.relu = nn.ReLU()\n",
    "        self.tanh = nn.Tanh()\n",
    "        self.bnorm2 = nn.BatchNorm1d(d)\n",
    "        self.drop = nn.Dropout(p)\n",
    "    \n",
    "    def forward(self, x):\n",
    "        x = self.bnorm1(x)\n",
    "        x = self.fc1(self.drop(x))\n",
    "        x = self.relu(x)\n",
    "        x = x + x * self.tanh(self.h1(x))\n",
    "        #x = self.bnorm2(x)\n",
    "        x = self.relu(x)\n",
    "        x = self.classifier(self.drop(x))\n",
    "        return x\n",
    "\n",
    "class LitModel(pl.LightningModule):\n",
    "    \"\"\"PL Model\"\"\"\n",
    "    def __init__(\n",
    "        self,\n",
    "        in_f=503,\n",
    "        out_f=4,\n",
    "        d=196,\n",
    "        p=0.05,\n",
    "        lr=0.003,\n",
    "        wd=0.001,\n",
    "        grad_avg=True,\n",
    "        steps=[30],\n",
    "        gamma=0.1,\n",
    "        \n",
    "    ):\n",
    "        super().__init__()\n",
    "        self.save_hyperparameters()\n",
    "        self.model = FCModel(in_f, out_f, d, p)\n",
    "        self.criterion = torch.nn.L1Loss()\n",
    "\n",
    "    def forward(self, x):\n",
    "        return self.model(x)\n",
    "\n",
    "    def step(self, batch):\n",
    "        x, y = batch\n",
    "        yhat = self.forward(x)\n",
    "        loss = self.criterion(yhat, y)\n",
    "        return loss, torch.square(10*yhat), torch.square(10*y)\n",
    "\n",
    "    def training_step(self, batch, batch_idx):\n",
    "        loss, preds, y = self.step(batch)\n",
    "        loss_corr = self.criterion(y, preds)\n",
    "        self.log(\"train/loss\", loss_corr, on_step=True, on_epoch=True, prog_bar=True)\n",
    "        return {\"loss\": loss}\n",
    "\n",
    "    def validation_step(self, batch, batch_idx):\n",
    "        loss, preds, y = self.step(batch)\n",
    "        loss_corr = self.criterion(y, preds)\n",
    "\n",
    "        self.log(\"val/loss\", loss_corr, on_step=False, on_epoch=True, prog_bar=True)\n",
    "        return {\"loss\": loss}\n",
    "\n",
    "    def test_step(self, batch, batch_idx):\n",
    "        loss, preds, y = self.step(batch)\n",
    "        return {\"loss\": loss, \"preds\": preds}\n",
    "\n",
    "    def test_epoch_end(self, outputs):\n",
    "        preds = torch.cat([o[\"preds\"] for o in outputs], 0).cpu().numpy()\n",
    "        self.log(\"output\", preds)\n",
    "\n",
    "    def configure_optimizers(self):\n",
    "        optimizer = NovoGrad(self.parameters(), grad_averaging=self.hparams.grad_avg, lr=self.hparams.lr, weight_decay=self.hparams.wd)\n",
    "        scheduler = torch.optim.lr_scheduler.MultiStepLR(optimizer, gamma=self.hparams.gamma, milestones=self.hparams.steps)\n",
    "        return [optimizer], [{\"scheduler\": scheduler, \"interval\": \"epoch\"}]"
   ]
  },
  {
   "cell_type": "code",
   "execution_count": 3,
   "id": "339918c3-e0a7-4bd4-9ede-b1bd7c6ff116",
   "metadata": {},
   "outputs": [
    {
     "data": {
      "text/plain": [
       "((1424400, 6), (18992, 6))"
      ]
     },
     "execution_count": 3,
     "metadata": {},
     "output_type": "execute_result"
    }
   ],
   "source": [
    "tr_index, vl_index = pd.read_csv(\"data/tr_index_small.csv\"), pd.read_csv(\"data/vl_index_small.csv\")\n",
    "tr_index.shape, vl_index.shape"
   ]
  },
  {
   "cell_type": "code",
   "execution_count": 4,
   "id": "9a082ca8-2549-405f-b6ff-22bf068a88c5",
   "metadata": {},
   "outputs": [],
   "source": [
    "X_tr, X_vl = np.load(\"data/X_tr1_v1.npy\"), np.load(\"data/X_vl1_v1.npy\")"
   ]
  },
  {
   "cell_type": "code",
   "execution_count": 5,
   "id": "e1d45ccf-b157-47eb-a950-45d0d04459be",
   "metadata": {},
   "outputs": [
    {
     "name": "stdout",
     "output_type": "stream",
     "text": [
      "(1424400, 404) (18992, 404)\n"
     ]
    }
   ],
   "source": [
    "onehot = OneHotEncoder(sparse=False, handle_unknown='ignore')\n",
    "X_tr_cats = onehot.fit_transform(X_tr[:, [14, 15]])\n",
    "\n",
    "X_tr1 = np.hstack((X_tr_cats, X_tr[:, np.r_[0:14, 16:379]]))\n",
    "X_vl_cats = onehot.transform(X_vl[:, [14, 15]])\n",
    "\n",
    "X_vl1 = np.hstack((X_vl_cats, X_vl[:, np.r_[0:14, 16:379]]))\n",
    "print(X_tr1.shape, X_vl1.shape)"
   ]
  },
  {
   "cell_type": "code",
   "execution_count": 6,
   "id": "d746e031-5ec3-4102-b88d-374d259bb524",
   "metadata": {},
   "outputs": [
    {
     "data": {
      "text/plain": [
       "['artifacts/onehot_v1.pkl']"
      ]
     },
     "execution_count": 6,
     "metadata": {},
     "output_type": "execute_result"
    }
   ],
   "source": [
    "joblib.dump(onehot, \"artifacts/onehot_v1.pkl\")"
   ]
  },
  {
   "cell_type": "code",
   "execution_count": 7,
   "id": "f2b1686a-daeb-4758-b913-5c0a80446bd8",
   "metadata": {},
   "outputs": [
    {
     "data": {
      "text/plain": [
       "['artifacts/min_max_scaler.pkl']"
      ]
     },
     "execution_count": 7,
     "metadata": {},
     "output_type": "execute_result"
    }
   ],
   "source": [
    "scaler = MinMaxScaler((-1, 1), clip=True)\n",
    "scaler.fit(X_tr1)\n",
    "joblib.dump(scaler, \"artifacts/min_max_scaler.pkl\")"
   ]
  },
  {
   "cell_type": "code",
   "execution_count": 8,
   "id": "b4b4c65a-dd26-4e8c-a367-3aa954169b50",
   "metadata": {},
   "outputs": [
    {
     "name": "stdout",
     "output_type": "stream",
     "text": [
      "(1424400, 4) (18992, 4)\n"
     ]
    }
   ],
   "source": [
    "tr_labels = tr_index[TARGETS].values\n",
    "vl_labels = vl_index[TARGETS].values\n",
    "print(tr_labels.shape, vl_labels.shape)"
   ]
  },
  {
   "cell_type": "code",
   "execution_count": 9,
   "id": "80b97604-84e3-43ab-9dcb-944ff65c4ed8",
   "metadata": {},
   "outputs": [],
   "source": [
    "#np.where(pd.DataFrame(np.load(\"data/X_vl1_v1.npy\")).isnull().sum(axis=0) < 15000)"
   ]
  },
  {
   "cell_type": "code",
   "execution_count": 10,
   "id": "b6a229d2-a566-4f86-b2f7-85ade28fdfac",
   "metadata": {},
   "outputs": [],
   "source": [
    "BATCH_SIZE = 4096\n",
    "NUM_WORKERS = 8\n",
    "IN_F = X_tr1.shape[1]\n",
    "D = 196\n",
    "P = 0.04\n",
    "LR = 0.005\n",
    "WD = 0.001\n",
    "GRAD_AVG = True\n",
    "MAX_EPOCHS = 50\n",
    "STEPS = [30, 40]\n",
    "GAMMA = 0.1\n",
    "version = 'v1'"
   ]
  },
  {
   "cell_type": "code",
   "execution_count": 11,
   "id": "98c85a01-d36b-4954-a598-381af43d9ac8",
   "metadata": {},
   "outputs": [],
   "source": [
    "tr_ds = RandomData(X_tr1, tr_labels, scaler)\n",
    "tr_dl = DataLoader(tr_ds, batch_size=BATCH_SIZE, shuffle=True, num_workers=NUM_WORKERS)\n",
    "vl_ds = RandomData(X_vl1, vl_labels, scaler)\n",
    "vl_dl = DataLoader(vl_ds, batch_size=BATCH_SIZE*2, drop_last=False, shuffle=False, num_workers=NUM_WORKERS)"
   ]
  },
  {
   "cell_type": "code",
   "execution_count": 12,
   "id": "0ae5eed6-c7ec-4c2c-8fe7-84c12ba5ac61",
   "metadata": {},
   "outputs": [
    {
     "name": "stderr",
     "output_type": "stream",
     "text": [
      "\u001b[34m\u001b[1mwandb\u001b[0m: Currently logged in as: \u001b[33mmohsinhkn\u001b[0m (use `wandb login --relogin` to force relogin)\n"
     ]
    },
    {
     "data": {
      "text/html": [
       "\n",
       "                Tracking run with wandb version 0.11.0<br/>\n",
       "                Syncing run <strong style=\"color:#cdcd00\">nnflat_vl15_196_4578690</strong> to <a href=\"https://wandb.ai\" target=\"_blank\">Weights & Biases</a> <a href=\"https://docs.wandb.com/integrations/jupyter.html\" target=\"_blank\">(Documentation)</a>.<br/>\n",
       "                Project page: <a href=\"https://wandb.ai/mohsinhkn/mlb\" target=\"_blank\">https://wandb.ai/mohsinhkn/mlb</a><br/>\n",
       "                Run page: <a href=\"https://wandb.ai/mohsinhkn/mlb/runs/2evuudh4\" target=\"_blank\">https://wandb.ai/mohsinhkn/mlb/runs/2evuudh4</a><br/>\n",
       "                Run data is saved locally in <code>/home/mohsin_okcredit_in/projects/mlb/wandb/run-20210727_110241-2evuudh4</code><br/><br/>\n",
       "            "
      ],
      "text/plain": [
       "<IPython.core.display.HTML object>"
      ]
     },
     "metadata": {},
     "output_type": "display_data"
    },
    {
     "name": "stderr",
     "output_type": "stream",
     "text": [
      "GPU available: True, used: True\n",
      "TPU available: False, using: 0 TPU cores\n"
     ]
    }
   ],
   "source": [
    "model = LitModel(IN_F, 4, D, P, lr=LR, wd=WD, grad_avg=GRAD_AVG, steps=STEPS, gamma=GAMMA)\n",
    "\n",
    "callbacks = [pl.callbacks.ModelCheckpoint(monitor='val/loss', save_top_k=3, mode='min', dirpath=f'data/checkpoints/{D}_{seed}_{version}', auto_insert_metric_name=False,\n",
    "                                         filename=\"epoch={epoch}-val_loss={val/loss:.4f}\")]\n",
    "logger = pl.loggers.wandb.WandbLogger(project='mlb', name=f'nnflat_vl15_{str(D)}_{seed}', tags=['flat nn', f'{D}'], id=wandb.util.generate_id())\n",
    "logger.log_hyperparams({'D': D, 'P': P, 'LR': LR, 'WD': WD, 'GRAD_AVG': GRAD_AVG, 'BATCH_SIZE': BATCH_SIZE})\n",
    "trainer = pl.Trainer(gpus=[1], max_epochs=MAX_EPOCHS, logger=logger, callbacks=callbacks, stochastic_weight_avg=False, deterministic=True)"
   ]
  },
  {
   "cell_type": "code",
   "execution_count": 13,
   "id": "5db57766-8f60-43c4-af7c-5524dc23e203",
   "metadata": {},
   "outputs": [
    {
     "name": "stderr",
     "output_type": "stream",
     "text": [
      "LOCAL_RANK: 0 - CUDA_VISIBLE_DEVICES: [0,1]\n",
      "\n",
      "  | Name      | Type    | Params\n",
      "--------------------------------------\n",
      "0 | model     | FCModel | 119 K \n",
      "1 | criterion | L1Loss  | 0     \n",
      "--------------------------------------\n",
      "119 K     Trainable params\n",
      "0         Non-trainable params\n",
      "119 K     Total params\n",
      "0.480     Total estimated model params size (MB)\n"
     ]
    },
    {
     "data": {
      "application/vnd.jupyter.widget-view+json": {
       "model_id": "",
       "version_major": 2,
       "version_minor": 0
      },
      "text/plain": [
       "Validation sanity check: 0it [00:00, ?it/s]"
      ]
     },
     "metadata": {},
     "output_type": "display_data"
    },
    {
     "name": "stderr",
     "output_type": "stream",
     "text": [
      "Global seed set to 4578690\n"
     ]
    },
    {
     "data": {
      "application/vnd.jupyter.widget-view+json": {
       "model_id": "b5c6a0da1fe14b7cba66999d24830e6f",
       "version_major": 2,
       "version_minor": 0
      },
      "text/plain": [
       "Training: 0it [00:00, ?it/s]"
      ]
     },
     "metadata": {},
     "output_type": "display_data"
    },
    {
     "name": "stderr",
     "output_type": "stream",
     "text": [
      "/home/mohsin_okcredit_in/anaconda3/envs/setienv/lib/python3.8/site-packages/timm/optim/novograd.py:76: UserWarning: This overload of add_ is deprecated:\n",
      "\tadd_(Number alpha, Tensor other)\n",
      "Consider using one of the following signatures instead:\n",
      "\tadd_(Tensor other, *, Number alpha) (Triggered internally at  /opt/conda/conda-bld/pytorch_1616554793803/work/torch/csrc/utils/python_arg_parser.cpp:1005.)\n",
      "  p.data.add_(-step_size, m)\n"
     ]
    },
    {
     "data": {
      "application/vnd.jupyter.widget-view+json": {
       "model_id": "",
       "version_major": 2,
       "version_minor": 0
      },
      "text/plain": [
       "Validating: 0it [00:00, ?it/s]"
      ]
     },
     "metadata": {},
     "output_type": "display_data"
    },
    {
     "data": {
      "application/vnd.jupyter.widget-view+json": {
       "model_id": "",
       "version_major": 2,
       "version_minor": 0
      },
      "text/plain": [
       "Validating: 0it [00:00, ?it/s]"
      ]
     },
     "metadata": {},
     "output_type": "display_data"
    },
    {
     "data": {
      "application/vnd.jupyter.widget-view+json": {
       "model_id": "",
       "version_major": 2,
       "version_minor": 0
      },
      "text/plain": [
       "Validating: 0it [00:00, ?it/s]"
      ]
     },
     "metadata": {},
     "output_type": "display_data"
    },
    {
     "data": {
      "application/vnd.jupyter.widget-view+json": {
       "model_id": "",
       "version_major": 2,
       "version_minor": 0
      },
      "text/plain": [
       "Validating: 0it [00:00, ?it/s]"
      ]
     },
     "metadata": {},
     "output_type": "display_data"
    },
    {
     "data": {
      "application/vnd.jupyter.widget-view+json": {
       "model_id": "",
       "version_major": 2,
       "version_minor": 0
      },
      "text/plain": [
       "Validating: 0it [00:00, ?it/s]"
      ]
     },
     "metadata": {},
     "output_type": "display_data"
    },
    {
     "data": {
      "application/vnd.jupyter.widget-view+json": {
       "model_id": "",
       "version_major": 2,
       "version_minor": 0
      },
      "text/plain": [
       "Validating: 0it [00:00, ?it/s]"
      ]
     },
     "metadata": {},
     "output_type": "display_data"
    },
    {
     "data": {
      "application/vnd.jupyter.widget-view+json": {
       "model_id": "",
       "version_major": 2,
       "version_minor": 0
      },
      "text/plain": [
       "Validating: 0it [00:00, ?it/s]"
      ]
     },
     "metadata": {},
     "output_type": "display_data"
    },
    {
     "data": {
      "application/vnd.jupyter.widget-view+json": {
       "model_id": "",
       "version_major": 2,
       "version_minor": 0
      },
      "text/plain": [
       "Validating: 0it [00:00, ?it/s]"
      ]
     },
     "metadata": {},
     "output_type": "display_data"
    },
    {
     "data": {
      "application/vnd.jupyter.widget-view+json": {
       "model_id": "",
       "version_major": 2,
       "version_minor": 0
      },
      "text/plain": [
       "Validating: 0it [00:00, ?it/s]"
      ]
     },
     "metadata": {},
     "output_type": "display_data"
    },
    {
     "data": {
      "application/vnd.jupyter.widget-view+json": {
       "model_id": "",
       "version_major": 2,
       "version_minor": 0
      },
      "text/plain": [
       "Validating: 0it [00:00, ?it/s]"
      ]
     },
     "metadata": {},
     "output_type": "display_data"
    },
    {
     "data": {
      "application/vnd.jupyter.widget-view+json": {
       "model_id": "",
       "version_major": 2,
       "version_minor": 0
      },
      "text/plain": [
       "Validating: 0it [00:00, ?it/s]"
      ]
     },
     "metadata": {},
     "output_type": "display_data"
    },
    {
     "data": {
      "application/vnd.jupyter.widget-view+json": {
       "model_id": "",
       "version_major": 2,
       "version_minor": 0
      },
      "text/plain": [
       "Validating: 0it [00:00, ?it/s]"
      ]
     },
     "metadata": {},
     "output_type": "display_data"
    },
    {
     "data": {
      "application/vnd.jupyter.widget-view+json": {
       "model_id": "",
       "version_major": 2,
       "version_minor": 0
      },
      "text/plain": [
       "Validating: 0it [00:00, ?it/s]"
      ]
     },
     "metadata": {},
     "output_type": "display_data"
    },
    {
     "data": {
      "application/vnd.jupyter.widget-view+json": {
       "model_id": "",
       "version_major": 2,
       "version_minor": 0
      },
      "text/plain": [
       "Validating: 0it [00:00, ?it/s]"
      ]
     },
     "metadata": {},
     "output_type": "display_data"
    },
    {
     "data": {
      "application/vnd.jupyter.widget-view+json": {
       "model_id": "",
       "version_major": 2,
       "version_minor": 0
      },
      "text/plain": [
       "Validating: 0it [00:00, ?it/s]"
      ]
     },
     "metadata": {},
     "output_type": "display_data"
    },
    {
     "data": {
      "application/vnd.jupyter.widget-view+json": {
       "model_id": "",
       "version_major": 2,
       "version_minor": 0
      },
      "text/plain": [
       "Validating: 0it [00:00, ?it/s]"
      ]
     },
     "metadata": {},
     "output_type": "display_data"
    },
    {
     "data": {
      "application/vnd.jupyter.widget-view+json": {
       "model_id": "",
       "version_major": 2,
       "version_minor": 0
      },
      "text/plain": [
       "Validating: 0it [00:00, ?it/s]"
      ]
     },
     "metadata": {},
     "output_type": "display_data"
    },
    {
     "data": {
      "application/vnd.jupyter.widget-view+json": {
       "model_id": "",
       "version_major": 2,
       "version_minor": 0
      },
      "text/plain": [
       "Validating: 0it [00:00, ?it/s]"
      ]
     },
     "metadata": {},
     "output_type": "display_data"
    },
    {
     "data": {
      "application/vnd.jupyter.widget-view+json": {
       "model_id": "",
       "version_major": 2,
       "version_minor": 0
      },
      "text/plain": [
       "Validating: 0it [00:00, ?it/s]"
      ]
     },
     "metadata": {},
     "output_type": "display_data"
    },
    {
     "data": {
      "application/vnd.jupyter.widget-view+json": {
       "model_id": "",
       "version_major": 2,
       "version_minor": 0
      },
      "text/plain": [
       "Validating: 0it [00:00, ?it/s]"
      ]
     },
     "metadata": {},
     "output_type": "display_data"
    },
    {
     "data": {
      "application/vnd.jupyter.widget-view+json": {
       "model_id": "",
       "version_major": 2,
       "version_minor": 0
      },
      "text/plain": [
       "Validating: 0it [00:00, ?it/s]"
      ]
     },
     "metadata": {},
     "output_type": "display_data"
    },
    {
     "data": {
      "application/vnd.jupyter.widget-view+json": {
       "model_id": "",
       "version_major": 2,
       "version_minor": 0
      },
      "text/plain": [
       "Validating: 0it [00:00, ?it/s]"
      ]
     },
     "metadata": {},
     "output_type": "display_data"
    },
    {
     "data": {
      "application/vnd.jupyter.widget-view+json": {
       "model_id": "",
       "version_major": 2,
       "version_minor": 0
      },
      "text/plain": [
       "Validating: 0it [00:00, ?it/s]"
      ]
     },
     "metadata": {},
     "output_type": "display_data"
    },
    {
     "data": {
      "application/vnd.jupyter.widget-view+json": {
       "model_id": "",
       "version_major": 2,
       "version_minor": 0
      },
      "text/plain": [
       "Validating: 0it [00:00, ?it/s]"
      ]
     },
     "metadata": {},
     "output_type": "display_data"
    },
    {
     "data": {
      "application/vnd.jupyter.widget-view+json": {
       "model_id": "",
       "version_major": 2,
       "version_minor": 0
      },
      "text/plain": [
       "Validating: 0it [00:00, ?it/s]"
      ]
     },
     "metadata": {},
     "output_type": "display_data"
    },
    {
     "data": {
      "application/vnd.jupyter.widget-view+json": {
       "model_id": "",
       "version_major": 2,
       "version_minor": 0
      },
      "text/plain": [
       "Validating: 0it [00:00, ?it/s]"
      ]
     },
     "metadata": {},
     "output_type": "display_data"
    },
    {
     "data": {
      "application/vnd.jupyter.widget-view+json": {
       "model_id": "",
       "version_major": 2,
       "version_minor": 0
      },
      "text/plain": [
       "Validating: 0it [00:00, ?it/s]"
      ]
     },
     "metadata": {},
     "output_type": "display_data"
    },
    {
     "data": {
      "application/vnd.jupyter.widget-view+json": {
       "model_id": "",
       "version_major": 2,
       "version_minor": 0
      },
      "text/plain": [
       "Validating: 0it [00:00, ?it/s]"
      ]
     },
     "metadata": {},
     "output_type": "display_data"
    },
    {
     "data": {
      "application/vnd.jupyter.widget-view+json": {
       "model_id": "",
       "version_major": 2,
       "version_minor": 0
      },
      "text/plain": [
       "Validating: 0it [00:00, ?it/s]"
      ]
     },
     "metadata": {},
     "output_type": "display_data"
    },
    {
     "data": {
      "application/vnd.jupyter.widget-view+json": {
       "model_id": "",
       "version_major": 2,
       "version_minor": 0
      },
      "text/plain": [
       "Validating: 0it [00:00, ?it/s]"
      ]
     },
     "metadata": {},
     "output_type": "display_data"
    },
    {
     "data": {
      "application/vnd.jupyter.widget-view+json": {
       "model_id": "",
       "version_major": 2,
       "version_minor": 0
      },
      "text/plain": [
       "Validating: 0it [00:00, ?it/s]"
      ]
     },
     "metadata": {},
     "output_type": "display_data"
    },
    {
     "data": {
      "application/vnd.jupyter.widget-view+json": {
       "model_id": "",
       "version_major": 2,
       "version_minor": 0
      },
      "text/plain": [
       "Validating: 0it [00:00, ?it/s]"
      ]
     },
     "metadata": {},
     "output_type": "display_data"
    },
    {
     "data": {
      "application/vnd.jupyter.widget-view+json": {
       "model_id": "",
       "version_major": 2,
       "version_minor": 0
      },
      "text/plain": [
       "Validating: 0it [00:00, ?it/s]"
      ]
     },
     "metadata": {},
     "output_type": "display_data"
    },
    {
     "data": {
      "application/vnd.jupyter.widget-view+json": {
       "model_id": "",
       "version_major": 2,
       "version_minor": 0
      },
      "text/plain": [
       "Validating: 0it [00:00, ?it/s]"
      ]
     },
     "metadata": {},
     "output_type": "display_data"
    },
    {
     "data": {
      "application/vnd.jupyter.widget-view+json": {
       "model_id": "",
       "version_major": 2,
       "version_minor": 0
      },
      "text/plain": [
       "Validating: 0it [00:00, ?it/s]"
      ]
     },
     "metadata": {},
     "output_type": "display_data"
    },
    {
     "data": {
      "application/vnd.jupyter.widget-view+json": {
       "model_id": "",
       "version_major": 2,
       "version_minor": 0
      },
      "text/plain": [
       "Validating: 0it [00:00, ?it/s]"
      ]
     },
     "metadata": {},
     "output_type": "display_data"
    },
    {
     "data": {
      "application/vnd.jupyter.widget-view+json": {
       "model_id": "",
       "version_major": 2,
       "version_minor": 0
      },
      "text/plain": [
       "Validating: 0it [00:00, ?it/s]"
      ]
     },
     "metadata": {},
     "output_type": "display_data"
    },
    {
     "data": {
      "application/vnd.jupyter.widget-view+json": {
       "model_id": "",
       "version_major": 2,
       "version_minor": 0
      },
      "text/plain": [
       "Validating: 0it [00:00, ?it/s]"
      ]
     },
     "metadata": {},
     "output_type": "display_data"
    },
    {
     "data": {
      "application/vnd.jupyter.widget-view+json": {
       "model_id": "",
       "version_major": 2,
       "version_minor": 0
      },
      "text/plain": [
       "Validating: 0it [00:00, ?it/s]"
      ]
     },
     "metadata": {},
     "output_type": "display_data"
    },
    {
     "data": {
      "application/vnd.jupyter.widget-view+json": {
       "model_id": "",
       "version_major": 2,
       "version_minor": 0
      },
      "text/plain": [
       "Validating: 0it [00:00, ?it/s]"
      ]
     },
     "metadata": {},
     "output_type": "display_data"
    },
    {
     "data": {
      "application/vnd.jupyter.widget-view+json": {
       "model_id": "",
       "version_major": 2,
       "version_minor": 0
      },
      "text/plain": [
       "Validating: 0it [00:00, ?it/s]"
      ]
     },
     "metadata": {},
     "output_type": "display_data"
    },
    {
     "data": {
      "application/vnd.jupyter.widget-view+json": {
       "model_id": "",
       "version_major": 2,
       "version_minor": 0
      },
      "text/plain": [
       "Validating: 0it [00:00, ?it/s]"
      ]
     },
     "metadata": {},
     "output_type": "display_data"
    },
    {
     "data": {
      "application/vnd.jupyter.widget-view+json": {
       "model_id": "",
       "version_major": 2,
       "version_minor": 0
      },
      "text/plain": [
       "Validating: 0it [00:00, ?it/s]"
      ]
     },
     "metadata": {},
     "output_type": "display_data"
    },
    {
     "data": {
      "application/vnd.jupyter.widget-view+json": {
       "model_id": "",
       "version_major": 2,
       "version_minor": 0
      },
      "text/plain": [
       "Validating: 0it [00:00, ?it/s]"
      ]
     },
     "metadata": {},
     "output_type": "display_data"
    },
    {
     "data": {
      "application/vnd.jupyter.widget-view+json": {
       "model_id": "",
       "version_major": 2,
       "version_minor": 0
      },
      "text/plain": [
       "Validating: 0it [00:00, ?it/s]"
      ]
     },
     "metadata": {},
     "output_type": "display_data"
    },
    {
     "data": {
      "application/vnd.jupyter.widget-view+json": {
       "model_id": "",
       "version_major": 2,
       "version_minor": 0
      },
      "text/plain": [
       "Validating: 0it [00:00, ?it/s]"
      ]
     },
     "metadata": {},
     "output_type": "display_data"
    },
    {
     "data": {
      "application/vnd.jupyter.widget-view+json": {
       "model_id": "",
       "version_major": 2,
       "version_minor": 0
      },
      "text/plain": [
       "Validating: 0it [00:00, ?it/s]"
      ]
     },
     "metadata": {},
     "output_type": "display_data"
    },
    {
     "data": {
      "application/vnd.jupyter.widget-view+json": {
       "model_id": "",
       "version_major": 2,
       "version_minor": 0
      },
      "text/plain": [
       "Validating: 0it [00:00, ?it/s]"
      ]
     },
     "metadata": {},
     "output_type": "display_data"
    },
    {
     "data": {
      "application/vnd.jupyter.widget-view+json": {
       "model_id": "",
       "version_major": 2,
       "version_minor": 0
      },
      "text/plain": [
       "Validating: 0it [00:00, ?it/s]"
      ]
     },
     "metadata": {},
     "output_type": "display_data"
    },
    {
     "data": {
      "application/vnd.jupyter.widget-view+json": {
       "model_id": "",
       "version_major": 2,
       "version_minor": 0
      },
      "text/plain": [
       "Validating: 0it [00:00, ?it/s]"
      ]
     },
     "metadata": {},
     "output_type": "display_data"
    }
   ],
   "source": [
    "trainer.fit(model, tr_dl, vl_dl)"
   ]
  },
  {
   "cell_type": "code",
   "execution_count": 14,
   "id": "dee2b3e4-4037-4e30-ac6e-5d2223c46775",
   "metadata": {},
   "outputs": [
    {
     "name": "stderr",
     "output_type": "stream",
     "text": [
      "LOCAL_RANK: 0 - CUDA_VISIBLE_DEVICES: [0,1]\n"
     ]
    },
    {
     "data": {
      "application/vnd.jupyter.widget-view+json": {
       "model_id": "2e9e05f3e23d4a2ebb6476f4224d1270",
       "version_major": 2,
       "version_minor": 0
      },
      "text/plain": [
       "Testing: 0it [00:00, ?it/s]"
      ]
     },
     "metadata": {},
     "output_type": "display_data"
    },
    {
     "name": "stderr",
     "output_type": "stream",
     "text": [
      "LOCAL_RANK: 0 - CUDA_VISIBLE_DEVICES: [0,1]\n"
     ]
    },
    {
     "name": "stdout",
     "output_type": "stream",
     "text": [
      "--------------------------------------------------------------------------------\n",
      "DATALOADER:0 TEST RESULTS\n",
      "{'output': array([[2.0344352e-02, 5.4114027e+00, 3.8827900e-02, 9.7253984e-01],\n",
      "       [3.0357066e-01, 4.8826323e+00, 2.7951223e-01, 4.1130033e+00],\n",
      "       [8.3179809e-03, 2.9981480e+00, 6.0562151e-03, 9.0728879e-01],\n",
      "       ...,\n",
      "       [5.9081514e-05, 4.7101516e-02, 5.9415901e-04, 7.8240335e-02],\n",
      "       [9.6554393e-03, 1.6377442e+00, 4.8758597e-03, 6.1374992e-01],\n",
      "       [8.2178478e-04, 6.9628435e-01, 1.4795987e-03, 3.0288061e-01]],\n",
      "      dtype=float32)}\n",
      "--------------------------------------------------------------------------------\n"
     ]
    },
    {
     "data": {
      "application/vnd.jupyter.widget-view+json": {
       "model_id": "63eb8c7b89354c778290d5f99b8bc5bb",
       "version_major": 2,
       "version_minor": 0
      },
      "text/plain": [
       "Testing: 0it [00:00, ?it/s]"
      ]
     },
     "metadata": {},
     "output_type": "display_data"
    },
    {
     "name": "stderr",
     "output_type": "stream",
     "text": [
      "LOCAL_RANK: 0 - CUDA_VISIBLE_DEVICES: [0,1]\n"
     ]
    },
    {
     "name": "stdout",
     "output_type": "stream",
     "text": [
      "--------------------------------------------------------------------------------\n",
      "DATALOADER:0 TEST RESULTS\n",
      "{'output': array([[2.1846611e-02, 5.5904174e+00, 3.2160528e-02, 9.3710870e-01],\n",
      "       [2.9245180e-01, 4.4601121e+00, 2.7780101e-01, 4.0379829e+00],\n",
      "       [5.7862964e-03, 2.9797142e+00, 5.4847393e-03, 8.7622857e-01],\n",
      "       ...,\n",
      "       [1.2536530e-07, 4.2629946e-02, 1.3947539e-04, 4.7700476e-02],\n",
      "       [6.8819490e-03, 1.5707207e+00, 2.5488315e-03, 5.1102799e-01],\n",
      "       [3.8101818e-04, 6.5960884e-01, 8.2423672e-04, 2.4455880e-01]],\n",
      "      dtype=float32)}\n",
      "--------------------------------------------------------------------------------\n"
     ]
    },
    {
     "data": {
      "application/vnd.jupyter.widget-view+json": {
       "model_id": "ed6aa643b2f04f1f9b757ef3555e1d96",
       "version_major": 2,
       "version_minor": 0
      },
      "text/plain": [
       "Testing: 0it [00:00, ?it/s]"
      ]
     },
     "metadata": {},
     "output_type": "display_data"
    },
    {
     "name": "stdout",
     "output_type": "stream",
     "text": [
      "--------------------------------------------------------------------------------\n",
      "DATALOADER:0 TEST RESULTS\n",
      "{'output': array([[2.1433821e-02, 5.8686676e+00, 3.9454009e-02, 9.9180800e-01],\n",
      "       [2.9279873e-01, 4.3542242e+00, 2.5084311e-01, 3.7104950e+00],\n",
      "       [6.1727557e-03, 2.9906769e+00, 6.5113218e-03, 8.9645201e-01],\n",
      "       ...,\n",
      "       [4.4587387e-06, 4.7075085e-02, 3.2672490e-04, 6.0530439e-02],\n",
      "       [6.4131110e-03, 1.6224226e+00, 2.9968563e-03, 5.5533803e-01],\n",
      "       [6.3960563e-04, 6.6938227e-01, 1.3875967e-03, 2.5881305e-01]],\n",
      "      dtype=float32)}\n",
      "--------------------------------------------------------------------------------\n"
     ]
    },
    {
     "data": {
      "text/plain": [
       "1.340572125351303"
      ]
     },
     "execution_count": 14,
     "metadata": {},
     "output_type": "execute_result"
    }
   ],
   "source": [
    "from pathlib import Path\n",
    "top_model_files = Path(f\"data/checkpoints/{D}_{seed}_{version}\").glob(\"*.ckpt\")\n",
    "top_model_files = sorted(top_model_files, key=lambda x: float(x.stem.split(\"=\")[-1]))[:3]\n",
    "\n",
    "preds_nn = []\n",
    "for file in top_model_files:\n",
    "    model.load_state_dict(torch.load(str(file))[\"state_dict\"], strict=False)\n",
    "    model.freeze()\n",
    "    preds = trainer.test(model, vl_dl)[0]['output']\n",
    "    preds_nn.append(preds)\n",
    "\n",
    "preds_nn = np.mean(preds_nn, 0)\n",
    "mae(preds_nn, vl_labels)"
   ]
  },
  {
   "cell_type": "code",
   "execution_count": 15,
   "id": "874326e4-595e-4066-9685-c413c1317578",
   "metadata": {},
   "outputs": [
    {
     "data": {
      "text/html": [
       "<br/>Waiting for W&B process to finish, PID 147796<br/>Program ended successfully."
      ],
      "text/plain": [
       "<IPython.core.display.HTML object>"
      ]
     },
     "metadata": {},
     "output_type": "display_data"
    },
    {
     "data": {
      "application/vnd.jupyter.widget-view+json": {
       "model_id": "",
       "version_major": 2,
       "version_minor": 0
      },
      "text/plain": [
       "VBox(children=(Label(value=' 0.00MB of 0.00MB uploaded (0.00MB deduped)\\r'), FloatProgress(value=1.0, max=1.0)…"
      ]
     },
     "metadata": {},
     "output_type": "display_data"
    },
    {
     "data": {
      "text/html": [
       "Find user logs for this run at: <code>/home/mohsin_okcredit_in/projects/mlb/wandb/run-20210727_110241-2evuudh4/logs/debug.log</code>"
      ],
      "text/plain": [
       "<IPython.core.display.HTML object>"
      ]
     },
     "metadata": {},
     "output_type": "display_data"
    },
    {
     "data": {
      "text/html": [
       "Find internal logs for this run at: <code>/home/mohsin_okcredit_in/projects/mlb/wandb/run-20210727_110241-2evuudh4/logs/debug-internal.log</code>"
      ],
      "text/plain": [
       "<IPython.core.display.HTML object>"
      ]
     },
     "metadata": {},
     "output_type": "display_data"
    },
    {
     "data": {
      "text/html": [
       "<h3>Run summary:</h3><br/><style>\n",
       "    table.wandb td:nth-child(1) { padding: 0 10px; text-align: right }\n",
       "    </style><table class=\"wandb\">\n",
       "<tr><td>train/loss_step</td><td>1.01296</td></tr><tr><td>epoch</td><td>49</td></tr><tr><td>trainer/global_step</td><td>17400</td></tr><tr><td>_runtime</td><td>367</td></tr><tr><td>_timestamp</td><td>1627384128</td></tr><tr><td>_step</td><td>450</td></tr><tr><td>train/loss_epoch</td><td>1.0645</td></tr><tr><td>val/loss</td><td>1.34619</td></tr></table>"
      ],
      "text/plain": [
       "<IPython.core.display.HTML object>"
      ]
     },
     "metadata": {},
     "output_type": "display_data"
    },
    {
     "data": {
      "text/html": [
       "<h3>Run history:</h3><br/><style>\n",
       "    table.wandb td:nth-child(1) { padding: 0 10px; text-align: right }\n",
       "    </style><table class=\"wandb\">\n",
       "<tr><td>train/loss_step</td><td>▇▆█▄▆▃▇▆▅▃▂▅▇▄▂▃▄▄▂▂▄▃▅▁▄▄▅▂▃▄▄▃▃▁▂▄▂▄▄▂</td></tr><tr><td>epoch</td><td>▁▁▁▂▂▂▂▂▂▃▃▃▃▃▃▄▄▄▄▄▅▅▅▅▅▆▆▆▆▆▆▇▇▇▇▇▇███</td></tr><tr><td>trainer/global_step</td><td>▁▁▁▁▂▂▂▂▂▃▃▃▃▃▃▄▄▄▄▄▅▅▅▅▅▅▆▆▆▆▆▇▇▇▇▇▇███</td></tr><tr><td>_runtime</td><td>▁▁▁▁▂▂▂▂▂▃▃▃▃▃▃▄▄▄▄▄▅▅▅▅▅▅▆▆▆▆▆▇▇▇▇▇▇███</td></tr><tr><td>_timestamp</td><td>▁▁▁▁▂▂▂▂▂▃▃▃▃▃▃▄▄▄▄▄▅▅▅▅▅▅▆▆▆▆▆▇▇▇▇▇▇███</td></tr><tr><td>_step</td><td>▁▁▁▂▂▂▂▂▂▃▃▃▃▃▃▄▄▄▄▄▅▅▅▅▅▅▆▆▆▆▆▇▇▇▇▇▇███</td></tr><tr><td>train/loss_epoch</td><td>█▂▂▂▂▂▂▂▂▂▂▂▂▂▁▁▁▁▁▁▁▁▁▁▁▁▁▁▁▁▁▁▁▁▁▁▁▁▁▁</td></tr><tr><td>val/loss</td><td>█▅▅▄▅▆▄▄▃▃▃▂▃▂▂▂▄▂▃▄▂▄▆▃▁▁▂▁▂▂▂▁▁▁▁▁▂▂▂▁</td></tr></table><br/>"
      ],
      "text/plain": [
       "<IPython.core.display.HTML object>"
      ]
     },
     "metadata": {},
     "output_type": "display_data"
    },
    {
     "data": {
      "text/html": [
       "Synced 6 W&B file(s), 0 media file(s), 0 artifact file(s) and 0 other file(s)"
      ],
      "text/plain": [
       "<IPython.core.display.HTML object>"
      ]
     },
     "metadata": {},
     "output_type": "display_data"
    },
    {
     "data": {
      "text/html": [
       "\n",
       "                    <br/>Synced <strong style=\"color:#cdcd00\">nnflat_vl15_196_4578690</strong>: <a href=\"https://wandb.ai/mohsinhkn/mlb/runs/2evuudh4\" target=\"_blank\">https://wandb.ai/mohsinhkn/mlb/runs/2evuudh4</a><br/>\n",
       "                "
      ],
      "text/plain": [
       "<IPython.core.display.HTML object>"
      ]
     },
     "metadata": {},
     "output_type": "display_data"
    }
   ],
   "source": [
    "wandb.finish()"
   ]
  },
  {
   "cell_type": "code",
   "execution_count": 16,
   "id": "a19966d4-034a-4dc4-ae90-0c7922789920",
   "metadata": {},
   "outputs": [
    {
     "name": "stdout",
     "output_type": "stream",
     "text": [
      "[PosixPath('data/checkpoints/196_4578690_v1/epoch=31-val_loss=1.3397.ckpt'), PosixPath('data/checkpoints/196_4578690_v1/epoch=34-val_loss=1.3425.ckpt'), PosixPath('data/checkpoints/196_4578690_v1/epoch=44-val_loss=1.3439.ckpt')]\n"
     ]
    }
   ],
   "source": [
    "print(top_model_files)"
   ]
  },
  {
   "cell_type": "code",
   "execution_count": 17,
   "id": "ef94fbb2-7e5f-42de-aa8f-58d2f19284d9",
   "metadata": {},
   "outputs": [],
   "source": [
    "predst1_lgb = np.load(\"data/lgb_t1_logv1.npy\")\n",
    "predst2_lgb = np.load(\"data/lgb_t2_logv1.npy\")\n",
    "predst3_lgb = np.load(\"data/lgb_t3_logv1.npy\")\n",
    "predst4_lgb = np.load(\"data/lgb_t4_logv1.npy\")"
   ]
  },
  {
   "cell_type": "code",
   "execution_count": 18,
   "id": "47ff8655-4e2f-4e90-9e61-2b369a667f7e",
   "metadata": {},
   "outputs": [],
   "source": [
    "preds_lgb = np.vstack((predst1_lgb, predst2_lgb, predst3_lgb, predst4_lgb)).T\n"
   ]
  },
  {
   "cell_type": "code",
   "execution_count": 19,
   "id": "7f600983-67c5-4236-8063-cb9065d1a410",
   "metadata": {},
   "outputs": [],
   "source": [
    "targets = np.load(\"data/vl_small_labels.npy\")"
   ]
  },
  {
   "cell_type": "code",
   "execution_count": 20,
   "id": "5e495490-89da-4b2a-94bc-bab43b8938de",
   "metadata": {},
   "outputs": [
    {
     "data": {
      "text/plain": [
       "(1.340572125351303, 1.340091999651442, 1.3284369529729143)"
      ]
     },
     "execution_count": 20,
     "metadata": {},
     "output_type": "execute_result"
    }
   ],
   "source": [
    "mae(targets, preds_nn), mae(targets, preds_lgb), mae(targets, preds_lgb*0.7 + preds_nn*0.3)"
   ]
  },
  {
   "cell_type": "code",
   "execution_count": 21,
   "id": "ddeef857-6c3e-4f73-9329-5c47d26a331e",
   "metadata": {},
   "outputs": [],
   "source": [
    "import matplotlib.pyplot as plt \n",
    "import seaborn as sns"
   ]
  },
  {
   "cell_type": "code",
   "execution_count": 22,
   "id": "a5b48584-2e48-4567-bea1-52a635463894",
   "metadata": {},
   "outputs": [
    {
     "data": {
      "text/plain": [
       "<seaborn.axisgrid.FacetGrid at 0x7f7ed70203a0>"
      ]
     },
     "execution_count": 22,
     "metadata": {},
     "output_type": "execute_result"
    },
    {
     "data": {
      "image/png": "[encoded data removed]",
      "text/plain": [
       "<Figure size 360x360 with 1 Axes>"
      ]
     },
     "metadata": {
      "needs_background": "light"
     },
     "output_type": "display_data"
    },
    {
     "data": {
      "image/png": "[encoded data removed]",
      "text/plain": [
       "<Figure size 360x360 with 1 Axes>"
      ]
     },
     "metadata": {
      "needs_background": "light"
     },
     "output_type": "display_data"
    }
   ],
   "source": [
    "sns.displot(preds_nn[:, 1])\n",
    "sns.displot(preds_lgb[:, 1])"
   ]
  },
  {
   "cell_type": "code",
   "execution_count": 23,
   "id": "877a5940-1e91-458e-8189-1a36b221795f",
   "metadata": {},
   "outputs": [
    {
     "data": {
      "text/plain": [
       "(array([0.02120826, 5.6234956 , 0.03681415, 0.9671522 ], dtype=float32),\n",
       " array([0.02419203, 8.02964874, 0.02313256, 1.66414533]))"
      ]
     },
     "execution_count": 23,
     "metadata": {},
     "output_type": "execute_result"
    }
   ],
   "source": [
    "preds_nn[0], preds_lgb[0]"
   ]
  },
  {
   "cell_type": "code",
   "execution_count": null,
   "id": "ad0852dd-f07c-4b56-9054-d034a73e1c1e",
   "metadata": {},
   "outputs": [],
   "source": []
  }
 ],
 "metadata": {
  "kernelspec": {
   "display_name": "Python 3",
   "language": "python",
   "name": "python3"
  },
  "language_info": {
   "codemirror_mode": {
    "name": "ipython",
    "version": 3
   },
   "file_extension": ".py",
   "mimetype": "text/x-python",
   "name": "python",
   "nbconvert_exporter": "python",
   "pygments_lexer": "ipython3",
   "version": "3.8.10"
  }
 },
 "nbformat": 4,
 "nbformat_minor": 5
}
