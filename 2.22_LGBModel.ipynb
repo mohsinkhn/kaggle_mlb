{
 "cells": [
  {
   "cell_type": "code",
   "execution_count": 1,
   "id": "bb785e4a-eacf-450e-87aa-3aae7b254703",
   "metadata": {},
   "outputs": [],
   "source": [
    "import json\n",
    "import pandas as pd\n",
    "import matplotlib.pyplot as plt\n",
    "import numpy as np\n",
    "import seaborn as sns\n",
    "from sklearn.pipeline import make_union, make_pipeline\n",
    "\n",
    "from mllib.transformers import *\n",
    "from src.pipelines.artifacts import *\n",
    "from src.constants import (\n",
    "    TARGETS,\n",
    "    PLTWITTER,\n",
    "    SCORES1,\n",
    "    SCORES2,\n",
    "    SCORES3,\n",
    "    SCORES4,\n",
    "    SCORES5,\n",
    "    TEAM_SCORES1,\n",
    "    TEAM_SCORES2,\n",
    "    TEAM_SCORES3,\n",
    "    TEAM_STANDINGS,\n",
    "    AWARDS,\n",
    "    ROSTERS,\n",
    "    TRANSACTIONS,\n",
    "    AWARDID_DICT\n",
    ")\n",
    "from src.constants import (\n",
    "    playerid_mapping,\n",
    "    teamid_mapping,\n",
    "    targets_artifact,\n",
    "    scores1_mean_artifact,\n",
    "    scores1_first_artifact,\n",
    "    scores1_last_artifact,\n",
    "    scores2_mean_artifact,\n",
    "    scores2_first_artifact,\n",
    "    scores2_last_artifact,\n",
    "    scores3_mean_artifact,\n",
    "    scores3_first_artifact,\n",
    "    scores3_last_artifact,\n",
    "    scores4_mean_artifact,\n",
    "    scores4_first_artifact,\n",
    "    scores4_last_artifact,\n",
    "    scores5_mean_artifact,\n",
    "    scores5_first_artifact,\n",
    "    scores5_last_artifact,\n",
    "    team_scores1_mean_artifact,\n",
    "    team_scores2_mean_artifact,\n",
    "    team_scores3_mean_artifact,\n",
    "    awards_artifact,\n",
    "    rosters_artifact,\n",
    "    player_twitter_artifact,\n",
    "    transactions_artifact,\n",
    "    team_standings_artifact,\n",
    "    event_artifact\n",
    ")"
   ]
  },
  {
   "cell_type": "code",
   "execution_count": 2,
   "id": "82229a74-1b1c-4f31-b52c-e6184285c068",
   "metadata": {},
   "outputs": [],
   "source": [
    "# Generate index\n",
    "TRAIN_FILE = \"data/train_updated.csv\"\n",
    "VAL_START_DATE = 20210701\n",
    "DEVICE = 'gpu'\n",
    "device = DEVICE\n",
    "artifacts_path = 'data/artifacts/v02'"
   ]
  },
  {
   "cell_type": "code",
   "execution_count": 3,
   "id": "0b727866-3ca3-48c9-9e01-f1c50722f228",
   "metadata": {},
   "outputs": [
    {
     "name": "stderr",
     "output_type": "stream",
     "text": [
      "  1%|          | 7/1277 [00:00<00:19, 65.40it/s]"
     ]
    },
    {
     "name": "stdout",
     "output_type": "stream",
     "text": [
      "(1294, 12) (17, 12)\n"
     ]
    },
    {
     "name": "stderr",
     "output_type": "stream",
     "text": [
      "100%|██████████| 1277/1277 [00:18<00:00, 68.02it/s]\n",
      "100%|██████████| 17/17 [00:00<00:00, 69.03it/s]\n"
     ]
    }
   ],
   "source": [
    "raw_data = pd.read_csv(TRAIN_FILE)\n",
    "tr = raw_data.loc[raw_data.date < VAL_START_DATE]\n",
    "val = raw_data.loc[raw_data.date >= VAL_START_DATE]\n",
    "print(raw_data.shape, val.shape)\n",
    "\n",
    "roster_2021 = pd.read_csv(\"data/players.csv\")\n",
    "roster_2021 = roster_2021.loc[roster_2021.playerForTestSetAndFuturePreds == True]\n",
    "target_enc = ParsePlayerData(\"nextDayPlayerEngagement\", TARGETS)\n",
    "tr_index = target_enc.fit_transform(tr).reset_index(drop=False)\n",
    "tr_index = tr_index.loc[tr_index.playerId.isin(roster_2021.playerId.astype(str))]\n",
    "# tr_index['debutdate'] = tr_index.map()\n",
    "vl_index = target_enc.fit_transform(val).reset_index(drop=False)\n",
    "vl_index = vl_index.loc[vl_index.playerId.isin(roster_2021.playerId.astype(str))]\n",
    "tr_index.to_csv(\"data/tr_index_smallv02.csv\", index=False)\n",
    "vl_index.to_csv(\"data/vl_index_smallv02.csv\", index=False)"
   ]
  },
  {
   "cell_type": "code",
   "execution_count": 11,
   "id": "73d56d61-233b-4510-9abc-5510263f8679",
   "metadata": {},
   "outputs": [],
   "source": [
    "# raw_data = pd.read_csv(\"data/train_updated.csv\")\n",
    "# vl = raw_data.loc[raw_data.date > 20210501]\n",
    "# roster_2021 = pd.read_csv(\"data/players.csv\")\n",
    "# roster_2021 = roster_2021.loc[roster_2021.playerForTestSetAndFuturePreds == True]\n",
    "# target_enc = ParsePlayerData(\"nextDayPlayerEngagement\", TARGETS)\n",
    "# vl_index2 = target_enc.fit_transform(vl).reset_index(drop=False)\n",
    "# vl_index2 = vl_index2.loc[vl_index2.playerId.isin(roster_2021.playerId.astype(str))]\n",
    "# vl_index2.to_csv(\"data/vl_index_small2.csv\", index=False)"
   ]
  },
  {
   "cell_type": "code",
   "execution_count": 4,
   "id": "391b7a8b-ba45-48e6-9bd4-641091011360",
   "metadata": {},
   "outputs": [
    {
     "data": {
      "text/plain": [
       "((1515799, 6), (20179, 6))"
      ]
     },
     "execution_count": 4,
     "metadata": {},
     "output_type": "execute_result"
    }
   ],
   "source": [
    "tr_index = pd.read_csv(\"data/tr_index_smallv02.csv\")\n",
    "vl_index = pd.read_csv(\"data/vl_index_smallv02.csv\")\n",
    "#vl_indexw = pd.read_csv(\"data/vl_index_small2.csv\")\n",
    "\n",
    "tr_index.shape, vl_index.shape, #vl_index2.shape"
   ]
  },
  {
   "cell_type": "code",
   "execution_count": 5,
   "id": "985a0bf4-318a-46e7-aff8-4cdaccca8dd5",
   "metadata": {},
   "outputs": [
    {
     "data": {
      "text/html": [
       "<div>\n",
       "<style scoped>\n",
       "    .dataframe tbody tr th:only-of-type {\n",
       "        vertical-align: middle;\n",
       "    }\n",
       "\n",
       "    .dataframe tbody tr th {\n",
       "        vertical-align: top;\n",
       "    }\n",
       "\n",
       "    .dataframe thead th {\n",
       "        text-align: right;\n",
       "    }\n",
       "</style>\n",
       "<table border=\"1\" class=\"dataframe\">\n",
       "  <thead>\n",
       "    <tr style=\"text-align: right;\">\n",
       "      <th></th>\n",
       "      <th>date</th>\n",
       "      <th>seasonflag</th>\n",
       "      <th>season_start</th>\n",
       "      <th>season_end</th>\n",
       "      <th>all_star</th>\n",
       "    </tr>\n",
       "  </thead>\n",
       "  <tbody>\n",
       "    <tr>\n",
       "      <th>0</th>\n",
       "      <td>20180101</td>\n",
       "      <td>0</td>\n",
       "      <td>2018-03-29</td>\n",
       "      <td>2018-10-28</td>\n",
       "      <td>2018-07-17</td>\n",
       "    </tr>\n",
       "    <tr>\n",
       "      <th>1</th>\n",
       "      <td>20180102</td>\n",
       "      <td>0</td>\n",
       "      <td>2018-03-29</td>\n",
       "      <td>2018-10-28</td>\n",
       "      <td>2018-07-17</td>\n",
       "    </tr>\n",
       "    <tr>\n",
       "      <th>2</th>\n",
       "      <td>20180103</td>\n",
       "      <td>0</td>\n",
       "      <td>2018-03-29</td>\n",
       "      <td>2018-10-28</td>\n",
       "      <td>2018-07-17</td>\n",
       "    </tr>\n",
       "    <tr>\n",
       "      <th>3</th>\n",
       "      <td>20180104</td>\n",
       "      <td>0</td>\n",
       "      <td>2018-03-29</td>\n",
       "      <td>2018-10-28</td>\n",
       "      <td>2018-07-17</td>\n",
       "    </tr>\n",
       "    <tr>\n",
       "      <th>4</th>\n",
       "      <td>20180105</td>\n",
       "      <td>0</td>\n",
       "      <td>2018-03-29</td>\n",
       "      <td>2018-10-28</td>\n",
       "      <td>2018-07-17</td>\n",
       "    </tr>\n",
       "  </tbody>\n",
       "</table>\n",
       "</div>"
      ],
      "text/plain": [
       "       date  seasonflag season_start  season_end    all_star\n",
       "0  20180101           0   2018-03-29  2018-10-28  2018-07-17\n",
       "1  20180102           0   2018-03-29  2018-10-28  2018-07-17\n",
       "2  20180103           0   2018-03-29  2018-10-28  2018-07-17\n",
       "3  20180104           0   2018-03-29  2018-10-28  2018-07-17\n",
       "4  20180105           0   2018-03-29  2018-10-28  2018-07-17"
      ]
     },
     "execution_count": 5,
     "metadata": {},
     "output_type": "execute_result"
    }
   ],
   "source": [
    "seasons = pd.read_csv(\"data/seasons_formatted.csv\")\n",
    "seasons.head()"
   ]
  },
  {
   "cell_type": "code",
   "execution_count": 6,
   "id": "3c042786-e621-4c8c-bdaf-b6abba8839ce",
   "metadata": {},
   "outputs": [
    {
     "data": {
      "text/plain": [
       "425"
      ]
     },
     "execution_count": 6,
     "metadata": {},
     "output_type": "execute_result"
    }
   ],
   "source": [
    "f1 = [f'scores3_{i}' for i in range(11)]\n",
    "f2 = [f'scores3_count_last{j}_last{i}' for i in range(11) for j in [10, 30, 300]]\n",
    "f3 = [f'scores1_{i}_lag{j}' for j in range(2) for i in range(5)]\n",
    "f4 = [f'scores2_{i}_lag{j}' for i in range(24) for j in range(2)]\n",
    "f5 = [f'scores2_{i}_mean{j}' for i in range(24) for j in [10, 30, 300]]\n",
    "f6 = [f'scores2_{i}_sum{j}' for i in range(24) for j in [10, 30, 300]]\n",
    "f7 = [f'scores4_{i}_lag{j}' for i in range(15) for j in range(2)]\n",
    "f8 = [f'scores4_{i}_mean{j}' for i in range(15) for j in [10, 30, 300]]\n",
    "f9 = [f'scores4_{i}_sum{j}' for i in range(15) for j in [10, 30, 300]]\n",
    "f10 = [f'scores5_{i}_lag{j}' for i in range(21) for j in range(1)]\n",
    "f11 = [f'target_{i}_mean{j}' for j in [10, 28, 365, 1500] for i in range(4)]\n",
    "f12 = [f'target_{i}_{stat}' for stat in ['max', 'min', 'q75', 'q25'] for i in range(4)]\n",
    "f13 = ['last_award', 'num_awards', 'last_txn', 'is_active', 'player_twitter', 'position_code']\n",
    "fnames = f1 + f2 + f3 + f4 + f5 + f6 +f7 +f8 + f9 + f10 + f11 + f12 + f13\n",
    "len(fnames)"
   ]
  },
  {
   "cell_type": "code",
   "execution_count": 7,
   "id": "89c72783-0fe3-42d7-b8ae-4cbfdda3f123",
   "metadata": {},
   "outputs": [
    {
     "data": {
      "text/plain": [
       "(54, 246)"
      ]
     },
     "execution_count": 7,
     "metadata": {},
     "output_type": "execute_result"
    }
   ],
   "source": [
    "len(f1+f2+f3), len(f1+f2+f3+f4+f5+f6)"
   ]
  },
  {
   "cell_type": "code",
   "execution_count": 8,
   "id": "6944281e-56ee-473d-8719-e99fbc7bc98e",
   "metadata": {},
   "outputs": [],
   "source": [
    "target_stats_train = make_union(\n",
    "    ExpandingMean('date', 'playerId', list(range(0, 4)), f'{artifacts_path}/{targets_artifact}', N=7, skip=10, device=DEVICE, fill_value=0),\n",
    "    ExpandingMean('date', 'playerId', list(range(0, 4)), f'{artifacts_path}/{targets_artifact}', N=30, skip=10, device=DEVICE, fill_value=0),\n",
    "    ExpandingMean('date', 'playerId', list(range(0, 4)), f'{artifacts_path}/{targets_artifact}', N=60, skip=10, device=DEVICE, fill_value=0), \n",
    "    ExpandingMean('date', 'playerId', list(range(0, 4)), f'{artifacts_path}/{targets_artifact}', N=300, skip=10, device=DEVICE, fill_value=0),\n",
    "    # ExpandingMedian('date', 'playerId', list(range(0, 4)), f'{artifacts_path}/{targets_artifact}', N=2000, skip=15, device=DEVICE, fill_value=0), \n",
    "#     ExpandingMax('date', 'playerId', list(range(0, 4)), f'{artifacts_path}/{targets_artifact}', N=30, skip=15, device=DEVICE, fill_value=0), \n",
    "#     ExpandingMin('date', 'playerId', list(range(0, 4)), f'{artifacts_path}/{targets_artifact}', N=30, skip=15, device=DEVICE, fill_value=0),\n",
    "#     # ExpandingMedian('date', 'playerId', list(range(0, 4)), f'{artifacts_path}/{targets_artifact}', N=20, skip=3, device=DEVICE, fill_value=0), \n",
    "#     ExpandingQ75('date', 'playerId', list(range(0, 4)), f'{artifacts_path}/{targets_artifact}', N=30, skip=15, device=DEVICE, fill_value=0), \n",
    "#     ExpandingQ25('date', 'playerId', list(range(0, 4)), f'{artifacts_path}/{targets_artifact}', N=30, skip=15, device=DEVICE, fill_value=0),\n",
    "#     ExpandingQ75('date', 'playerId', list(range(0, 4)), f'{artifacts_path}/{targets_artifact}', N=100, skip=15, device=DEVICE, fill_value=0), \n",
    "#     ExpandingQ25('date', 'playerId', list(range(0, 4)), f'{artifacts_path}/{targets_artifact}', N=100, skip=15, device=DEVICE, fill_value=0),\n",
    "#     LagN('date', 'playerId', [0, 1, 2, 3], f'{artifacts_path}/{targets_artifact}', N=1, skip=15, device=DEVICE, fill_value=0),\n",
    "#     LagN('date', 'playerId', [0, 1, 2, 3], f'{artifacts_path}/{targets_artifact}', N=2, skip=15, device=DEVICE, fill_value=0),\n",
    "#     LagN('date', 'playerId', [0, 1, 2, 3], f'{artifacts_path}/{targets_artifact}', N=3, skip=15, device=DEVICE, fill_value=0),\n",
    "    # LagN('date', 'playerId', [0, 1, 2, 3], f'{artifacts_path}/{targets_artifact}', N=4, skip=2, device=DEVICE, fill_value=0),\n",
    "    # LagN('date', 'playerId', [0, 1, 2, 3], f'{artifacts_path}/{targets_artifact}', N=5, skip=2, device=DEVICE, fill_value=0),\n",
    "    # LagN('date', 'playerId', [0, 1, 2, 3], f'{artifacts_path}/{targets_artifact}', N=6, skip=2, device=DEVICE, fill_value=0),\n",
    "    # LagN('date', 'playerId', [0, 1, 2, 3], f'{artifacts_path}/{targets_artifact}', N=7, skip=2, device=DEVICE, fill_value=0),\n",
    ")\n",
    "\n",
    "target_stats_test = make_union(\n",
    "    ExpandingMean('date', 'playerId', list(range(0, 4)), f'{artifacts_path}/{targets_artifact}', N=7, skip=1, device=DEVICE, fill_value=0),\n",
    "    ExpandingMean('date', 'playerId', list(range(0, 4)), f'{artifacts_path}/{targets_artifact}', N=30, skip=1, device=DEVICE, fill_value=0),\n",
    "    ExpandingMean('date', 'playerId', list(range(0, 4)), f'{artifacts_path}/{targets_artifact}', N=60, skip=1, device=DEVICE, fill_value=0), \n",
    "    ExpandingMean('date', 'playerId', list(range(0, 4)), f'{artifacts_path}/{targets_artifact}', N=300, skip=1, device=DEVICE, fill_value=0),\n",
    "    # ExpandingMedian('date', 'playerId', list(range(0, 4)), f'{artifacts_path}/{targets_artifact}', N=2000, skip=1, device=DEVICE, fill_value=0), \n",
    "#     ExpandingMax('date', 'playerId', list(range(0, 4)), f'{artifacts_path}/{targets_artifact}', N=30, skip=1, device=DEVICE, fill_value=0), \n",
    "#     ExpandingMin('date', 'playerId', list(range(0, 4)), f'{artifacts_path}/{targets_artifact}', N=30, skip=1, device=DEVICE, fill_value=0),\n",
    "#     # ExpandingMedian('date', 'playerId', list(range(0, 4)), f'{artifacts_path}/{targets_artifact}', N=20, skip=3, device=DEVICE, fill_value=0), \n",
    "#     ExpandingQ75('date', 'playerId', list(range(0, 4)), f'{artifacts_path}/{targets_artifact}', N=30, skip=1, device=DEVICE, fill_value=0), \n",
    "#     ExpandingQ25('date', 'playerId', list(range(0, 4)), f'{artifacts_path}/{targets_artifact}', N=30, skip=1, device=DEVICE, fill_value=0),\n",
    "#     ExpandingQ75('date', 'playerId', list(range(0, 4)), f'{artifacts_path}/{targets_artifact}', N=100, skip=1, device=DEVICE, fill_value=0), \n",
    "#     ExpandingQ25('date', 'playerId', list(range(0, 4)), f'{artifacts_path}/{targets_artifact}', N=100, skip=1, device=DEVICE, fill_value=0),\n",
    "#     LagN('date', 'playerId', [0, 1, 2, 3], f'{artifacts_path}/{targets_artifact}', N=1, skip=1, device=DEVICE, fill_value=0),\n",
    "#     LagN('date', 'playerId', [0, 1, 2, 3], f'{artifacts_path}/{targets_artifact}', N=2, skip=1, device=DEVICE, fill_value=0),\n",
    "#     LagN('date', 'playerId', [0, 1, 2, 3], f'{artifacts_path}/{targets_artifact}', N=3, skip=1, device=DEVICE, fill_value=0),\n",
    "    # LagN('date', 'playerId', [0, 1, 2, 3], f'{artifacts_path}/{targets_artifact}', N=4, skip=2, device=DEVICE, fill_value=0),\n",
    "    # LagN('date', 'playerId', [0, 1, 2, 3], f'{artifacts_path}/{targets_artifact}', N=5, skip=2, device=DEVICE, fill_value=0),\n",
    "    # LagN('date', 'playerId', [0, 1, 2, 3], f'{artifacts_path}/{targets_artifact}', N=6, skip=2, device=DEVICE, fill_value=0),\n",
    "    # LagN('date', 'playerId', [0, 1, 2, 3], f'{artifacts_path}/{targets_artifact}', N=7, skip=2, device=DEVICE, fill_value=0),\n",
    ")\n",
    "\n",
    "other_features = make_union(\n",
    "    LagN('date', 'playerId', [0], f'{artifacts_path}/train_awards.pkl', fill_value=-1, N=1, skip=0, device=device),\n",
    "    ExpandingCount('date', 'playerId', [0], f'{artifacts_path}/train_awards.pkl', fill_value=0, N=365, skip=0, device=device),\n",
    "    # ExpandingCount('date', 'playerId', [0], f'{artifacts_path}/train_awards.pkl', fill_value=0, N=30, skip=0, device=device),\n",
    "    LagN('date', 'playerId', [0, 1, 2], f'{artifacts_path}/train_transactions.pkl', fill_value=-1, N=1, skip=0, device=device),\n",
    "    LagN('date', 'playerId', [0], f'{artifacts_path}/train_rosters.pkl', fill_value=-1, N=1, skip=0, device=device),\n",
    "    ExpandingCount('date', 'playerId', [0], f'{artifacts_path}/train_rosters.pkl', fill_value=0, N=30, skip=0, device=device),\n",
    "    ExpandingCount('date', 'playerId', [0], f'{artifacts_path}/train_rosters.pkl', fill_value=0, N=300, skip=0, device=device),\n",
    "    make_pipeline(LagN('date', 'playerId', [0], f'{artifacts_path}/train_pltwitter.pkl', fill_value=0, N=1, skip=0, device=device),\n",
    "                  FunctionTransfomer(np.log1p)),\n",
    ")\n",
    "\n",
    "scores1 = make_union(\n",
    "        LagN('date', 'playerId', [0, 1, 2, 3], f'{artifacts_path}/{scores1_mean_artifact}', fill_value=-1, N=1, skip=0, device=device),\n",
    "        LagN('date', 'playerId', [4], f'{artifacts_path}/{scores1_mean_artifact}', N=  1, skip=0, fill_value=0, device=device),\n",
    "    *[\n",
    "        LagN('date', 'playerId', [0, 4], f'{artifacts_path}/{scores1_mean_artifact}', fill_value=-1, N=j+1, skip=0, device=device)\n",
    "        for j in range(1, 14)\n",
    "    ],\n",
    "\n",
    "    ExpandingCount('date', 'playerId', [0], f'{artifacts_path}/{scores1_mean_artifact}', fill_value=0, N=30, skip=0, device=device),\n",
    "    #ExpandingCount('date', 'playerId', [4], f'{artifacts_path}/{scores1_mean_artifact}', N=30, skip=0, fill_value=0, device=device),\n",
    ")\n",
    "\n",
    "scores3 = make_union(\n",
    "    *[\n",
    "        LagN('date', 'playerId', list(range(i*4, (i+1)*4)), f'{artifacts_path}/{scores3_mean_artifact}', fill_value=0, N=1, skip=0, device=device)\n",
    "         for i in range(2)\n",
    "     ],\n",
    "    LagN('date', 'playerId', [8, 9, 10], f'{artifacts_path}/{scores3_mean_artifact}', fill_value=0, N=1, skip=0, device=device),\n",
    "\n",
    "    *[\n",
    "        ExpandingSum('date', 'playerId', list(range(i*4, (i+1)*4)), f'{artifacts_path}/{scores3_mean_artifact}', fill_value=0, N=10, skip=0, device=device)\n",
    "         for i in range(2)\n",
    "     ],\n",
    "    ExpandingSum('date', 'playerId', [8, 9, 10], f'{artifacts_path}/{scores3_mean_artifact}', fill_value=0, N=10, skip=0, device=device),\n",
    "    *[\n",
    "        ExpandingSum('date', 'playerId', list(range(i*4, (i+1)*4)), f'{artifacts_path}/{scores3_mean_artifact}', fill_value=0, N=200, skip=0, device=device)\n",
    "         for i in range(2)\n",
    "     ],\n",
    "    ExpandingSum('date', 'playerId', [8, 9, 10], f'{artifacts_path}/{scores3_mean_artifact}', fill_value=0, N=200, skip=0, device=device),\n",
    "\n",
    ")\n",
    "\n",
    "scores2 = make_union(\n",
    "    *[\n",
    "        LagN('date', 'playerId', list(range(i*4, (i+1)*4)), f'{artifacts_path}/{scores2_mean_artifact}', fill_value=0, N=j+1, skip=0, device=device)\n",
    "        for i in range(6) for j in range(3)\n",
    "     ],\n",
    "    *[\n",
    "        ExpandingMean('date', 'playerId', list(range(i*4, (i+1)*4)), f'{artifacts_path}/{scores2_mean_artifact}', fill_value=0, N=j, skip=0, device=device)\n",
    "        for i in range(6) for j in [30]\n",
    "     ],\n",
    "    *[\n",
    "        ExpandingSum('date', 'playerId', list(range(i*4, (i+1)*4)), f'{artifacts_path}/{scores2_mean_artifact}', fill_value=0, N=j, skip=0, device=device)\n",
    "        for i in range(6) for j in [30]\n",
    "     ],\n",
    "    *[\n",
    "        ExpandingSum('date', 'playerId', list(range(i*4, (i+1)*4)), f'{artifacts_path}/{scores2_mean_artifact}', fill_value=0, N=j, skip=0, device=device)\n",
    "        for i in range(6) for j in [150]\n",
    "     ],\n",
    ")\n",
    "\n",
    "scores4 = make_union(\n",
    "    *[\n",
    "        LagN('date', 'playerId', list(range(i*4, (i+1)*4)), f'{artifacts_path}/{scores4_mean_artifact}', fill_value=0, N=j+1, skip=0, device=device)\n",
    "        for i in range(3) for j in range(2)\n",
    "     ],\n",
    "    *[\n",
    "        LagN('date', 'playerId', [12, 13, 14], f'{artifacts_path}/{scores4_mean_artifact}', fill_value=0, N=j+1, skip=0, device=device)\n",
    "        for j in range(2)\n",
    "     ],\n",
    "    *[\n",
    "        ExpandingMean('date', 'playerId', list(range(i*4, (i+1)*4)), f'{artifacts_path}/{scores4_mean_artifact}', fill_value=0, N=j, skip=0, device=device)\n",
    "        for i in range(3) for j in [30]\n",
    "     ],\n",
    "    *[\n",
    "        ExpandingMean('date', 'playerId', [12, 13, 14], f'{artifacts_path}/{scores4_mean_artifact}', fill_value=0, N=j, skip=0, device=device)\n",
    "        for j in [30]\n",
    "     ],\n",
    "    *[\n",
    "        ExpandingSum('date', 'playerId', list(range(i*4, (i+1)*4)), f'{artifacts_path}/{scores4_mean_artifact}', fill_value=0, N=j, skip=0, device=device)\n",
    "        for i in range(3) for j in [30]\n",
    "     ],\n",
    "    *[\n",
    "        ExpandingSum('date', 'playerId', [12, 13, 14], f'{artifacts_path}/{scores4_last_artifact}', fill_value=0, N=j, skip=0, device=device)\n",
    "        for j in [30]\n",
    "     ],\n",
    "    *[\n",
    "        ExpandingSum('date', 'playerId', list(range(i*4, (i+1)*4)), f'{artifacts_path}/{scores4_mean_artifact}', fill_value=0, N=j, skip=0, device=device)\n",
    "        for i in range(3) for j in [150]\n",
    "     ],\n",
    "    *[\n",
    "        ExpandingSum('date', 'playerId', [12, 13, 14], f'{artifacts_path}/{scores4_last_artifact}', fill_value=0, N=j, skip=0, device=device)\n",
    "        for j in [150]\n",
    "     ],\n",
    ")\n",
    "\n",
    "\n",
    "scores5 = make_union(\n",
    "    *[\n",
    "        LagN('date', 'playerId', list(range(i*4, (i+1)*4)), f'{artifacts_path}/{scores5_mean_artifact}', fill_value=0, N=j+1, skip=0, device=device)\n",
    "        for i in range(5) for j in range(1)\n",
    "     ],\n",
    "    *[\n",
    "        LagN('date', 'playerId', [20], f'{artifacts_path}/{scores5_mean_artifact}', fill_value=0, N=j+1, skip=0, device=device)\n",
    "        for j in range(1)\n",
    "     ],\n",
    "    *[\n",
    "        ExpandingSum('date', 'playerId', list(range(i*4, (i+1)*4)), f'{artifacts_path}/{scores5_mean_artifact}', fill_value=0, N=j, skip=0, device=device)\n",
    "        for i in range(3) for j in [30]\n",
    "     ],\n",
    "    *[\n",
    "        ExpandingSum('date', 'playerId', list(range(i*4, (i+1)*4)), f'{artifacts_path}/{scores5_mean_artifact}', fill_value=0, N=j, skip=0, device=device)\n",
    "        for i in range(3) for j in [150]\n",
    "     ],\n",
    "    *[\n",
    "        ExpandingSum('date', 'playerId', [12, 13, 14], f'{artifacts_path}/{scores5_mean_artifact}', fill_value=0, N=j, skip=0, device=device)\n",
    "        for j in [30]\n",
    "     ],\n",
    "    *[\n",
    "        ExpandingSum('date', 'playerId', [12, 13, 14], f'{artifacts_path}/{scores5_mean_artifact}', fill_value=0, N=j, skip=0, device=device)\n",
    "        for j in [150]\n",
    "     ],\n",
    "    *[\n",
    "        ExpandingMean('date', 'playerId', list(range(i*4, (i+1)*4)), f'{artifacts_path}/{scores5_mean_artifact}', fill_value=0, N=j, skip=0, device=device)\n",
    "        for i in range(3) for j in [30]\n",
    "     ],\n",
    "    *[\n",
    "        ExpandingMean('date', 'playerId', [12, 13, 14], f'{artifacts_path}/{scores5_mean_artifact}', fill_value=0, N=j, skip=0, device=device)\n",
    "        for j in [30]\n",
    "     ],\n",
    ")\n",
    "\n",
    "all_players = make_union(\n",
    "    *[\n",
    "        DateLagN('date', list(range(i*4, (i+1)*4)), f'{artifacts_path}/{scores2_mean_artifact}', N=j+1, skip=0, device=device)\n",
    "        for i in range(6) for j in range(1)\n",
    "     ],\n",
    "    *[\n",
    "        DateLagN('date', list(range(i*4, (i+1)*4)), f'{artifacts_path}/{scores4_mean_artifact}', N=j+1, skip=0, device=device)\n",
    "        for i in range(6) for j in range(1)\n",
    "     ],\n",
    "    *[\n",
    "        DateLagN('date', [12, 13, 14], f'{artifacts_path}/{scores4_mean_artifact}', N=j+1, skip=0, device=device)\n",
    "        for j in range(1)\n",
    "     ],\n",
    ")\n",
    "\n",
    "team_standings = make_pipeline(\n",
    "    AddFeature(\n",
    "        name='teamId',\n",
    "        pipe=LagN('date', 'playerId', [1], f'{artifacts_path}/train_rosters.pkl', fill_value=-1, N=1, skip=0, device=device),\n",
    "    ),\n",
    "    make_union(\n",
    "        *[\n",
    "            LagN('date', 'teamId', list(range(i*4, (i+1)*4)), f'{artifacts_path}/{team_standings_artifact}', N=1, fill_value=-1, skip=0, device=device)\n",
    "            for i in range(10)\n",
    "         ],\n",
    "\n",
    "        verbose=True\n",
    "    ), verbose=True\n",
    ")\n",
    "\n"
   ]
  },
  {
   "cell_type": "code",
   "execution_count": 9,
   "id": "200c9660-76b9-4d02-91b5-7cb08c915bd4",
   "metadata": {},
   "outputs": [],
   "source": [
    "# TODO: One more round of feature engg. -> get all MLB stats\n",
    "# more datetime features\n",
    "# Tune on new data, tune features to this season\n",
    "# Current score prediction task\n",
    "# stats for current seasons\n",
    "# only in season data ??"
   ]
  },
  {
   "cell_type": "code",
   "execution_count": 10,
   "id": "40a4c34d-47e8-460b-8cbc-fc079fda7b64",
   "metadata": {},
   "outputs": [],
   "source": [
    "feature_pipeline_tr = make_union(target_stats_train, other_features, scores1, scores2, scores3, scores4, scores5, all_players)\n",
    "feature_pipeline_te = make_union(target_stats_test, other_features, scores1, scores2, scores3, scores4, scores5, all_players)"
   ]
  },
  {
   "cell_type": "code",
   "execution_count": 11,
   "id": "835fb4e3-6022-473d-9e8c-0484f22c9e23",
   "metadata": {},
   "outputs": [],
   "source": [
    "#X_tr01 = target_stats_train.transform(tr_index)\n",
    "#X_vl01 = target_stats_test.transform(vl_index)\n",
    "\n",
    "# X_tr02 = other_features.transform(tr_index)\n",
    "# X_vl02 = other_features.transform(vl_index)\n",
    "\n",
    "# X_tr03 = scores1.transform(tr_index)\n",
    "# X_vl03 = scores1.transform(vl_index)\n",
    "\n",
    "# X_tr04 = scores3.transform(tr_index)\n",
    "# X_vl04 = scores3.transform(vl_index)\n",
    "\n",
    "# X_tr05 = scores2.transform(tr_index)\n",
    "# X_vl05 = scores2.transform(vl_index)\n",
    "\n",
    "#X_tr06 = scores4.transform(tr_index)\n",
    "#X_vl06 = scores4.transform(vl_index)\n",
    "\n",
    "# X_tr07 = scores5.transform(tr_index)\n",
    "# X_vl07 = scores5.transform(vl_index)\n",
    "\n",
    "#X_tr08 = all_players.transform(tr_index)\n",
    "#X_vl08 = all_players.transform(vl_index)\n",
    "\n",
    "#X_tr09 = team_standings.transform(tr_index)\n",
    "#X_vl09 = team_standings.transform(vl_index)\n"
   ]
  },
  {
   "cell_type": "code",
   "execution_count": 12,
   "id": "a3be9303-f677-4131-9ce8-f5a8624da7e6",
   "metadata": {},
   "outputs": [
    {
     "name": "stdout",
     "output_type": "stream",
     "text": [
      "CPU times: user 8min 29s, sys: 18.4 s, total: 8min 47s\n",
      "Wall time: 8min 47s\n"
     ]
    }
   ],
   "source": [
    "%%time\n",
    "X_tr = feature_pipeline_tr.transform(tr_index)"
   ]
  },
  {
   "cell_type": "code",
   "execution_count": 13,
   "id": "b1d650e9-bf48-447b-b59f-1628edc8c7f5",
   "metadata": {},
   "outputs": [
    {
     "name": "stdout",
     "output_type": "stream",
     "text": [
      "CPU times: user 26 s, sys: 1.98 s, total: 28 s\n",
      "Wall time: 27.9 s\n"
     ]
    }
   ],
   "source": [
    "%%time\n",
    "X_vl = feature_pipeline_te.transform(vl_index)"
   ]
  },
  {
   "cell_type": "code",
   "execution_count": 14,
   "id": "e06691b6-49b0-41bb-9bde-5975e3cfe0b6",
   "metadata": {},
   "outputs": [],
   "source": [
    "new_pipe = make_union(\n",
    "        LagN('date', 'playerId', [0, 1, 2, 3], f'{artifacts_path}/{event_artifact}', fill_value=0, N=1, skip=0, device=device),\n",
    "        LagN('date', 'playerId', [4, 5, 6, 7], f'{artifacts_path}/{event_artifact}', fill_value=0, N=1, skip=0, device=device),\n",
    "        LagN('date', 'playerId', [8, 9, 10, 11], f'{artifacts_path}/{event_artifact}', fill_value=0, N=1, skip=0, device=device),\n",
    "        LagN('date', 'playerId', [12, 13, 14, 15], f'{artifacts_path}/{event_artifact}', fill_value=0, N=1, skip=0, device=device),\n",
    ")"
   ]
  },
  {
   "cell_type": "code",
   "execution_count": 15,
   "id": "0f743c70-d59e-4c72-92d9-bd5d09c7fc73",
   "metadata": {},
   "outputs": [],
   "source": [
    "X_tr2 = new_pipe.transform(tr_index)\n",
    "X_vl2 = new_pipe.transform(vl_index)"
   ]
  },
  {
   "cell_type": "code",
   "execution_count": 16,
   "id": "d25de0ee-7956-4ae2-b343-15a9361749d9",
   "metadata": {},
   "outputs": [
    {
     "data": {
      "text/plain": [
       "count    20179.0\n",
       "mean         0.0\n",
       "std          0.0\n",
       "min          0.0\n",
       "25%          0.0\n",
       "50%          0.0\n",
       "75%          0.0\n",
       "max          0.0\n",
       "dtype: float64"
      ]
     },
     "execution_count": 16,
     "metadata": {},
     "output_type": "execute_result"
    }
   ],
   "source": [
    "pd.Series(X_vl2[:, 15]).describe()"
   ]
  },
  {
   "cell_type": "code",
   "execution_count": 17,
   "id": "1fe46573-1439-4306-b453-f45ee37b7d8b",
   "metadata": {},
   "outputs": [
    {
     "data": {
      "text/plain": [
       "(20179, 16)"
      ]
     },
     "execution_count": 17,
     "metadata": {},
     "output_type": "execute_result"
    }
   ],
   "source": [
    "X_vl2.shape"
   ]
  },
  {
   "cell_type": "code",
   "execution_count": 18,
   "id": "8ffd9bdc-01e3-46e9-93de-c2fbe0da20e4",
   "metadata": {},
   "outputs": [],
   "source": [
    "#X_tr_sub = X_tr[np.sum(X_tr[:, 21] != 0]\n",
    "#X_tr_sub.shape"
   ]
  },
  {
   "cell_type": "code",
   "execution_count": 19,
   "id": "87051cc9-0e2a-4126-9d6e-469af770407f",
   "metadata": {},
   "outputs": [],
   "source": [
    "#np.corrcoef(X_tr2[:, 14], y_tr[:, 2])"
   ]
  },
  {
   "cell_type": "code",
   "execution_count": 20,
   "id": "e9bd3f76-1f15-4b53-ac17-a999ef8944b9",
   "metadata": {},
   "outputs": [],
   "source": [
    "#X_tr.shape, X_vl.shape"
   ]
  },
  {
   "cell_type": "code",
   "execution_count": 22,
   "id": "c5b2815f-3237-47e1-bd24-cf4e13be4d10",
   "metadata": {},
   "outputs": [],
   "source": [
    "np.save(\"data/X_tr1_v202_skip10.npy\", X_tr)\n",
    "np.save(\"data/X_vl1_v202_skip10.npy\", X_vl)"
   ]
  },
  {
   "cell_type": "code",
   "execution_count": null,
   "id": "062a6f2d-e448-4c64-aee5-1d11340ea57c",
   "metadata": {},
   "outputs": [],
   "source": [
    "# X_tr = np.load(\"data/X_tr1_v201_skip10.npy\")\n",
    "# X_vl = np.load(\"data/X_vl1_v201_skip10.npy\")\n",
    "# # remove scores2 - 15"
   ]
  },
  {
   "cell_type": "code",
   "execution_count": null,
   "id": "2fb9a55b-904e-4fc5-8d0e-0d0090bd7247",
   "metadata": {},
   "outputs": [],
   "source": [
    "tr_index['seasonflag'] = tr_index.date.map(seasons.set_index('date')['seasonflag'])\n",
    "vl_index['seasonflag'] = vl_index.date.map(seasons.set_index('date')['seasonflag'])\n",
    "\n",
    "\n",
    "X_tr1 = np.hstack((X_tr, X_tr2, tr_index.seasonflag.values.reshape(-1, 1)))\n",
    "X_vl1 = np.hstack((X_vl, X_vl2, vl_index.seasonflag.values.reshape(-1, 1)))\n",
    "\n",
    "\n",
    "X_tr1 = X_tr1[tr_index.seasonflag > 0]\n",
    "X_vl1 = X_vl1[vl_index.seasonflag > 0]"
   ]
  },
  {
   "cell_type": "code",
   "execution_count": 23,
   "id": "876647f2-26b4-48b7-aabe-d3914be8952a",
   "metadata": {},
   "outputs": [
    {
     "ename": "AttributeError",
     "evalue": "'DataFrame' object has no attribute 'seasonflag'",
     "output_type": "error",
     "traceback": [
      "\u001b[0;31m---------------------------------------------------------------------------\u001b[0m",
      "\u001b[0;31mAttributeError\u001b[0m                            Traceback (most recent call last)",
      "\u001b[0;32m<ipython-input-23-7475bef6ddff>\u001b[0m in \u001b[0;36m<module>\u001b[0;34m\u001b[0m\n\u001b[1;32m      1\u001b[0m \u001b[0;32mimport\u001b[0m \u001b[0mlightgbm\u001b[0m \u001b[0;32mas\u001b[0m \u001b[0mlgb\u001b[0m\u001b[0;34m\u001b[0m\u001b[0;34m\u001b[0m\u001b[0m\n\u001b[1;32m      2\u001b[0m \u001b[0mtargets\u001b[0m \u001b[0;34m=\u001b[0m \u001b[0;34m[\u001b[0m\u001b[0;34m'target1'\u001b[0m\u001b[0;34m,\u001b[0m \u001b[0;34m'target2'\u001b[0m\u001b[0;34m,\u001b[0m \u001b[0;34m'target3'\u001b[0m\u001b[0;34m,\u001b[0m \u001b[0;34m'target4'\u001b[0m\u001b[0;34m]\u001b[0m\u001b[0;34m\u001b[0m\u001b[0;34m\u001b[0m\u001b[0m\n\u001b[0;32m----> 3\u001b[0;31m \u001b[0my_tr\u001b[0m \u001b[0;34m=\u001b[0m \u001b[0mtr_index\u001b[0m\u001b[0;34m[\u001b[0m\u001b[0mtargets\u001b[0m\u001b[0;34m]\u001b[0m\u001b[0;34m.\u001b[0m\u001b[0mvalues\u001b[0m\u001b[0;34m[\u001b[0m\u001b[0mtr_index\u001b[0m\u001b[0;34m.\u001b[0m\u001b[0mseasonflag\u001b[0m \u001b[0;34m>\u001b[0m \u001b[0;36m0\u001b[0m\u001b[0;34m]\u001b[0m\u001b[0;34m\u001b[0m\u001b[0;34m\u001b[0m\u001b[0m\n\u001b[0m\u001b[1;32m      4\u001b[0m \u001b[0my_vl\u001b[0m \u001b[0;34m=\u001b[0m \u001b[0mvl_index\u001b[0m\u001b[0;34m[\u001b[0m\u001b[0mtargets\u001b[0m\u001b[0;34m]\u001b[0m\u001b[0;34m.\u001b[0m\u001b[0mvalues\u001b[0m\u001b[0;34m[\u001b[0m\u001b[0mvl_index\u001b[0m\u001b[0;34m.\u001b[0m\u001b[0mseasonflag\u001b[0m \u001b[0;34m>\u001b[0m \u001b[0;36m0\u001b[0m\u001b[0;34m]\u001b[0m\u001b[0;34m\u001b[0m\u001b[0;34m\u001b[0m\u001b[0m\n\u001b[1;32m      5\u001b[0m \u001b[0;31m# print(np.unique(X_tra[:, 235]))\u001b[0m\u001b[0;34m\u001b[0m\u001b[0;34m\u001b[0m\u001b[0;34m\u001b[0m\u001b[0m\n",
      "\u001b[0;32m~/anaconda3/envs/setienv/lib/python3.8/site-packages/pandas/core/generic.py\u001b[0m in \u001b[0;36m__getattr__\u001b[0;34m(self, name)\u001b[0m\n\u001b[1;32m   5463\u001b[0m             \u001b[0;32mif\u001b[0m \u001b[0mself\u001b[0m\u001b[0;34m.\u001b[0m\u001b[0m_info_axis\u001b[0m\u001b[0;34m.\u001b[0m\u001b[0m_can_hold_identifiers_and_holds_name\u001b[0m\u001b[0;34m(\u001b[0m\u001b[0mname\u001b[0m\u001b[0;34m)\u001b[0m\u001b[0;34m:\u001b[0m\u001b[0;34m\u001b[0m\u001b[0;34m\u001b[0m\u001b[0m\n\u001b[1;32m   5464\u001b[0m                 \u001b[0;32mreturn\u001b[0m \u001b[0mself\u001b[0m\u001b[0;34m[\u001b[0m\u001b[0mname\u001b[0m\u001b[0;34m]\u001b[0m\u001b[0;34m\u001b[0m\u001b[0;34m\u001b[0m\u001b[0m\n\u001b[0;32m-> 5465\u001b[0;31m             \u001b[0;32mreturn\u001b[0m \u001b[0mobject\u001b[0m\u001b[0;34m.\u001b[0m\u001b[0m__getattribute__\u001b[0m\u001b[0;34m(\u001b[0m\u001b[0mself\u001b[0m\u001b[0;34m,\u001b[0m \u001b[0mname\u001b[0m\u001b[0;34m)\u001b[0m\u001b[0;34m\u001b[0m\u001b[0;34m\u001b[0m\u001b[0m\n\u001b[0m\u001b[1;32m   5466\u001b[0m \u001b[0;34m\u001b[0m\u001b[0m\n\u001b[1;32m   5467\u001b[0m     \u001b[0;32mdef\u001b[0m \u001b[0m__setattr__\u001b[0m\u001b[0;34m(\u001b[0m\u001b[0mself\u001b[0m\u001b[0;34m,\u001b[0m \u001b[0mname\u001b[0m\u001b[0;34m:\u001b[0m \u001b[0mstr\u001b[0m\u001b[0;34m,\u001b[0m \u001b[0mvalue\u001b[0m\u001b[0;34m)\u001b[0m \u001b[0;34m->\u001b[0m \u001b[0;32mNone\u001b[0m\u001b[0;34m:\u001b[0m\u001b[0;34m\u001b[0m\u001b[0;34m\u001b[0m\u001b[0m\n",
      "\u001b[0;31mAttributeError\u001b[0m: 'DataFrame' object has no attribute 'seasonflag'"
     ]
    }
   ],
   "source": [
    "import lightgbm as lgb\n",
    "targets = ['target1', 'target2', 'target3', 'target4']\n",
    "y_tr = tr_index[targets].values[tr_index.seasonflag > 0]\n",
    "y_vl = vl_index[targets].values[vl_index.seasonflag > 0]\n",
    "# print(np.unique(X_tra[:, 235]))\n",
    "\n",
    "tr1 = lgb.Dataset(X_tr1, y_tr[:, 0]) #, categorical_feature=[13, 14, 15, 16, 419])\n",
    "tr2 = lgb.Dataset(X_tr1, y_tr[:, 1]) #, categorical_feature=[13, 14, 15, 16, 419])\n",
    "tr3 = lgb.Dataset(X_tr1, y_tr[:, 2]) #, categorical_feature=[13, 14, 15, 16, 419])\n",
    "tr4 = lgb.Dataset(X_tr1, y_tr[:, 3]) #, categorical_feature=[13, 14, 15, 16, 419])\n",
    "\n",
    "vl1 = lgb.Dataset(X_vl1, y_vl[:, 0], reference=tr1)\n",
    "vl2 = lgb.Dataset(X_vl1, y_vl[:, 1], reference=tr2)\n",
    "vl3 = lgb.Dataset(X_vl1, y_vl[:, 2], reference=tr3)\n",
    "vl4 = lgb.Dataset(X_vl1, y_vl[:, 3], reference=tr4)\n",
    "\n",
    "# params = {\n",
    "#     'n_estimators': 4000,\n",
    "#     'learning_rate': 0.08,\n",
    "#     'num_leaves': 31,\n",
    "#     'colsample_bytree': 0.3,\n",
    "#     'subsample': 0.5,\n",
    "#     'reg_alpha': 0.1,\n",
    "#     'reg_lambda': 0.1,\n",
    "#     'max_bin': 255,\n",
    "#     'objective': 'mae',\n",
    "#     'metric': 'mae'\n",
    "# }\n",
    "\n",
    "params = {\n",
    "    'n_estimators': 5000,\n",
    "    'learning_rate': 0.02,\n",
    "    'num_leaves': 255,\n",
    "    'max_depth': -1,\n",
    "    'min_data_in_leaf': 20,\n",
    "    'colsample_bytree': 0.4,\n",
    "    'subsample': 0.95,\n",
    "    'bagging_freq': 1,\n",
    "    'reg_alpha': 0.2,\n",
    "    'reg_lambda': 0.2,\n",
    "    'extra_trees': False,\n",
    "    'max_bin': 127,\n",
    "    #'device': 'gpu',\n",
    "    #'gpu_use_dp': False,\n",
    "    #'gpu_device_id': 0,\n",
    "    'boost_from_average': True,\n",
    "    'reg_sqrt': True,\n",
    "    'objective': 'mae',\n",
    "    'metric': 'mae',\n",
    "    'verbose': -1,\n",
    "    'seed': 786,\n",
    "    'min_data_per_group': 10,\n",
    "    'cat_l2': 10,\n",
    "    'cat_smooth': 10,\n",
    "    'num_threads': 16\n",
    "}\n",
    "from sklearn.metrics import mean_absolute_error as mae\n",
    "bst1 = lgb.train(params, tr1, valid_sets=[vl1], early_stopping_rounds=200, verbose_eval=50)\n",
    "pred21 = bst1.predict(X_vl1)\n",
    "print(mae(y_vl[:, 0], pred21))   # 0.9509 (skip 3); 0.9478 (skip 10); 0.9481 (skip 15); 0.9473 (skip 7); 0.9475 (skip 12)\n",
    "# sticking with skip10\n",
    "# targetmean7 -> 10; 0.9477\n",
    "# "
   ]
  },
  {
   "cell_type": "code",
   "execution_count": 29,
   "id": "a7834dc0-8fb7-4e30-91fc-bab9d42fcf8b",
   "metadata": {},
   "outputs": [
    {
     "data": {
      "text/plain": [
       "[[1, 2, 3, 4], [5]]"
      ]
     },
     "execution_count": 29,
     "metadata": {},
     "output_type": "execute_result"
    }
   ],
   "source": [
    "from itertools import zip_longest\n",
    "a = [1, 2, 3, 4, 5]\n",
    "\n",
    "def batch_list(a, n=4):\n",
    "    out = []\n",
    "    tmp = []\n",
    "    for i in range(len(a)):\n",
    "        tmp.append(a[i])\n",
    "        if (i + 1) % n == 0:\n",
    "            out.append(tmp)\n",
    "            tmp = []\n",
    "    if len(tmp) > 0:\n",
    "        out.append(tmp)\n",
    "    return out\n",
    "\n",
    "batch_list(a, 4)"
   ]
  },
  {
   "cell_type": "code",
   "execution_count": null,
   "id": "08e84acb-2a0a-4d0b-aa2d-42328a466da4",
   "metadata": {},
   "outputs": [],
   "source": [
    "bst2 = lgb.train(params, tr2, valid_sets=[vl2], early_stopping_rounds=200, verbose_eval=50)\n",
    "pred22 = bst2.predict(X_vl1)\n",
    "print(mae(y_vl[:, 1], pred22))   # (skip 15) 1.5609, 1.5578 (skip 10), 1.5864 (skip 3), 1.5665 (skip 7); 1.5591 (skip 12)\n",
    "# targetmean7 -> 10 ; 1.5473\n",
    "# targetmean10, 30 -> 15, 60; 1.5417\n",
    "\n",
    "bst3 = lgb.train(params, tr3, valid_sets=[vl3], early_stopping_rounds=200, verbose_eval=50)\n",
    "pred23 = bst3.predict(X_vl1)\n",
    "print(mae(y_vl[:, 2], pred23))   # (skip 15) 0.7469, 0.7459 (skip 10), 0.7488 (skip 3), 0.7463 (skip 7); 0.7442 (skip 12)\n",
    "# targetmean7 -> 10 ; 0.7465\n",
    "# targetmean10, 30 -> 15, 60; 0.7470\n",
    "\n",
    "\n",
    "\n",
    "bst4 = lgb.train(params, tr4, valid_sets=[vl4], early_stopping_rounds=200, verbose_eval=50)\n",
    "pred24 = bst4.predict(X_vl1)\n",
    "print(mae(y_vl[:, 3], pred24))   # (skip 15) 1.1930 , 1.1812 (skip 10), 1.1863 (skip 3); 1.1818 (skip 7); 1.1834 (skip 12)\n",
    "# targetmean7 -> 10 1.1974; \n",
    "# targetmean10, 30 -> 15, 60; 1.1931\n",
    "\n",
    "\n",
    "preds_2 = np.vstack((pred21, pred22, pred23, pred24)).T\n",
    "print(mae(y_vl, preds_2))   # 1.1122 (skip 15), 1.1082 (skip 10), 1.1181 (skip 3); 1.1105 (skip 7); 1.1085 (skip 12)\n",
    "# targetmean7 -> 10 1.1097; \n",
    "# targetmean10, 30 -> 15, 60; 1.1076\n",
    "\n"
   ]
  },
  {
   "cell_type": "code",
   "execution_count": null,
   "id": "2cced4e5-609a-456a-8bb2-2d547fee0efc",
   "metadata": {},
   "outputs": [],
   "source": [
    "bst1.save_model(\"artifacts/bst1_train_v401.pkl\")\n",
    "bst2.save_model(\"artifacts/bst2_train_v401.pkl\")\n",
    "bst3.save_model(\"artifacts/bst3_train_v401.pkl\")\n",
    "bst4.save_model(\"artifacts/bst4_train_v401.pkl\")"
   ]
  },
  {
   "cell_type": "code",
   "execution_count": null,
   "id": "90639c71-d2dd-488f-bbf4-bf063b754739",
   "metadata": {},
   "outputs": [],
   "source": [
    "np.save(\"data/lgb_t1_logv401_skip3.npy\", pred21)\n",
    "np.save(\"data/lgb_t2_logv401_skip3.npy\", pred22)\n",
    "np.save(\"data/lgb_t3_logv401_skip3.npy\", pred23)\n",
    "np.save(\"data/lgb_t4_logv401_skip3.npy\", pred24)\n"
   ]
  },
  {
   "cell_type": "code",
   "execution_count": null,
   "id": "ce978ca2-3cc8-4aaa-b20e-7624bc5a6b37",
   "metadata": {},
   "outputs": [],
   "source": [
    "# iterations with leaky validation\n",
    "\n",
    "# 2.22 (target means and stats over 20 days - zero fill value)\n",
    "# 2.2332 (-1 fill value)\n",
    "# 2.31 remove 10 mean\n",
    "# 2.21 add lag 3\n",
    "# 2.26 removed quantiles\n",
    "# 2.18 quantiles back and lags till 4\n",
    "# 2.18 add median for last 30 as well\n",
    "# 2.177 added lag till 7 days\n",
    "# 2.179 added lag till 15 days\n",
    "# 2.114 keep only 7 day lag and try skip 2 days for 1 and 2 day lag\n",
    "# 2.116 skip 2 for everything\n",
    "# 2.118 skip 2 for lags, others3 and changed 30 to 40 days for stats\n",
    "# 2.091 changed 40 to 20 days\n",
    "# 2.106 changed 20 to 10\n",
    "# 2.107 changed 10 to 15\n",
    "# 2.060 added xtra features, awards, roster, txns, pltwitter\n",
    "# 2.060 added non nan count in rosters for last 20 days\n",
    "# 1.9986 added scores1 - current\n",
    "# 1.9734 scores1 lag1\n",
    "# 1.9643 added scores1 lag 2\n",
    "# 1.9613 added scores1 lag 3\n",
    "# 1.9552 added scores1 expnding count last 20\n",
    "# 1.9588 added scores1 expanding count last 1000\n",
    "# 1.9537 added scores1 lag 5\n",
    "# 1.9487 added scores1 lag6\n",
    "# 1.9429 added scores1 lag7\n",
    "# 1.9429 added scores1 lag 8\n",
    "# 1.9438 added scores3 lag0\n",
    "# 1.9232 replaced scores3 lag0 with expanding sum last 10\n",
    "# 1.9294 added scores3 sum last 20\n",
    "# 1.9209 replaced scores3 sum 20 by sum 200\n",
    "# 1.939 replace scores3 sum 10 by sum 20\n",
    "# 1.9223 replace scores3 sum 200 by sum 100 \n",
    "# rolled back to 1.9209 version\n",
    "# 1.8997 added scores2 lag0, lag1\n",
    "# 1.8846 added scores2 lag2, lag3\n",
    "# 1.894 added scores2 lag4, lag5\n",
    "# 1.8857 removed lag4,5 and added mean last 10\n",
    "# 1.8874 scores2 -- replace mean10 - sum10\n",
    "# 1.8932 scores2 sum10 --> sum100\n",
    "# 1.892 scores2 sum100 -> max10\n",
    "# rolled back to only lags for scores2\n",
    "# 1.8675 added scores4 lag0,1\n",
    "# 1.873 added scores4 lag2\n",
    "# 1.876 added scores4 lag3\n",
    "# 1.8798 remove lag2, 3 and add mean 20\n",
    "# 1.8807 mean20 -> count20\n",
    "# 1.8722 count20 -> mean200\n",
    "# rolling back to only lags0,1 for scores4\n",
    "# 1.8645 scores5 lag0\n",
    "# 1.8864 add team standings cols (0, 1, 6, 7, 8)\n",
    "# 1.881 standings - only win loss pct\n",
    "# removing standings completely\n",
    "# 1.872 adding team scores2 lag0\n",
    "# 1.8693 team scores1 lag0\n",
    "# removed team features completely\n",
    "# 1.892 add all players scores1 sum for given date\n",
    "# 1.8610 all players scores2 sum - lag0\n",
    "# 1.8635 all players scores4 sum - lag0"
   ]
  },
  {
   "cell_type": "code",
   "execution_count": null,
   "id": "e3728351-6826-4d03-ba8b-6188bd1a4306",
   "metadata": {},
   "outputs": [],
   "source": [
    "predst1_lgb = np.load(\"data/lgb_t1_logv1.npy\")\n",
    "predst2_lgb = np.load(\"data/lgb_t2_logv1.npy\")\n",
    "predst3_lgb = np.load(\"data/lgb_t3_logv1.npy\")\n",
    "predst4_lgb = np.load(\"data/lgb_t4_logv1.npy\")"
   ]
  },
  {
   "cell_type": "code",
   "execution_count": null,
   "id": "de550943-35c0-4ef1-b331-8a75576d8bc5",
   "metadata": {},
   "outputs": [],
   "source": [
    "preds1_lgb = np.vstack((predst1_lgb, predst2_lgb, predst3_lgb, predst4_lgb)).T\n",
    "mae(y_vl, 0.5*preds1_lgb+0.5*preds_2)"
   ]
  },
  {
   "cell_type": "code",
   "execution_count": null,
   "id": "3c56da2d-03f0-4f7f-ae99-9c884e7e0e11",
   "metadata": {},
   "outputs": [],
   "source": [
    "    target_stats_train2 = make_union(\n",
    "        *[\n",
    "            ExpandingMean(\n",
    "                key_cols=[0, 1, 2, 3],\n",
    "                hist_data_path=f\"{artifacts_path}/{targets_artifact}\",\n",
    "                N=j,\n",
    "                skip=10,\n",
    "                device=DEVICE,\n",
    "                fill_value=0,\n",
    "            )\n",
    "            for j in [7, 30, 60, 300]\n",
    "        ],\n",
    "    )\n",
    "\n",
    "    target_stats_test2 = make_union(\n",
    "        *[\n",
    "            ExpandingMean(\n",
    "                key_cols=[0, 1, 2, 3],\n",
    "                hist_data_path=f\"{artifacts_path}/{targets_artifact}\",\n",
    "                N=j,\n",
    "                skip=1,\n",
    "                device=DEVICE,\n",
    "                fill_value=0,\n",
    "            )\n",
    "            for j in [7, 30, 60, 300]\n",
    "        ],\n",
    "    )"
   ]
  },
  {
   "cell_type": "code",
   "execution_count": null,
   "id": "46b84235-213a-4149-a039-26f7cc528106",
   "metadata": {},
   "outputs": [],
   "source": [
    "award_features = [('LagN', {'N': 1,  'hist_data_path': f\"{artifacts_path}/{awards_artifact}\"})]"
   ]
  },
  {
   "cell_type": "code",
   "execution_count": null,
   "id": "22e47936-6959-4040-89d2-07de0855d24d",
   "metadata": {},
   "outputs": [],
   "source": [
    "    other_features2 = make_union(\n",
    "        LagN(\n",
    "            \"date\",\n",
    "            \"playerId\",\n",
    "            [0],\n",
    "            f\"{artifacts_path}/{awards_artifact}\",\n",
    "            fill_value=-1,\n",
    "            N=1,\n",
    "            skip=0,\n",
    "            device=device,\n",
    "        ),\n",
    "        ExpandingCount(\n",
    "            \"date\",\n",
    "            \"playerId\",\n",
    "            [0],\n",
    "            f\"{artifacts_path}/{awards_artifact}\",\n",
    "            fill_value=0,\n",
    "            N=365,\n",
    "            skip=0,\n",
    "            device=device,\n",
    "        ),\n",
    "        LagN(\n",
    "            \"date\",\n",
    "            \"playerId\",\n",
    "            [0, 1, 2],\n",
    "            f\"{artifacts_path}/{transactions_artifact}\",\n",
    "            fill_value=-1,\n",
    "            N=1,\n",
    "            skip=0,\n",
    "            device=device,\n",
    "        ),\n",
    "        LagN(\n",
    "            \"date\",\n",
    "            \"playerId\",\n",
    "            [0],\n",
    "            f\"{artifacts_path}/{rosters_artifact}\",\n",
    "            fill_value=-1,\n",
    "            N=1,\n",
    "            skip=0,\n",
    "            device=device,\n",
    "        ),\n",
    "        *[\n",
    "            ExpandingCount(\n",
    "                \"date\",\n",
    "                \"playerId\",\n",
    "                [0],\n",
    "                f\"{artifacts_path}/{rosters_artifact}\",\n",
    "                fill_value=0,\n",
    "                N=j,\n",
    "                skip=0,\n",
    "                device=device,\n",
    "            )\n",
    "            for j in [30, 300]\n",
    "        ],\n",
    "        make_pipeline(\n",
    "            LagN(\n",
    "                \"date\",\n",
    "                \"playerId\",\n",
    "                [0],\n",
    "                f\"{artifacts_path}/{player_twitter_artifact}\",\n",
    "                fill_value=0,\n",
    "                N=1,\n",
    "                skip=0,\n",
    "                device=device,\n",
    "            ),\n",
    "            FunctionTransfomer(np.log1p),\n",
    "        ),\n",
    "    )\n"
   ]
  },
  {
   "cell_type": "code",
   "execution_count": null,
   "id": "20c18539-afc2-4613-a858-1c06381cd3b7",
   "metadata": {},
   "outputs": [],
   "source": [
    "lag_features"
   ]
  },
  {
   "cell_type": "code",
   "execution_count": 34,
   "id": "3b9c079f-ae3e-4501-ae41-1e27485b4f60",
   "metadata": {},
   "outputs": [
    {
     "data": {
      "text/plain": [
       "5"
      ]
     },
     "execution_count": 34,
     "metadata": {},
     "output_type": "execute_result"
    }
   ],
   "source": [
    "len(SCORES1)"
   ]
  },
  {
   "cell_type": "code",
   "execution_count": null,
   "id": "fd8defd9-0f46-447a-84e0-31d689755577",
   "metadata": {},
   "outputs": [],
   "source": []
  }
 ],
 "metadata": {
  "kernelspec": {
   "display_name": "Python 3",
   "language": "python",
   "name": "python3"
  },
  "language_info": {
   "codemirror_mode": {
    "name": "ipython",
    "version": 3
   },
   "file_extension": ".py",
   "mimetype": "text/x-python",
   "name": "python",
   "nbconvert_exporter": "python",
   "pygments_lexer": "ipython3",
   "version": "3.8.10"
  }
 },
 "nbformat": 4,
 "nbformat_minor": 5
}
