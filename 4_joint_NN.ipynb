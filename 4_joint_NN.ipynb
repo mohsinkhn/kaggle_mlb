{
 "cells": [
  {
   "cell_type": "code",
   "execution_count": 1,
   "id": "6cc21687-a090-4115-bb90-d1fb56ca4b15",
   "metadata": {},
   "outputs": [
    {
     "name": "stderr",
     "output_type": "stream",
     "text": [
      "Global seed set to 123786000\n"
     ]
    },
    {
     "data": {
      "text/plain": [
       "123786000"
      ]
     },
     "execution_count": 1,
     "metadata": {},
     "output_type": "execute_result"
    }
   ],
   "source": [
    "import joblib\n",
    "import numpy as np\n",
    "import pandas as pd\n",
    "import pytorch_lightning as pl\n",
    "from sklearn.preprocessing import MinMaxScaler, OneHotEncoder\n",
    "from sklearn.metrics import mean_absolute_error as mae\n",
    "from timm.optim import NovoGrad\n",
    "import torch\n",
    "from torch import nn\n",
    "from torch.utils.data import Dataset, DataLoader\n",
    "import wandb\n",
    "\n",
    "from src.constants import TARGETS\n",
    "\n",
    "seed=123786000\n",
    "pl.seed_everything(seed)"
   ]
  },
  {
   "cell_type": "code",
   "execution_count": 2,
   "id": "89871750-7c0e-40eb-900b-9cb8889fa7c7",
   "metadata": {},
   "outputs": [],
   "source": [
    "class PivotData(Dataset):\n",
    "    def __init__(self, data, labels, scaler):\n",
    "        super().__init__()\n",
    "        self.data = data.copy().astype(np.float32)\n",
    "        self.data[np.isnan(self.data)] = 0\n",
    "        a, b, c = self.data.shape\n",
    "        self.data = scaler.transform(self.data.reshape(-1, c)).reshape(a, b, c)\n",
    "        self.labels = labels.astype(np.float32)\n",
    "    \n",
    "    def __len__(self):\n",
    "        return len(self.data)\n",
    "    \n",
    "    def __getitem__(self, idx):\n",
    "        return self.data[idx], np.sqrt(self.labels[idx])/10.0"
   ]
  },
  {
   "cell_type": "code",
   "execution_count": 3,
   "id": "88363551-6c7a-41b9-a9ad-8fe902eb5d8f",
   "metadata": {},
   "outputs": [
    {
     "name": "stdout",
     "output_type": "stream",
     "text": [
      "(1424400, 422) (18992, 422)\n"
     ]
    }
   ],
   "source": [
    "X_tr, X_vl = np.load(\"data/X_tr1_v1.npy\"), np.load(\"data/X_vl1_v1.npy\")\n",
    "\n",
    "onehot = OneHotEncoder(sparse=False, handle_unknown='ignore')\n",
    "X_tr_cats = onehot.fit_transform(X_tr[:, [14, 15, 21, 22]])\n",
    "\n",
    "X_tr1 = np.hstack((X_tr_cats, X_tr[:, np.r_[0:14, 16:21, 23:379]]))\n",
    "X_vl_cats = onehot.transform(X_vl[:, [14, 15, 21, 22]])\n",
    "\n",
    "X_vl1 = np.hstack((X_vl_cats, X_vl[:, np.r_[0:14, 16:21, 23:379]]))\n",
    "print(X_tr1.shape, X_vl1.shape)"
   ]
  },
  {
   "cell_type": "code",
   "execution_count": 4,
   "id": "69fced15-5185-47f4-bf00-3e6ae28f8d98",
   "metadata": {},
   "outputs": [
    {
     "data": {
      "text/plain": [
       "MinMaxScaler(feature_range=(-1, 1))"
      ]
     },
     "execution_count": 4,
     "metadata": {},
     "output_type": "execute_result"
    }
   ],
   "source": [
    "scaler= MinMaxScaler((-1, 1))\n",
    "scaler.fit(X_tr1)"
   ]
  },
  {
   "cell_type": "code",
   "execution_count": 5,
   "id": "3995688a-e254-4142-838a-b8b2c28d6b34",
   "metadata": {},
   "outputs": [],
   "source": [
    "# data_dict1 = joblib.load(\"data/artifacts/v0/train_scores1_last.pkl\")\n",
    "# data_dict2 = joblib.load(\"data/artifacts/v0/train_scores2_last.pkl\")\n",
    "# data_dict3 = joblib.load(\"data/artifacts/v0/train_scores3_last.pkl\")\n",
    "# data_dict4 = joblib.load(\"data/artifacts/v0/train_scores4_last.pkl\")\n",
    "# data_dict5 = joblib.load(\"data/artifacts/v0/train_scores5_last.pkl\")"
   ]
  },
  {
   "cell_type": "code",
   "execution_count": 6,
   "id": "c64f6e32-c4bd-4a41-8903-f39a7b23d0a1",
   "metadata": {},
   "outputs": [],
   "source": [
    "#data_dict['date']\n",
    "#score_tr_dates, score_vl_dates = data_dict1['date'][:-16], data_dict1['date'][-15:]"
   ]
  },
  {
   "cell_type": "code",
   "execution_count": 7,
   "id": "effa8dd0-4e83-407a-b4f0-6c2d023a3c5b",
   "metadata": {},
   "outputs": [],
   "source": [
    "#score_vl_dates"
   ]
  },
  {
   "cell_type": "code",
   "execution_count": 8,
   "id": "4cbd7803-a978-4655-a388-52e9f15594d7",
   "metadata": {},
   "outputs": [],
   "source": [
    "# train_scores = np.concatenate((data_dict1[\"data\"][:-16], data_dict2[\"data\"][:-16], data_dict3[\"data\"][:-16],\n",
    "#                                data_dict4[\"data\"][:-16], data_dict5[\"data\"][:-16]), axis=-1)\n",
    "# valid_scores = np.concatenate((data_dict1[\"data\"][-15:], data_dict2[\"data\"][-15:], data_dict3[\"data\"][-15:],\n",
    "#                                data_dict4[\"data\"][-15:], data_dict5[\"data\"][-15:]), axis=-1)\n",
    "\n",
    "# train_scores.shape, valid_scores.shape"
   ]
  },
  {
   "cell_type": "code",
   "execution_count": 9,
   "id": "f7910f47-efd0-445d-aca8-f48c454e485e",
   "metadata": {},
   "outputs": [],
   "source": [
    "# train_scores[np.isnan(train_scores)] = 0\n",
    "# valid_scores[np.isnan(valid_scores)] = 0\n"
   ]
  },
  {
   "cell_type": "code",
   "execution_count": 10,
   "id": "f428cb6b-9480-4ff6-a06c-a682977173f4",
   "metadata": {},
   "outputs": [],
   "source": [
    "# scaler= MinMaxScaler((-1, 1))\n",
    "# scaler.fit(train_scores.reshape(-1, 76))"
   ]
  },
  {
   "cell_type": "code",
   "execution_count": 11,
   "id": "3ca4c935-8394-4eb8-8f12-5186245b3619",
   "metadata": {},
   "outputs": [],
   "source": [
    "# players = data_dict1['playerId']\n",
    "# players[:5]"
   ]
  },
  {
   "cell_type": "code",
   "execution_count": 12,
   "id": "cce90464-c090-4510-acef-1ace955075b6",
   "metadata": {},
   "outputs": [],
   "source": [
    "def reshape_targets(df_index, data):\n",
    "    dates, date_indices = np.unique(df_index.date.values, return_inverse=True)\n",
    "    playerids = df_index.playerId.values\n",
    "    players = np.unique(playerids)\n",
    "\n",
    "    target_arr = np.zeros((len(dates), len(players), data.shape[1]), dtype=np.float32)\n",
    "    date_to_idx = {dt: i for i, dt in enumerate(dates)}\n",
    "    pid_to_idx = {pid: i for i, pid in enumerate(players)}\n",
    "    for dti, dt in enumerate(dates):\n",
    "        sub_data = data[date_indices == dti]\n",
    "        pids = playerids[date_indices == dti]        \n",
    "        for pid, tgt in zip(pids, sub_data):\n",
    "            target_arr[dti, pid_to_idx[pid]] = tgt\n",
    "    return target_arr, dates\n",
    "                "
   ]
  },
  {
   "cell_type": "code",
   "execution_count": 13,
   "id": "f160522c-5673-4f1c-8c1b-fad456f339b9",
   "metadata": {},
   "outputs": [],
   "source": [
    "tr_index, vl_index = pd.read_csv(\"data/tr_index_small.csv\"), pd.read_csv(\"data/vl_index_small.csv\")"
   ]
  },
  {
   "cell_type": "code",
   "execution_count": 14,
   "id": "66d1cbe7-71c8-4906-84c1-5dbde9f592e7",
   "metadata": {},
   "outputs": [],
   "source": [
    "tr_targets, tr_dates = reshape_targets(tr_index, tr_index[TARGETS].values)\n",
    "vl_targets, vl_dates = reshape_targets(vl_index, vl_index[TARGETS].values)"
   ]
  },
  {
   "cell_type": "code",
   "execution_count": null,
   "id": "df6644b4-43b5-4d2a-9d0b-7b273a02527a",
   "metadata": {},
   "outputs": [],
   "source": []
  },
  {
   "cell_type": "code",
   "execution_count": 15,
   "id": "1a8ec8ac-faf9-41b3-8696-f5a8ec07b750",
   "metadata": {},
   "outputs": [
    {
     "data": {
      "text/html": [
       "<div>\n",
       "<style scoped>\n",
       "    .dataframe tbody tr th:only-of-type {\n",
       "        vertical-align: middle;\n",
       "    }\n",
       "\n",
       "    .dataframe tbody tr th {\n",
       "        vertical-align: top;\n",
       "    }\n",
       "\n",
       "    .dataframe thead th {\n",
       "        text-align: right;\n",
       "    }\n",
       "</style>\n",
       "<table border=\"1\" class=\"dataframe\">\n",
       "  <thead>\n",
       "    <tr style=\"text-align: right;\">\n",
       "      <th></th>\n",
       "      <th>playerId</th>\n",
       "      <th>target1</th>\n",
       "      <th>target2</th>\n",
       "      <th>target3</th>\n",
       "      <th>target4</th>\n",
       "      <th>date</th>\n",
       "    </tr>\n",
       "  </thead>\n",
       "  <tbody>\n",
       "    <tr>\n",
       "      <th>0</th>\n",
       "      <td>628317</td>\n",
       "      <td>0.011167</td>\n",
       "      <td>4.474708</td>\n",
       "      <td>0.005168</td>\n",
       "      <td>5.735294</td>\n",
       "      <td>20180101</td>\n",
       "    </tr>\n",
       "    <tr>\n",
       "      <th>1</th>\n",
       "      <td>547989</td>\n",
       "      <td>0.042993</td>\n",
       "      <td>5.593385</td>\n",
       "      <td>0.045033</td>\n",
       "      <td>2.794118</td>\n",
       "      <td>20180101</td>\n",
       "    </tr>\n",
       "    <tr>\n",
       "      <th>2</th>\n",
       "      <td>519317</td>\n",
       "      <td>0.974327</td>\n",
       "      <td>56.177043</td>\n",
       "      <td>13.693746</td>\n",
       "      <td>64.166667</td>\n",
       "      <td>20180101</td>\n",
       "    </tr>\n",
       "    <tr>\n",
       "      <th>3</th>\n",
       "      <td>607625</td>\n",
       "      <td>0.006700</td>\n",
       "      <td>2.675097</td>\n",
       "      <td>0.005168</td>\n",
       "      <td>1.862745</td>\n",
       "      <td>20180101</td>\n",
       "    </tr>\n",
       "    <tr>\n",
       "      <th>4</th>\n",
       "      <td>641553</td>\n",
       "      <td>0.011725</td>\n",
       "      <td>3.842412</td>\n",
       "      <td>1.001801</td>\n",
       "      <td>0.686275</td>\n",
       "      <td>20180101</td>\n",
       "    </tr>\n",
       "    <tr>\n",
       "      <th>...</th>\n",
       "      <td>...</td>\n",
       "      <td>...</td>\n",
       "      <td>...</td>\n",
       "      <td>...</td>\n",
       "      <td>...</td>\n",
       "      <td>...</td>\n",
       "    </tr>\n",
       "    <tr>\n",
       "      <th>1424395</th>\n",
       "      <td>592464</td>\n",
       "      <td>0.000000</td>\n",
       "      <td>0.014978</td>\n",
       "      <td>0.000000</td>\n",
       "      <td>0.080090</td>\n",
       "      <td>20210414</td>\n",
       "    </tr>\n",
       "    <tr>\n",
       "      <th>1424396</th>\n",
       "      <td>534606</td>\n",
       "      <td>0.001455</td>\n",
       "      <td>0.056167</td>\n",
       "      <td>0.000000</td>\n",
       "      <td>0.226138</td>\n",
       "      <td>20210414</td>\n",
       "    </tr>\n",
       "    <tr>\n",
       "      <th>1424397</th>\n",
       "      <td>622268</td>\n",
       "      <td>0.000582</td>\n",
       "      <td>0.235902</td>\n",
       "      <td>0.000000</td>\n",
       "      <td>0.075379</td>\n",
       "      <td>20210414</td>\n",
       "    </tr>\n",
       "    <tr>\n",
       "      <th>1424398</th>\n",
       "      <td>666163</td>\n",
       "      <td>0.000000</td>\n",
       "      <td>0.029956</td>\n",
       "      <td>0.000000</td>\n",
       "      <td>0.018845</td>\n",
       "      <td>20210414</td>\n",
       "    </tr>\n",
       "    <tr>\n",
       "      <th>1424399</th>\n",
       "      <td>548384</td>\n",
       "      <td>0.000873</td>\n",
       "      <td>0.524227</td>\n",
       "      <td>0.000000</td>\n",
       "      <td>0.146047</td>\n",
       "      <td>20210414</td>\n",
       "    </tr>\n",
       "  </tbody>\n",
       "</table>\n",
       "<p>1424400 rows × 6 columns</p>\n",
       "</div>"
      ],
      "text/plain": [
       "         playerId   target1    target2    target3    target4      date\n",
       "0          628317  0.011167   4.474708   0.005168   5.735294  20180101\n",
       "1          547989  0.042993   5.593385   0.045033   2.794118  20180101\n",
       "2          519317  0.974327  56.177043  13.693746  64.166667  20180101\n",
       "3          607625  0.006700   2.675097   0.005168   1.862745  20180101\n",
       "4          641553  0.011725   3.842412   1.001801   0.686275  20180101\n",
       "...           ...       ...        ...        ...        ...       ...\n",
       "1424395    592464  0.000000   0.014978   0.000000   0.080090  20210414\n",
       "1424396    534606  0.001455   0.056167   0.000000   0.226138  20210414\n",
       "1424397    622268  0.000582   0.235902   0.000000   0.075379  20210414\n",
       "1424398    666163  0.000000   0.029956   0.000000   0.018845  20210414\n",
       "1424399    548384  0.000873   0.524227   0.000000   0.146047  20210414\n",
       "\n",
       "[1424400 rows x 6 columns]"
      ]
     },
     "execution_count": 15,
     "metadata": {},
     "output_type": "execute_result"
    }
   ],
   "source": [
    "tr_index"
   ]
  },
  {
   "cell_type": "code",
   "execution_count": 16,
   "id": "fe172fb6-b436-4ff9-aa3a-30ec1f4e3d62",
   "metadata": {},
   "outputs": [
    {
     "data": {
      "text/plain": [
       "((1200, 1187, 4), (16, 1187, 4))"
      ]
     },
     "execution_count": 16,
     "metadata": {},
     "output_type": "execute_result"
    }
   ],
   "source": [
    "tr_targets.shape, vl_targets.shape"
   ]
  },
  {
   "cell_type": "code",
   "execution_count": 17,
   "id": "a72af776-4ce3-4f08-8791-77e1af0c7ce1",
   "metadata": {},
   "outputs": [],
   "source": [
    "X3_tr, xtr_dates = reshape_targets(tr_index, X_tr1)\n",
    "X3_vl, xvl_dates = reshape_targets(vl_index, X_vl1)"
   ]
  },
  {
   "cell_type": "code",
   "execution_count": 18,
   "id": "9e9afa2f-8d7f-4828-b0f1-c055e1245781",
   "metadata": {},
   "outputs": [
    {
     "data": {
      "text/plain": [
       "((1200, 1187, 422), (16, 1187, 422))"
      ]
     },
     "execution_count": 18,
     "metadata": {},
     "output_type": "execute_result"
    }
   ],
   "source": [
    "X3_tr.shape, X3_vl.shape"
   ]
  },
  {
   "cell_type": "code",
   "execution_count": 59,
   "id": "d3f0c952-9703-4d64-9419-56c3c2eff4fa",
   "metadata": {},
   "outputs": [],
   "source": [
    "class JointModel(nn.Module):\n",
    "    def __init__(self, in_f, out_f, d, p):\n",
    "        super().__init__()\n",
    "        self.fc1 = nn.Linear(in_f, d)\n",
    "        self.h1 = nn.Linear(d, d)\n",
    "        #self.attn = nn.MultiheadAttention(out_f, 1)\n",
    "        self.classifier = nn.Linear(d, 4)\n",
    "        self.classifier2 = nn.Linear(8, 4)\n",
    "        #self.fc2 = nn.Linear(1187, 1187)\n",
    "        self.bnorm1 = nn.BatchNorm1d(in_f, momentum=0.01)\n",
    "        #self.norm1 = nn.LayerNorm(d)\n",
    "        self.relu = nn.ReLU()\n",
    "        self.tanh = nn.Tanh()\n",
    "        #self.bnorm2 = nn.InstanceNorm1d(d)\n",
    "        self.drop = nn.Dropout(p)\n",
    "        self.drop2d = nn.Dropout2d(0.1)\n",
    "    \n",
    "    def forward(self, x):\n",
    "        x = self.bnorm1(x.permute(0, 2, 1)).permute(0, 2, 1).contiguous()\n",
    "        #x = self.bnorm1(x)\n",
    "        x = self.fc1(self.drop(x))\n",
    "        x = self.relu(x)\n",
    "        #x = x.permute(1, 0, 2).contiguous()\n",
    "        #x = x + self.attn(x, x, x)[0]\n",
    "        #x = self.relu(x)\n",
    "        #x = x.permute(1, 0, 2).contiguous()\n",
    "        x = x + x * self.tanh(self.h1(x))\n",
    "        #x = x + x * self.tanh(self.h1(x))\n",
    "\n",
    "        #x = self.bnorm2(x.permute(0, 2, 1)).permute(0, 2, 1).contiguous()\n",
    "        x = self.relu(x)\n",
    "        x = self.classifier(self.drop(x))\n",
    "        x = torch.cat([x, x.max(dim=1, keepdims=True)[0].repeat(1, 1187, 1)], dim=2)\n",
    "        x = self.classifier2(x)\n",
    "        #x = x * self.tanh(self.fc2(x.permute(0, 2, 1)).permute(0, 2, 1).contiguous())\n",
    "        #x = x/(1e-6 + x.max(dim=1, keepdims=True)[0])\n",
    "        #x = x.permute(1, 0, 2).contiguous()\n",
    "        #x = x + self.attn(x, x, x)[0]\n",
    "        #x = x.permute(1, 0, 2).contiguous()\n",
    "        return x\n",
    "\n",
    "\n",
    "class LitModel(pl.LightningModule):\n",
    "    \"\"\"PL Model\"\"\"\n",
    "    def __init__(\n",
    "        self,\n",
    "        in_f=76,\n",
    "        out_f=4,\n",
    "        d=32,\n",
    "        p=0.05,\n",
    "        lr=0.003,\n",
    "        wd=0.001,\n",
    "        grad_avg=True,\n",
    "        steps=[30],\n",
    "        gamma=0.1,\n",
    "        \n",
    "    ):\n",
    "        super().__init__()\n",
    "        self.save_hyperparameters()\n",
    "        self.model = JointModel(in_f, out_f, d, p)\n",
    "        self.criterion = torch.nn.L1Loss()\n",
    "\n",
    "    def forward(self, x):\n",
    "        return self.model(x)\n",
    "\n",
    "    def step(self, batch):\n",
    "        x, y = batch\n",
    "        yhat = self.forward(x)\n",
    "        loss = self.criterion(yhat, y)\n",
    "        return loss, torch.square(10*yhat), torch.square(10*y)\n",
    "\n",
    "    def training_step(self, batch, batch_idx):\n",
    "        loss, preds, y = self.step(batch)\n",
    "        loss_corr = self.criterion(y, preds)\n",
    "        self.log(\"train/loss\", loss_corr, on_step=True, on_epoch=True, prog_bar=True)\n",
    "        return {\"loss\": loss}\n",
    "\n",
    "    def validation_step(self, batch, batch_idx):\n",
    "        loss, preds, y = self.step(batch)\n",
    "        loss_corr = self.criterion(y, preds)\n",
    "\n",
    "        self.log(\"val/loss\", loss_corr, on_step=False, on_epoch=True, prog_bar=True)\n",
    "        return {\"loss\": loss}\n",
    "\n",
    "    def test_step(self, batch, batch_idx):\n",
    "        loss, preds, y = self.step(batch)\n",
    "        return {\"loss\": loss, \"preds\": preds}\n",
    "\n",
    "    def test_epoch_end(self, outputs):\n",
    "        preds = torch.cat([o[\"preds\"] for o in outputs], 0).cpu().numpy()\n",
    "        self.log(\"output\", preds)\n",
    "\n",
    "    def configure_optimizers(self):\n",
    "        optimizer = NovoGrad(self.parameters(), grad_averaging=self.hparams.grad_avg, lr=self.hparams.lr, weight_decay=self.hparams.wd)\n",
    "        #optimizer = torch.optim.SGD(self.parameters(), lr=self.hparams.lr, weight_decay=self.hparams.wd)\n",
    "        scheduler = torch.optim.lr_scheduler.MultiStepLR(optimizer, gamma=self.hparams.gamma, milestones=self.hparams.steps)\n",
    "        return [optimizer], [{\"scheduler\": scheduler, \"interval\": \"epoch\"}]"
   ]
  },
  {
   "cell_type": "code",
   "execution_count": 65,
   "id": "eff9140f-ab9e-4694-b1d9-9f0632a317aa",
   "metadata": {},
   "outputs": [],
   "source": [
    "BATCH_SIZE = 8\n",
    "NUM_WORKERS = 8\n",
    "IN_F = 422\n",
    "D = 2048\n",
    "P = 0.05\n",
    "LR = 0.005\n",
    "WD = 0.001\n",
    "GRAD_AVG = True\n",
    "MAX_EPOCHS = 50\n",
    "STEPS = [30, 40]\n",
    "GAMMA = 0.1\n",
    "version = 'v2'"
   ]
  },
  {
   "cell_type": "code",
   "execution_count": 66,
   "id": "9db5e7d9-6745-4734-bcfa-3c4524323f54",
   "metadata": {},
   "outputs": [],
   "source": [
    "tr_ds = PivotData(X3_tr, tr_targets, scaler)\n",
    "tr_dl = DataLoader(tr_ds, batch_size=BATCH_SIZE, shuffle=True, num_workers=NUM_WORKERS)\n",
    "vl_ds = PivotData(X3_vl, vl_targets, scaler)\n",
    "vl_dl = DataLoader(vl_ds, batch_size=BATCH_SIZE*2, drop_last=False, shuffle=False, num_workers=NUM_WORKERS)"
   ]
  },
  {
   "cell_type": "code",
   "execution_count": 68,
   "id": "1e9db662-8905-428d-a7fa-cb298ee4db57",
   "metadata": {},
   "outputs": [
    {
     "data": {
      "text/html": [
       "\n",
       "                Tracking run with wandb version 0.11.0<br/>\n",
       "                Syncing run <strong style=\"color:#cdcd00\">nnflat_vl15_2048_123786000</strong> to <a href=\"https://wandb.ai\" target=\"_blank\">Weights & Biases</a> <a href=\"https://docs.wandb.com/integrations/jupyter.html\" target=\"_blank\">(Documentation)</a>.<br/>\n",
       "                Project page: <a href=\"https://wandb.ai/mohsinhkn/mlb\" target=\"_blank\">https://wandb.ai/mohsinhkn/mlb</a><br/>\n",
       "                Run page: <a href=\"https://wandb.ai/mohsinhkn/mlb/runs/28mnq2zj\" target=\"_blank\">https://wandb.ai/mohsinhkn/mlb/runs/28mnq2zj</a><br/>\n",
       "                Run data is saved locally in <code>/home/mohsin_okcredit_in/projects/mlb/wandb/run-20210728_081126-28mnq2zj</code><br/><br/>\n",
       "            "
      ],
      "text/plain": [
       "<IPython.core.display.HTML object>"
      ]
     },
     "metadata": {},
     "output_type": "display_data"
    },
    {
     "name": "stderr",
     "output_type": "stream",
     "text": [
      "GPU available: True, used: True\n",
      "TPU available: False, using: 0 TPU cores\n"
     ]
    }
   ],
   "source": [
    "model = LitModel(IN_F, 4, D, P, lr=LR, wd=WD, grad_avg=GRAD_AVG, steps=STEPS, gamma=GAMMA)\n",
    "#model.load_state_dict(torch.load(\"data/checkpoints/192_4578690_v2/epoch=35-val_loss=1.3396.ckpt\")[\"state_dict\"], strict=False)\n",
    "callbacks = [pl.callbacks.ModelCheckpoint(monitor='val/loss', save_top_k=3, mode='min', dirpath=f'data/pivot_nn/checkpoints/{D}_{seed}_{version}', auto_insert_metric_name=False,\n",
    "                                         filename=\"epoch={epoch}-val_loss={val/loss:.4f}\")]\n",
    "logger = pl.loggers.wandb.WandbLogger(project='mlb', name=f'nnflat_vl15_{str(D)}_{seed}', tags=['flat nn', f'{D}'], id=wandb.util.generate_id())\n",
    "logger.log_hyperparams({'D': D, 'P': P, 'LR': LR, 'WD': WD, 'GRAD_AVG': GRAD_AVG, 'BATCH_SIZE': BATCH_SIZE})\n",
    "trainer = pl.Trainer(gpus=[1], max_epochs=MAX_EPOCHS, logger=logger, callbacks=callbacks, stochastic_weight_avg=False, deterministic=True)"
   ]
  },
  {
   "cell_type": "code",
   "execution_count": 69,
   "id": "c9d2ec64-0cec-4a60-95a1-e87a3a683282",
   "metadata": {},
   "outputs": [
    {
     "name": "stderr",
     "output_type": "stream",
     "text": [
      "LOCAL_RANK: 0 - CUDA_VISIBLE_DEVICES: [0,1]\n",
      "\n",
      "  | Name      | Type       | Params\n",
      "-----------------------------------------\n",
      "0 | model     | JointModel | 5.1 M \n",
      "1 | criterion | L1Loss     | 0     \n",
      "-----------------------------------------\n",
      "5.1 M     Trainable params\n",
      "0         Non-trainable params\n",
      "5.1 M     Total params\n",
      "20.287    Total estimated model params size (MB)\n"
     ]
    },
    {
     "data": {
      "application/vnd.jupyter.widget-view+json": {
       "model_id": "",
       "version_major": 2,
       "version_minor": 0
      },
      "text/plain": [
       "Validation sanity check: 0it [00:00, ?it/s]"
      ]
     },
     "metadata": {},
     "output_type": "display_data"
    },
    {
     "name": "stderr",
     "output_type": "stream",
     "text": [
      "Global seed set to 123786000\n"
     ]
    },
    {
     "data": {
      "application/vnd.jupyter.widget-view+json": {
       "model_id": "1e15b715b2de4717adf83c397dddb13b",
       "version_major": 2,
       "version_minor": 0
      },
      "text/plain": [
       "Training: 0it [00:00, ?it/s]"
      ]
     },
     "metadata": {},
     "output_type": "display_data"
    },
    {
     "data": {
      "application/vnd.jupyter.widget-view+json": {
       "model_id": "",
       "version_major": 2,
       "version_minor": 0
      },
      "text/plain": [
       "Validating: 0it [00:00, ?it/s]"
      ]
     },
     "metadata": {},
     "output_type": "display_data"
    },
    {
     "data": {
      "application/vnd.jupyter.widget-view+json": {
       "model_id": "",
       "version_major": 2,
       "version_minor": 0
      },
      "text/plain": [
       "Validating: 0it [00:00, ?it/s]"
      ]
     },
     "metadata": {},
     "output_type": "display_data"
    },
    {
     "data": {
      "application/vnd.jupyter.widget-view+json": {
       "model_id": "",
       "version_major": 2,
       "version_minor": 0
      },
      "text/plain": [
       "Validating: 0it [00:00, ?it/s]"
      ]
     },
     "metadata": {},
     "output_type": "display_data"
    },
    {
     "data": {
      "application/vnd.jupyter.widget-view+json": {
       "model_id": "",
       "version_major": 2,
       "version_minor": 0
      },
      "text/plain": [
       "Validating: 0it [00:00, ?it/s]"
      ]
     },
     "metadata": {},
     "output_type": "display_data"
    },
    {
     "data": {
      "application/vnd.jupyter.widget-view+json": {
       "model_id": "",
       "version_major": 2,
       "version_minor": 0
      },
      "text/plain": [
       "Validating: 0it [00:00, ?it/s]"
      ]
     },
     "metadata": {},
     "output_type": "display_data"
    },
    {
     "data": {
      "application/vnd.jupyter.widget-view+json": {
       "model_id": "",
       "version_major": 2,
       "version_minor": 0
      },
      "text/plain": [
       "Validating: 0it [00:00, ?it/s]"
      ]
     },
     "metadata": {},
     "output_type": "display_data"
    },
    {
     "data": {
      "application/vnd.jupyter.widget-view+json": {
       "model_id": "",
       "version_major": 2,
       "version_minor": 0
      },
      "text/plain": [
       "Validating: 0it [00:00, ?it/s]"
      ]
     },
     "metadata": {},
     "output_type": "display_data"
    },
    {
     "data": {
      "application/vnd.jupyter.widget-view+json": {
       "model_id": "",
       "version_major": 2,
       "version_minor": 0
      },
      "text/plain": [
       "Validating: 0it [00:00, ?it/s]"
      ]
     },
     "metadata": {},
     "output_type": "display_data"
    },
    {
     "data": {
      "application/vnd.jupyter.widget-view+json": {
       "model_id": "",
       "version_major": 2,
       "version_minor": 0
      },
      "text/plain": [
       "Validating: 0it [00:00, ?it/s]"
      ]
     },
     "metadata": {},
     "output_type": "display_data"
    },
    {
     "data": {
      "application/vnd.jupyter.widget-view+json": {
       "model_id": "",
       "version_major": 2,
       "version_minor": 0
      },
      "text/plain": [
       "Validating: 0it [00:00, ?it/s]"
      ]
     },
     "metadata": {},
     "output_type": "display_data"
    },
    {
     "data": {
      "application/vnd.jupyter.widget-view+json": {
       "model_id": "",
       "version_major": 2,
       "version_minor": 0
      },
      "text/plain": [
       "Validating: 0it [00:00, ?it/s]"
      ]
     },
     "metadata": {},
     "output_type": "display_data"
    },
    {
     "data": {
      "application/vnd.jupyter.widget-view+json": {
       "model_id": "",
       "version_major": 2,
       "version_minor": 0
      },
      "text/plain": [
       "Validating: 0it [00:00, ?it/s]"
      ]
     },
     "metadata": {},
     "output_type": "display_data"
    },
    {
     "data": {
      "application/vnd.jupyter.widget-view+json": {
       "model_id": "",
       "version_major": 2,
       "version_minor": 0
      },
      "text/plain": [
       "Validating: 0it [00:00, ?it/s]"
      ]
     },
     "metadata": {},
     "output_type": "display_data"
    },
    {
     "data": {
      "application/vnd.jupyter.widget-view+json": {
       "model_id": "",
       "version_major": 2,
       "version_minor": 0
      },
      "text/plain": [
       "Validating: 0it [00:00, ?it/s]"
      ]
     },
     "metadata": {},
     "output_type": "display_data"
    },
    {
     "data": {
      "application/vnd.jupyter.widget-view+json": {
       "model_id": "",
       "version_major": 2,
       "version_minor": 0
      },
      "text/plain": [
       "Validating: 0it [00:00, ?it/s]"
      ]
     },
     "metadata": {},
     "output_type": "display_data"
    },
    {
     "data": {
      "application/vnd.jupyter.widget-view+json": {
       "model_id": "",
       "version_major": 2,
       "version_minor": 0
      },
      "text/plain": [
       "Validating: 0it [00:00, ?it/s]"
      ]
     },
     "metadata": {},
     "output_type": "display_data"
    },
    {
     "data": {
      "application/vnd.jupyter.widget-view+json": {
       "model_id": "",
       "version_major": 2,
       "version_minor": 0
      },
      "text/plain": [
       "Validating: 0it [00:00, ?it/s]"
      ]
     },
     "metadata": {},
     "output_type": "display_data"
    },
    {
     "data": {
      "application/vnd.jupyter.widget-view+json": {
       "model_id": "",
       "version_major": 2,
       "version_minor": 0
      },
      "text/plain": [
       "Validating: 0it [00:00, ?it/s]"
      ]
     },
     "metadata": {},
     "output_type": "display_data"
    },
    {
     "data": {
      "application/vnd.jupyter.widget-view+json": {
       "model_id": "",
       "version_major": 2,
       "version_minor": 0
      },
      "text/plain": [
       "Validating: 0it [00:00, ?it/s]"
      ]
     },
     "metadata": {},
     "output_type": "display_data"
    },
    {
     "data": {
      "application/vnd.jupyter.widget-view+json": {
       "model_id": "",
       "version_major": 2,
       "version_minor": 0
      },
      "text/plain": [
       "Validating: 0it [00:00, ?it/s]"
      ]
     },
     "metadata": {},
     "output_type": "display_data"
    },
    {
     "data": {
      "application/vnd.jupyter.widget-view+json": {
       "model_id": "",
       "version_major": 2,
       "version_minor": 0
      },
      "text/plain": [
       "Validating: 0it [00:00, ?it/s]"
      ]
     },
     "metadata": {},
     "output_type": "display_data"
    },
    {
     "data": {
      "application/vnd.jupyter.widget-view+json": {
       "model_id": "",
       "version_major": 2,
       "version_minor": 0
      },
      "text/plain": [
       "Validating: 0it [00:00, ?it/s]"
      ]
     },
     "metadata": {},
     "output_type": "display_data"
    },
    {
     "data": {
      "application/vnd.jupyter.widget-view+json": {
       "model_id": "",
       "version_major": 2,
       "version_minor": 0
      },
      "text/plain": [
       "Validating: 0it [00:00, ?it/s]"
      ]
     },
     "metadata": {},
     "output_type": "display_data"
    },
    {
     "data": {
      "application/vnd.jupyter.widget-view+json": {
       "model_id": "",
       "version_major": 2,
       "version_minor": 0
      },
      "text/plain": [
       "Validating: 0it [00:00, ?it/s]"
      ]
     },
     "metadata": {},
     "output_type": "display_data"
    },
    {
     "data": {
      "application/vnd.jupyter.widget-view+json": {
       "model_id": "",
       "version_major": 2,
       "version_minor": 0
      },
      "text/plain": [
       "Validating: 0it [00:00, ?it/s]"
      ]
     },
     "metadata": {},
     "output_type": "display_data"
    },
    {
     "data": {
      "application/vnd.jupyter.widget-view+json": {
       "model_id": "",
       "version_major": 2,
       "version_minor": 0
      },
      "text/plain": [
       "Validating: 0it [00:00, ?it/s]"
      ]
     },
     "metadata": {},
     "output_type": "display_data"
    },
    {
     "data": {
      "application/vnd.jupyter.widget-view+json": {
       "model_id": "",
       "version_major": 2,
       "version_minor": 0
      },
      "text/plain": [
       "Validating: 0it [00:00, ?it/s]"
      ]
     },
     "metadata": {},
     "output_type": "display_data"
    },
    {
     "data": {
      "application/vnd.jupyter.widget-view+json": {
       "model_id": "",
       "version_major": 2,
       "version_minor": 0
      },
      "text/plain": [
       "Validating: 0it [00:00, ?it/s]"
      ]
     },
     "metadata": {},
     "output_type": "display_data"
    },
    {
     "data": {
      "application/vnd.jupyter.widget-view+json": {
       "model_id": "",
       "version_major": 2,
       "version_minor": 0
      },
      "text/plain": [
       "Validating: 0it [00:00, ?it/s]"
      ]
     },
     "metadata": {},
     "output_type": "display_data"
    },
    {
     "data": {
      "application/vnd.jupyter.widget-view+json": {
       "model_id": "",
       "version_major": 2,
       "version_minor": 0
      },
      "text/plain": [
       "Validating: 0it [00:00, ?it/s]"
      ]
     },
     "metadata": {},
     "output_type": "display_data"
    },
    {
     "data": {
      "application/vnd.jupyter.widget-view+json": {
       "model_id": "",
       "version_major": 2,
       "version_minor": 0
      },
      "text/plain": [
       "Validating: 0it [00:00, ?it/s]"
      ]
     },
     "metadata": {},
     "output_type": "display_data"
    },
    {
     "data": {
      "application/vnd.jupyter.widget-view+json": {
       "model_id": "",
       "version_major": 2,
       "version_minor": 0
      },
      "text/plain": [
       "Validating: 0it [00:00, ?it/s]"
      ]
     },
     "metadata": {},
     "output_type": "display_data"
    },
    {
     "data": {
      "application/vnd.jupyter.widget-view+json": {
       "model_id": "",
       "version_major": 2,
       "version_minor": 0
      },
      "text/plain": [
       "Validating: 0it [00:00, ?it/s]"
      ]
     },
     "metadata": {},
     "output_type": "display_data"
    },
    {
     "data": {
      "application/vnd.jupyter.widget-view+json": {
       "model_id": "",
       "version_major": 2,
       "version_minor": 0
      },
      "text/plain": [
       "Validating: 0it [00:00, ?it/s]"
      ]
     },
     "metadata": {},
     "output_type": "display_data"
    },
    {
     "data": {
      "application/vnd.jupyter.widget-view+json": {
       "model_id": "",
       "version_major": 2,
       "version_minor": 0
      },
      "text/plain": [
       "Validating: 0it [00:00, ?it/s]"
      ]
     },
     "metadata": {},
     "output_type": "display_data"
    },
    {
     "data": {
      "application/vnd.jupyter.widget-view+json": {
       "model_id": "",
       "version_major": 2,
       "version_minor": 0
      },
      "text/plain": [
       "Validating: 0it [00:00, ?it/s]"
      ]
     },
     "metadata": {},
     "output_type": "display_data"
    },
    {
     "data": {
      "application/vnd.jupyter.widget-view+json": {
       "model_id": "",
       "version_major": 2,
       "version_minor": 0
      },
      "text/plain": [
       "Validating: 0it [00:00, ?it/s]"
      ]
     },
     "metadata": {},
     "output_type": "display_data"
    },
    {
     "data": {
      "application/vnd.jupyter.widget-view+json": {
       "model_id": "",
       "version_major": 2,
       "version_minor": 0
      },
      "text/plain": [
       "Validating: 0it [00:00, ?it/s]"
      ]
     },
     "metadata": {},
     "output_type": "display_data"
    },
    {
     "data": {
      "application/vnd.jupyter.widget-view+json": {
       "model_id": "",
       "version_major": 2,
       "version_minor": 0
      },
      "text/plain": [
       "Validating: 0it [00:00, ?it/s]"
      ]
     },
     "metadata": {},
     "output_type": "display_data"
    },
    {
     "data": {
      "application/vnd.jupyter.widget-view+json": {
       "model_id": "",
       "version_major": 2,
       "version_minor": 0
      },
      "text/plain": [
       "Validating: 0it [00:00, ?it/s]"
      ]
     },
     "metadata": {},
     "output_type": "display_data"
    },
    {
     "data": {
      "application/vnd.jupyter.widget-view+json": {
       "model_id": "",
       "version_major": 2,
       "version_minor": 0
      },
      "text/plain": [
       "Validating: 0it [00:00, ?it/s]"
      ]
     },
     "metadata": {},
     "output_type": "display_data"
    },
    {
     "data": {
      "application/vnd.jupyter.widget-view+json": {
       "model_id": "",
       "version_major": 2,
       "version_minor": 0
      },
      "text/plain": [
       "Validating: 0it [00:00, ?it/s]"
      ]
     },
     "metadata": {},
     "output_type": "display_data"
    },
    {
     "data": {
      "application/vnd.jupyter.widget-view+json": {
       "model_id": "",
       "version_major": 2,
       "version_minor": 0
      },
      "text/plain": [
       "Validating: 0it [00:00, ?it/s]"
      ]
     },
     "metadata": {},
     "output_type": "display_data"
    },
    {
     "data": {
      "application/vnd.jupyter.widget-view+json": {
       "model_id": "",
       "version_major": 2,
       "version_minor": 0
      },
      "text/plain": [
       "Validating: 0it [00:00, ?it/s]"
      ]
     },
     "metadata": {},
     "output_type": "display_data"
    },
    {
     "data": {
      "application/vnd.jupyter.widget-view+json": {
       "model_id": "",
       "version_major": 2,
       "version_minor": 0
      },
      "text/plain": [
       "Validating: 0it [00:00, ?it/s]"
      ]
     },
     "metadata": {},
     "output_type": "display_data"
    },
    {
     "data": {
      "application/vnd.jupyter.widget-view+json": {
       "model_id": "",
       "version_major": 2,
       "version_minor": 0
      },
      "text/plain": [
       "Validating: 0it [00:00, ?it/s]"
      ]
     },
     "metadata": {},
     "output_type": "display_data"
    },
    {
     "data": {
      "application/vnd.jupyter.widget-view+json": {
       "model_id": "",
       "version_major": 2,
       "version_minor": 0
      },
      "text/plain": [
       "Validating: 0it [00:00, ?it/s]"
      ]
     },
     "metadata": {},
     "output_type": "display_data"
    },
    {
     "data": {
      "application/vnd.jupyter.widget-view+json": {
       "model_id": "",
       "version_major": 2,
       "version_minor": 0
      },
      "text/plain": [
       "Validating: 0it [00:00, ?it/s]"
      ]
     },
     "metadata": {},
     "output_type": "display_data"
    },
    {
     "data": {
      "application/vnd.jupyter.widget-view+json": {
       "model_id": "",
       "version_major": 2,
       "version_minor": 0
      },
      "text/plain": [
       "Validating: 0it [00:00, ?it/s]"
      ]
     },
     "metadata": {},
     "output_type": "display_data"
    },
    {
     "data": {
      "application/vnd.jupyter.widget-view+json": {
       "model_id": "",
       "version_major": 2,
       "version_minor": 0
      },
      "text/plain": [
       "Validating: 0it [00:00, ?it/s]"
      ]
     },
     "metadata": {},
     "output_type": "display_data"
    }
   ],
   "source": [
    "trainer.fit(model, tr_dl, vl_dl)"
   ]
  },
  {
   "cell_type": "code",
   "execution_count": 70,
   "id": "4c88bcbc-3168-41c1-814d-60d8f3c4a2eb",
   "metadata": {},
   "outputs": [
    {
     "data": {
      "text/html": [
       "<br/>Waiting for W&B process to finish, PID 1109122<br/>Program ended successfully."
      ],
      "text/plain": [
       "<IPython.core.display.HTML object>"
      ]
     },
     "metadata": {},
     "output_type": "display_data"
    },
    {
     "data": {
      "application/vnd.jupyter.widget-view+json": {
       "model_id": "",
       "version_major": 2,
       "version_minor": 0
      },
      "text/plain": [
       "VBox(children=(Label(value=' 0.00MB of 0.00MB uploaded (0.00MB deduped)\\r'), FloatProgress(value=1.0, max=1.0)…"
      ]
     },
     "metadata": {},
     "output_type": "display_data"
    },
    {
     "data": {
      "text/html": [
       "Find user logs for this run at: <code>/home/mohsin_okcredit_in/projects/mlb/wandb/run-20210728_081126-28mnq2zj/logs/debug.log</code>"
      ],
      "text/plain": [
       "<IPython.core.display.HTML object>"
      ]
     },
     "metadata": {},
     "output_type": "display_data"
    },
    {
     "data": {
      "text/html": [
       "Find internal logs for this run at: <code>/home/mohsin_okcredit_in/projects/mlb/wandb/run-20210728_081126-28mnq2zj/logs/debug-internal.log</code>"
      ],
      "text/plain": [
       "<IPython.core.display.HTML object>"
      ]
     },
     "metadata": {},
     "output_type": "display_data"
    },
    {
     "data": {
      "text/html": [
       "<h3>Run summary:</h3><br/><style>\n",
       "    table.wandb td:nth-child(1) { padding: 0 10px; text-align: right }\n",
       "    </style><table class=\"wandb\">\n",
       "<tr><td>train/loss_step</td><td>1.26231</td></tr><tr><td>epoch</td><td>49</td></tr><tr><td>trainer/global_step</td><td>7499</td></tr><tr><td>_runtime</td><td>366</td></tr><tr><td>_timestamp</td><td>1627460252</td></tr><tr><td>_step</td><td>249</td></tr><tr><td>train/loss_epoch</td><td>1.10272</td></tr><tr><td>val/loss</td><td>1.38187</td></tr></table>"
      ],
      "text/plain": [
       "<IPython.core.display.HTML object>"
      ]
     },
     "metadata": {},
     "output_type": "display_data"
    },
    {
     "data": {
      "text/html": [
       "<h3>Run history:</h3><br/><style>\n",
       "    table.wandb td:nth-child(1) { padding: 0 10px; text-align: right }\n",
       "    </style><table class=\"wandb\">\n",
       "<tr><td>train/loss_step</td><td>█▅▁▂▂▂▂▃▁▂▁▂▁▂▁▁▂▂▁▂▂▂▂▂▁▂▂▁▂▂▂▁▃▂▃▂▁▂▂▂</td></tr><tr><td>epoch</td><td>▁▁▁▁▂▂▂▂▂▃▃▃▃▃▃▄▄▄▄▄▅▅▅▅▅▅▆▆▆▆▆▇▇▇▇▇▇███</td></tr><tr><td>trainer/global_step</td><td>▁▁▁▁▂▂▂▂▂▃▃▃▃▃▃▄▄▄▄▄▅▅▅▅▅▅▆▆▆▆▆▇▇▇▇▇▇███</td></tr><tr><td>_runtime</td><td>▁▁▁▁▂▂▂▂▂▃▃▃▃▃▄▄▄▄▄▄▅▅▅▅▅▅▆▆▆▆▆▇▇▇▇▇▇███</td></tr><tr><td>_timestamp</td><td>▁▁▁▁▂▂▂▂▂▃▃▃▃▃▄▄▄▄▄▄▅▅▅▅▅▅▆▆▆▆▆▇▇▇▇▇▇███</td></tr><tr><td>_step</td><td>▁▁▁▂▂▂▂▂▂▃▃▃▃▃▄▄▄▄▄▄▅▅▅▅▅▅▆▆▆▆▆▇▇▇▇▇▇███</td></tr><tr><td>train/loss_epoch</td><td>█▁▁▁▁▁▁▁▁▁▁▁▁▁▁▁▁▁▁▁▁▁▁▁▁▁▁▁▁▁▁▁▁▁▁▁▁▁▁▁</td></tr><tr><td>val/loss</td><td>█▃▃▂▂▂▁▁▁▁▁▂▂▂▁▁▁▁▁▁▁▁▁▁▁▁▁▁▁▁▁▁▁▁▁▁▁▁▁▁</td></tr></table><br/>"
      ],
      "text/plain": [
       "<IPython.core.display.HTML object>"
      ]
     },
     "metadata": {},
     "output_type": "display_data"
    },
    {
     "data": {
      "text/html": [
       "Synced 6 W&B file(s), 0 media file(s), 0 artifact file(s) and 0 other file(s)"
      ],
      "text/plain": [
       "<IPython.core.display.HTML object>"
      ]
     },
     "metadata": {},
     "output_type": "display_data"
    },
    {
     "data": {
      "text/html": [
       "\n",
       "                    <br/>Synced <strong style=\"color:#cdcd00\">nnflat_vl15_2048_123786000</strong>: <a href=\"https://wandb.ai/mohsinhkn/mlb/runs/28mnq2zj\" target=\"_blank\">https://wandb.ai/mohsinhkn/mlb/runs/28mnq2zj</a><br/>\n",
       "                "
      ],
      "text/plain": [
       "<IPython.core.display.HTML object>"
      ]
     },
     "metadata": {},
     "output_type": "display_data"
    }
   ],
   "source": [
    "wandb.finish()"
   ]
  },
  {
   "cell_type": "code",
   "execution_count": null,
   "id": "7ef08f8e-1ca3-4cec-a6a1-8af294150525",
   "metadata": {},
   "outputs": [],
   "source": [
    "# lastn "
   ]
  },
  {
   "cell_type": "code",
   "execution_count": null,
   "id": "302ab8d3-f8b5-49fa-ae08-6e4faa14ce38",
   "metadata": {},
   "outputs": [],
   "source": []
  }
 ],
 "metadata": {
  "kernelspec": {
   "display_name": "Python 3",
   "language": "python",
   "name": "python3"
  },
  "language_info": {
   "codemirror_mode": {
    "name": "ipython",
    "version": 3
   },
   "file_extension": ".py",
   "mimetype": "text/x-python",
   "name": "python",
   "nbconvert_exporter": "python",
   "pygments_lexer": "ipython3",
   "version": "3.8.10"
  }
 },
 "nbformat": 4,
 "nbformat_minor": 5
}
