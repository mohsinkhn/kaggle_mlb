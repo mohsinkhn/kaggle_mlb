{
 "cells": [
  {
   "cell_type": "code",
   "execution_count": 1,
   "id": "bb785e4a-eacf-450e-87aa-3aae7b254703",
   "metadata": {},
   "outputs": [],
   "source": [
    "import json\n",
    "import hydra\n",
    "from omegaconf import OmegaConf\n",
    "import pandas as pd\n",
    "import matplotlib.pyplot as plt\n",
    "import numpy as np\n",
    "import seaborn as sns\n",
    "from sklearn.pipeline import make_union, make_pipeline\n",
    "\n",
    "from mllib.transformers import *\n",
    "from src.pipelines.artifacts import ParsePlayerData\n",
    "from src.utils.utils import print_config"
   ]
  },
  {
   "cell_type": "code",
   "execution_count": 2,
   "id": "82229a74-1b1c-4f31-b52c-e6184285c068",
   "metadata": {},
   "outputs": [],
   "source": [
    "# Generate index\n",
    "TRAIN_FILE = \"data/train.csv\"\n",
    "PLAYERS_FILE = \"data/players.csv\"\n",
    "VAL_START_DATE = 20210415\n",
    "TARGETS = [\"target1\", \"target2\", \"target3\", \"target4\"]\n"
   ]
  },
  {
   "cell_type": "code",
   "execution_count": null,
   "id": "0b727866-3ca3-48c9-9e01-f1c50722f228",
   "metadata": {},
   "outputs": [],
   "source": [
    "raw_data = pd.read_csv(TRAIN_FILE)\n",
    "tr = raw_data.loc[raw_data.date < VAL_START_DATE]\n",
    "val = raw_data.loc[raw_data.date >= VAL_START_DATE]\n",
    "print(raw_data.shape, val.shape)"
   ]
  },
  {
   "cell_type": "code",
   "execution_count": 4,
   "id": "8a1a0926-c036-4df5-bbde-664b774436df",
   "metadata": {},
   "outputs": [],
   "source": [
    "from src.pipelines.artifacts import ParseJsonField"
   ]
  },
  {
   "cell_type": "code",
   "execution_count": 5,
   "id": "d5241e88-e9a2-4c66-bbd8-d971c2f7b161",
   "metadata": {},
   "outputs": [
    {
     "name": "stderr",
     "output_type": "stream",
     "text": [
      "100%|██████████| 1216/1216 [00:08<00:00, 143.27it/s]\n"
     ]
    }
   ],
   "source": [
    "parser = ParseJsonField('date', 'rosters', use_cols=['status', 'statusCode'])\n",
    "roster_df = parser.transform(raw_data)"
   ]
  },
  {
   "cell_type": "code",
   "execution_count": 6,
   "id": "4a059cf0-c4ff-403f-9097-623c12919579",
   "metadata": {},
   "outputs": [
    {
     "name": "stderr",
     "output_type": "stream",
     "text": [
      "100%|██████████| 1195/1195 [00:17<00:00, 69.11it/s]\n",
      "100%|██████████| 21/21 [00:00<00:00, 66.49it/s]\n"
     ]
    }
   ],
   "source": [
    "roster_2021 = pd.read_csv(PLAYERS_FILE)\n",
    "roster_2021 = roster_2021.loc[roster_2021.playerForTestSetAndFuturePreds == True]\n",
    "target_enc = ParsePlayerData(\"nextDayPlayerEngagement\", TARGETS)\n",
    "tr_index = target_enc.fit_transform(tr).reset_index(drop=False)\n",
    "tr_index = tr_index.loc[tr_index.playerId.isin(roster_2021.playerId.astype(str))]\n",
    "# tr_index['debutdate'] = tr_index.map()\n",
    "vl_index = target_enc.fit_transform(val).reset_index(drop=False)\n",
    "vl_index = vl_index.loc[vl_index.playerId.isin(roster_2021.playerId.astype(str))]\n",
    "tr_index.to_csv(\"data/tr_index_small.csv\", index=False)\n",
    "vl_index.to_csv(\"data/vl_index_small.csv\", index=False)\n"
   ]
  },
  {
   "cell_type": "code",
   "execution_count": 7,
   "id": "d9492484-2382-413c-9b35-f233d82db416",
   "metadata": {},
   "outputs": [
    {
     "data": {
      "text/plain": [
       "A      1185608\n",
       "RM      198985\n",
       "D60      56561\n",
       "D10      47279\n",
       "D7         475\n",
       "PL         264\n",
       "SU         251\n",
       "BRV        157\n",
       "FME         71\n",
       "RES          8\n",
       "DEC          1\n",
       "Name: statusCode, dtype: int64"
      ]
     },
     "execution_count": 7,
     "metadata": {},
     "output_type": "execute_result"
    }
   ],
   "source": []
  },
  {
   "cell_type": "code",
   "execution_count": 43,
   "id": "8effcd86-d5c7-457c-aff5-0bde1b9f4b73",
   "metadata": {},
   "outputs": [
    {
     "data": {
      "text/plain": [
       "(2444346, 6)"
      ]
     },
     "execution_count": 43,
     "metadata": {},
     "output_type": "execute_result"
    }
   ],
   "source": [
    "tr_index.shape"
   ]
  },
  {
   "cell_type": "code",
   "execution_count": 44,
   "id": "391b7a8b-ba45-48e6-9bd4-641091011360",
   "metadata": {},
   "outputs": [
    {
     "data": {
      "text/plain": [
       "((1418465, 6), (24927, 6))"
      ]
     },
     "execution_count": 44,
     "metadata": {},
     "output_type": "execute_result"
    }
   ],
   "source": [
    "tr_index = pd.read_csv(\"data/tr_index_small.csv\")\n",
    "vl_index = pd.read_csv(\"data/vl_index_small.csv\")\n",
    "tr_index.shape, vl_index.shape"
   ]
  },
  {
   "cell_type": "code",
   "execution_count": 45,
   "id": "e140fbac-cf30-41d4-bb06-17d0225f928f",
   "metadata": {},
   "outputs": [
    {
     "data": {
      "text/html": [
       "<div>\n",
       "<style scoped>\n",
       "    .dataframe tbody tr th:only-of-type {\n",
       "        vertical-align: middle;\n",
       "    }\n",
       "\n",
       "    .dataframe tbody tr th {\n",
       "        vertical-align: top;\n",
       "    }\n",
       "\n",
       "    .dataframe thead th {\n",
       "        text-align: right;\n",
       "    }\n",
       "</style>\n",
       "<table border=\"1\" class=\"dataframe\">\n",
       "  <thead>\n",
       "    <tr style=\"text-align: right;\">\n",
       "      <th></th>\n",
       "      <th>playerId</th>\n",
       "      <th>target1</th>\n",
       "      <th>target2</th>\n",
       "      <th>target3</th>\n",
       "      <th>target4</th>\n",
       "      <th>date</th>\n",
       "    </tr>\n",
       "  </thead>\n",
       "  <tbody>\n",
       "    <tr>\n",
       "      <th>803</th>\n",
       "      <td>543333</td>\n",
       "      <td>54.108365</td>\n",
       "      <td>100.0</td>\n",
       "      <td>100.000000</td>\n",
       "      <td>51.862745</td>\n",
       "      <td>20180101</td>\n",
       "    </tr>\n",
       "    <tr>\n",
       "      <th>1630</th>\n",
       "      <td>543333</td>\n",
       "      <td>100.000000</td>\n",
       "      <td>100.0</td>\n",
       "      <td>100.000000</td>\n",
       "      <td>100.000000</td>\n",
       "      <td>20180102</td>\n",
       "    </tr>\n",
       "    <tr>\n",
       "      <th>2820</th>\n",
       "      <td>518397</td>\n",
       "      <td>1.815118</td>\n",
       "      <td>100.0</td>\n",
       "      <td>18.715575</td>\n",
       "      <td>65.434222</td>\n",
       "      <td>20180103</td>\n",
       "    </tr>\n",
       "    <tr>\n",
       "      <th>3945</th>\n",
       "      <td>518397</td>\n",
       "      <td>2.968885</td>\n",
       "      <td>100.0</td>\n",
       "      <td>33.840564</td>\n",
       "      <td>38.551258</td>\n",
       "      <td>20180104</td>\n",
       "    </tr>\n",
       "    <tr>\n",
       "      <th>7901</th>\n",
       "      <td>609280</td>\n",
       "      <td>0.012035</td>\n",
       "      <td>100.0</td>\n",
       "      <td>0.039505</td>\n",
       "      <td>6.037152</td>\n",
       "      <td>20180107</td>\n",
       "    </tr>\n",
       "    <tr>\n",
       "      <th>...</th>\n",
       "      <td>...</td>\n",
       "      <td>...</td>\n",
       "      <td>...</td>\n",
       "      <td>...</td>\n",
       "      <td>...</td>\n",
       "      <td>...</td>\n",
       "    </tr>\n",
       "    <tr>\n",
       "      <th>1413205</th>\n",
       "      <td>502624</td>\n",
       "      <td>1.473673</td>\n",
       "      <td>100.0</td>\n",
       "      <td>0.048067</td>\n",
       "      <td>20.067744</td>\n",
       "      <td>20210405</td>\n",
       "    </tr>\n",
       "    <tr>\n",
       "      <th>1414394</th>\n",
       "      <td>592791</td>\n",
       "      <td>27.535777</td>\n",
       "      <td>100.0</td>\n",
       "      <td>3.864680</td>\n",
       "      <td>92.858369</td>\n",
       "      <td>20210406</td>\n",
       "    </tr>\n",
       "    <tr>\n",
       "      <th>1415688</th>\n",
       "      <td>606213</td>\n",
       "      <td>25.360294</td>\n",
       "      <td>100.0</td>\n",
       "      <td>37.778370</td>\n",
       "      <td>67.678398</td>\n",
       "      <td>20210407</td>\n",
       "    </tr>\n",
       "    <tr>\n",
       "      <th>1416338</th>\n",
       "      <td>605397</td>\n",
       "      <td>38.580060</td>\n",
       "      <td>100.0</td>\n",
       "      <td>85.044774</td>\n",
       "      <td>100.000000</td>\n",
       "      <td>20210408</td>\n",
       "    </tr>\n",
       "    <tr>\n",
       "      <th>1417783</th>\n",
       "      <td>605397</td>\n",
       "      <td>100.000000</td>\n",
       "      <td>100.0</td>\n",
       "      <td>77.796279</td>\n",
       "      <td>100.000000</td>\n",
       "      <td>20210409</td>\n",
       "    </tr>\n",
       "  </tbody>\n",
       "</table>\n",
       "<p>971 rows × 6 columns</p>\n",
       "</div>"
      ],
      "text/plain": [
       "         playerId     target1  target2     target3     target4      date\n",
       "803        543333   54.108365    100.0  100.000000   51.862745  20180101\n",
       "1630       543333  100.000000    100.0  100.000000  100.000000  20180102\n",
       "2820       518397    1.815118    100.0   18.715575   65.434222  20180103\n",
       "3945       518397    2.968885    100.0   33.840564   38.551258  20180104\n",
       "7901       609280    0.012035    100.0    0.039505    6.037152  20180107\n",
       "...           ...         ...      ...         ...         ...       ...\n",
       "1413205    502624    1.473673    100.0    0.048067   20.067744  20210405\n",
       "1414394    592791   27.535777    100.0    3.864680   92.858369  20210406\n",
       "1415688    606213   25.360294    100.0   37.778370   67.678398  20210407\n",
       "1416338    605397   38.580060    100.0   85.044774  100.000000  20210408\n",
       "1417783    605397  100.000000    100.0   77.796279  100.000000  20210409\n",
       "\n",
       "[971 rows x 6 columns]"
      ]
     },
     "execution_count": 45,
     "metadata": {},
     "output_type": "execute_result"
    }
   ],
   "source": [
    "tr_index.loc[tr_index.target2 == 100]"
   ]
  },
  {
   "cell_type": "code",
   "execution_count": 46,
   "id": "39061468-afe6-4d2f-afb2-37415433f303",
   "metadata": {},
   "outputs": [],
   "source": [
    "# Start with a simple features whether they batted or pitched or player scores\n",
    "pipe1 = make_union(LagN('date', 'playerId', [0, 1, 2, 3], 'data/artifacts/full/train_plscores3.pkl', 'data/', fill_value=np.nan, N=1, skip=0, device='gpu'),\n",
    " LagN('date', 'playerId', [0, 1, 2, 3], 'data/artifacts/full/train_plscores3.pkl', 'data/', fill_value=np.nan, N=1, skip=0, device='gpu'))\n",
    "\n",
    "pipe2 = make_union(LagN('date', 'playerId', [0, 1, 2, 3], 'data/artifacts/full/train_plscores3.pkl', 'data/', fill_value=np.nan, N=2, skip=0, device='gpu'),\n",
    " LagN('date', 'playerId', [0, 1, 2, 3], 'data/artifacts/full/train_plscores3.pkl', 'data/', fill_value=np.nan, N=2, skip=0, device='gpu'))\n",
    "\n",
    "\n",
    "X_tr11 = pipe1.transform(tr_index)\n",
    "X_vl11 = pipe1.transform(vl_index)\n",
    "\n",
    "X_tr12 = pipe2.transform(tr_index)\n",
    "X_vl12 = pipe2.transform(vl_index)"
   ]
  },
  {
   "cell_type": "code",
   "execution_count": 47,
   "id": "37a19730-6161-469d-8a5c-e878f0747427",
   "metadata": {},
   "outputs": [],
   "source": [
    "pipe3 = make_union(LagN('date', 'playerId', [0, 1, 2, 3], 'data/artifacts/full/train_plscores1.pkl', 'data/', fill_value=np.nan, N=1, skip=0, device='gpu'),\n",
    "                     LagN('date', 'playerId', [4], 'data/artifacts/full/train_plscores1.pkl', 'data/', fill_value=np.nan, N=1, skip=0, device='gpu'))\n",
    "X_tr13 = pipe3.transform(tr_index)\n",
    "X_vl13 = pipe3.transform(vl_index)"
   ]
  },
  {
   "cell_type": "code",
   "execution_count": 48,
   "id": "9dd9414d-69cb-4385-9bed-5453235fb106",
   "metadata": {},
   "outputs": [],
   "source": [
    "from sklearn.pipeline import make_union\n",
    "pipe4 = make_union(\n",
    "    *[\n",
    "        LagN('date', 'playerId', list(range(i*4, (i+1)*4)), 'data/artifacts/full/train_plscores2.pkl', 'data/', fill_value=np.nan, N=1, skip=0, device='gpu')\n",
    "        for i in range(6)\n",
    "     ],\n",
    "    verbose=True\n",
    ")\n",
    "X_tr14 = pipe4.transform(tr_index)\n",
    "X_vl14 = pipe4.transform(vl_index)"
   ]
  },
  {
   "cell_type": "code",
   "execution_count": 49,
   "id": "2a19f7d0-a639-459f-ae9e-67f781760e5f",
   "metadata": {},
   "outputs": [],
   "source": [
    "pipe41 = make_union(\n",
    "    *[\n",
    "        LagN('date', 'playerId', list(range(i*4, (i+1)*4)), 'data/artifacts/full/train_plscores2.pkl', 'data/', fill_value=np.nan, N=2, skip=0, device='gpu')\n",
    "        for i in range(6)\n",
    "     ],\n",
    "    verbose=True\n",
    ")\n",
    "X_tr141 = pipe41.transform(tr_index)\n",
    "X_vl141 = pipe41.transform(vl_index)"
   ]
  },
  {
   "cell_type": "code",
   "execution_count": 50,
   "id": "fc371b6f-315e-4583-825b-c98872ce1ef3",
   "metadata": {},
   "outputs": [],
   "source": [
    "pipe42 = make_union(\n",
    "    *[\n",
    "        ExpandingMean('date', 'playerId', list(range(i*4, (i+1)*4)), 'data/artifacts/full/train_plscores2.pkl', 'data/', fill_value=np.nan, N=100, skip=0, device='gpu')\n",
    "        for i in range(6)\n",
    "     ],\n",
    "    verbose=True\n",
    ")\n",
    "X_tr142 = pipe42.transform(tr_index)\n",
    "X_vl142 = pipe42.transform(vl_index)"
   ]
  },
  {
   "cell_type": "code",
   "execution_count": 51,
   "id": "3b72e96a-4fff-40f6-86de-95b4c70c50e2",
   "metadata": {},
   "outputs": [],
   "source": [
    "pipe43 = make_union(\n",
    "    *[\n",
    "        ExpandingMean('date', 'playerId', list(range(i*4, (i+1)*4)), 'data/artifacts/full/train_plscores2.pkl', 'data/', fill_value=np.nan, N=5, skip=0, device='gpu')\n",
    "        for i in range(6)\n",
    "     ],\n",
    "    verbose=True\n",
    ")\n",
    "X_tr143 = pipe43.transform(tr_index)\n",
    "X_vl143 = pipe43.transform(vl_index)"
   ]
  },
  {
   "cell_type": "code",
   "execution_count": null,
   "id": "e017c6b1-8501-47b7-a0b5-a7659ab70982",
   "metadata": {},
   "outputs": [],
   "source": [
    "pipe44 = make_union(\n",
    "    *[\n",
    "        ExpandingSum('date', 'playerId', list(range(i*4, (i+1)*4)), 'data/artifacts/full/train_plscores2.pkl', 'data/', fill_value=np.nan, N=10, skip=0, device='gpu')\n",
    "        for i in range(6)\n",
    "     ],\n",
    "    verbose=True\n",
    ")\n",
    "X_tr144 = pipe44.transform(tr_index)\n",
    "X_vl144 = pipe44.transform(vl_index)"
   ]
  },
  {
   "cell_type": "code",
   "execution_count": null,
   "id": "f0d975bf-14d7-44ca-8a8b-97bf376bb426",
   "metadata": {},
   "outputs": [],
   "source": [
    "pipe5 = make_union(\n",
    "    *[\n",
    "        LagN('date', 'playerId', list(range(i*4, (i+1)*4)), 'data/artifacts/full/train_plscores4.pkl', 'data/', fill_value=np.nan, N=1, skip=0, device='gpu')\n",
    "        for i in range(3)\n",
    "     ],\n",
    "    LagN('date', 'playerId', [12, 13, 14], 'data/artifacts/full/train_plscores4.pkl', 'data/', fill_value=np.nan, N=1, skip=0, device='gpu'),\n",
    "    verbose=True\n",
    ")\n",
    "X_tr15 = pipe5.transform(tr_index)\n",
    "X_vl15 = pipe5.transform(vl_index)"
   ]
  },
  {
   "cell_type": "code",
   "execution_count": null,
   "id": "112aa790-ec7d-4d8a-af1c-fb9c075f54c9",
   "metadata": {},
   "outputs": [],
   "source": [
    "pipe6 = make_union(\n",
    "    *[\n",
    "        LagN('date', 'playerId', list(range(i*4, (i+1)*4)), 'data/artifacts/full/train_plscores4.pkl', 'data/', fill_value=np.nan, N=2, skip=0, device='gpu')\n",
    "        for i in range(3)\n",
    "     ],\n",
    "    LagN('date', 'playerId', [12, 13, 14], 'data/artifacts/full/train_plscores4.pkl', 'data/', fill_value=np.nan, N=2, skip=0, device='gpu'),\n",
    "    verbose=True\n",
    ")\n",
    "X_tr16 = pipe6.transform(tr_index)\n",
    "X_vl16 = pipe6.transform(vl_index)"
   ]
  },
  {
   "cell_type": "code",
   "execution_count": null,
   "id": "a64f5361-9242-4819-b724-d1e05a9b013b",
   "metadata": {},
   "outputs": [],
   "source": [
    "pipe62 = make_union(\n",
    "    *[\n",
    "        LagN('date', 'playerId', list(range(i*4, (i+1)*4)), 'data/artifacts/full/train_plscores4.pkl', 'data/', fill_value=np.nan, N=3, skip=0, device='gpu')\n",
    "        for i in range(3)\n",
    "     ],\n",
    "    LagN('date', 'playerId', [12, 13, 14], 'data/artifacts/full/train_plscores4.pkl', 'data/', fill_value=np.nan, N=3, skip=0, device='gpu'),\n",
    "    verbose=True\n",
    ")\n",
    "X_tr162 = pipe62.transform(tr_index)\n",
    "X_vl162 = pipe62.transform(vl_index)"
   ]
  },
  {
   "cell_type": "code",
   "execution_count": null,
   "id": "b0e8dfff-3625-4f8e-a96d-5cb2bf8f4433",
   "metadata": {},
   "outputs": [],
   "source": [
    "pipe63 = make_union(\n",
    "    *[\n",
    "        ExpandingMean('date', 'playerId', list(range(i*4, (i+1)*4)), 'data/artifacts/full/train_plscores4.pkl', 'data/', fill_value=np.nan, N=5, skip=0, device='gpu')\n",
    "        for i in range(3)\n",
    "     ],\n",
    "    ExpandingMean('date', 'playerId', [12, 13, 14], 'data/artifacts/full/train_plscores4.pkl', 'data/', fill_value=np.nan, N=5, skip=0, device='gpu'),\n",
    "    verbose=True\n",
    ")\n",
    "X_tr163 = pipe63.transform(tr_index)\n",
    "X_vl163 = pipe63.transform(vl_index)"
   ]
  },
  {
   "cell_type": "code",
   "execution_count": null,
   "id": "28402966-9814-4cb5-a20a-8b81baa33587",
   "metadata": {},
   "outputs": [],
   "source": [
    "pipe64 = make_union(\n",
    "    *[\n",
    "        ExpandingMean('date', 'playerId', list(range(i*4, (i+1)*4)), 'data/artifacts/full/train_plscores4.pkl', 'data/', fill_value=np.nan, N=100, skip=0, device='gpu')\n",
    "        for i in range(3)\n",
    "     ],\n",
    "    ExpandingMean('date', 'playerId', [12, 13, 14], 'data/artifacts/full/train_plscores4.pkl', 'data/', fill_value=np.nan, N=100, skip=0, device='gpu'),\n",
    "    verbose=True\n",
    ")\n",
    "X_tr164 = pipe64.transform(tr_index)\n",
    "X_vl164 = pipe64.transform(vl_index)"
   ]
  },
  {
   "cell_type": "code",
   "execution_count": null,
   "id": "c5c956ee-9bfb-4c4e-8e7b-eb9b323a4535",
   "metadata": {},
   "outputs": [],
   "source": [
    "pipe65 = make_union(\n",
    "    *[\n",
    "        ExpandingSum('date', 'playerId', list(range(i*4, (i+1)*4)), 'data/artifacts/full/train_plscores4.pkl', 'data/', fill_value=np.nan, N=10, skip=0, device='gpu')\n",
    "        for i in range(3)\n",
    "     ],\n",
    "    ExpandingSum('date', 'playerId', [12, 13, 14], 'data/artifacts/full/train_plscores4.pkl', 'data/', fill_value=np.nan, N=10, skip=0, device='gpu'),\n",
    "    verbose=True\n",
    ")\n",
    "X_tr165 = pipe65.transform(tr_index)\n",
    "X_vl165 = pipe65.transform(vl_index)"
   ]
  },
  {
   "cell_type": "code",
   "execution_count": null,
   "id": "ac4ed800-6281-437c-bd65-f3013269689a",
   "metadata": {},
   "outputs": [],
   "source": [
    "pipe66 = make_union(\n",
    "    *[\n",
    "        ExpandingSum('date', 'playerId', list(range(i*4, (i+1)*4)), 'data/artifacts/full/train_plscores4.pkl', 'data/', fill_value=np.nan, N=200, skip=0, device='gpu')\n",
    "        for i in range(3)\n",
    "     ],\n",
    "    ExpandingSum('date', 'playerId', [12, 13, 14], 'data/artifacts/full/train_plscores4.pkl', 'data/', fill_value=np.nan, N=200, skip=0, device='gpu'),\n",
    "    verbose=True\n",
    ")\n",
    "X_tr166 = pipe66.transform(tr_index)\n",
    "X_vl166 = pipe66.transform(vl_index)"
   ]
  },
  {
   "cell_type": "code",
   "execution_count": null,
   "id": "ae94ab15-8dc4-43ce-9d8f-c338450a1645",
   "metadata": {},
   "outputs": [],
   "source": [
    "pipe7 = make_union(\n",
    "    *[\n",
    "        LagN('date', 'playerId', list(range(i*4, (i+1)*4)), 'data/artifacts/full/train_plscores5.pkl', 'data/', fill_value=np.nan, N=1, skip=0, device='gpu')\n",
    "        for i in range(5)\n",
    "     ],\n",
    "    LagN('date', 'playerId', [20], 'data/artifacts/full/train_plscores5.pkl', 'data/', fill_value=np.nan, N=1, skip=0, device='gpu'),\n",
    "    verbose=True\n",
    ")\n",
    "X_tr17 = pipe7.transform(tr_index)\n",
    "X_vl17 = pipe7.transform(vl_index)"
   ]
  },
  {
   "cell_type": "code",
   "execution_count": null,
   "id": "0787f1d4-698b-4b20-85b8-811e31f4ad79",
   "metadata": {},
   "outputs": [],
   "source": [
    "# pipe71 = make_union(\n",
    "#     *[\n",
    "#         ExpandingSum('date', 'playerId', list(range(i*4, (i+1)*4)), 'data/artifacts/full/train_plscores5.pkl', 'data/', fill_value=np.nan, N=100, skip=0, device='gpu')\n",
    "#         for i in range(5)\n",
    "#      ],\n",
    "#     ExpandingSum('date', 'playerId', [20], 'data/artifacts/full/train_plscores5.pkl', 'data/', fill_value=np.nan, N=100, skip=0, device='gpu'),\n",
    "#     verbose=True\n",
    "# )\n",
    "# X_tr171 = pipe71.transform(tr_index)\n",
    "# X_vl171 = pipe71.transform(vl_index)"
   ]
  },
  {
   "cell_type": "code",
   "execution_count": null,
   "id": "66dd7fb0-482c-44b3-94cd-8dcaf5aa01c1",
   "metadata": {},
   "outputs": [],
   "source": [
    "import gc\n",
    "gc.collect()"
   ]
  },
  {
   "cell_type": "code",
   "execution_count": null,
   "id": "39e07b20-0170-44c0-aeb6-c055c6ab7932",
   "metadata": {},
   "outputs": [],
   "source": [
    "pipe8 = make_union(\n",
    "        ExpandingMean('date', 'playerId', list(range(0, 4)), 'data/artifacts/full/tr_targets.pkl', 'data/', fill_value=np.nan, N=10, skip=3, device='gpu'), \n",
    "        ExpandingMax('date', 'playerId', list(range(0, 4)), 'data/artifacts/full/tr_targets.pkl', 'data/', fill_value=np.nan, N=10, skip=3, device='gpu'), \n",
    "        ExpandingQ75('date', 'playerId', list(range(0, 4)), 'data/artifacts/full/tr_targets.pkl', 'data/', fill_value=np.nan, N=10, skip=3, device='gpu'), \n",
    "        ExpandingQ25('date', 'playerId', list(range(0, 4)), 'data/artifacts/full/tr_targets.pkl', 'data/', fill_value=np.nan, N=10, skip=3, device='gpu'), \n",
    "        ExpandingQ05('date', 'playerId', list(range(0, 4)), 'data/artifacts/full/tr_targets.pkl', 'data/', fill_value=np.nan, N=10, skip=3, device='gpu'), \n",
    "        ExpandingMean('date', 'playerId', list(range(0, 4)), 'data/artifacts/full/tr_targets.pkl', 'data/', fill_value=np.nan, N=365, skip=3, device='gpu'), \n",
    "\n",
    "    ExpandingMean('date', 'playerId', list(range(0, 4)), 'data/artifacts/full/tr_targets.pkl', 'data/', fill_value=np.nan, N=1500, skip=3, device='gpu'), \n",
    "        #ExpandingMedian('date', 'playerId', list(range(0, 4)), 'data/artifacts/full/tr_targets.pkl', 'data/', fill_value=np.nan, N=1500, skip=3, device='gpu'), \n",
    "        #LagN('date', 'playerId', [0, 1], 'data/artifacts/full/tr_targets.pkl', 'data/', fill_value=np.nan, N=1, skip=3, device='gpu'),\n",
    "        #LagN('date', 'playerId', [2, 3], 'data/artifacts/full/tr_targets.pkl', 'data/', fill_value=np.nan, N=1, skip=3, device='gpu'),\n",
    "        #LagN('date', 'playerId', [0, 1], 'data/artifacts/full/tr_targets.pkl', 'data/', fill_value=np.nan, N=1, skip=4, device='gpu'),\n",
    "        #LagN('date', 'playerId', [2, 3], 'data/artifacts/full/tr_targets.pkl', 'data/', fill_value=np.nan, N=1, skip=4, device='gpu'),\n",
    "\n",
    "    # ExpandingMedian('date', 'playerId', list(range(0, 4)), 'data/artifacts/full/train_targets.pkl', 'data/', fill_value=np.nan, N=365, skip=30, device='gpu')\n",
    "    #,\n",
    "    verbose=True\n",
    ")\n",
    "X_tr18 = pipe8.transform(tr_index)\n",
    "X_vl18 = pipe8.transform(vl_index)"
   ]
  },
  {
   "cell_type": "code",
   "execution_count": 28,
   "id": "198c076f-63f1-454c-b3ec-19124cfce30d",
   "metadata": {},
   "outputs": [],
   "source": [
    "pipe9 = make_union(\n",
    "        LagN('date', 'playerId', [0], 'data/artifacts/full/train_awards.pkl', 'data/', fill_value=np.nan, N=1, skip=0, device='gpu'),\n",
    "        ExpandingCount('date', 'playerId', [0], 'data/artifacts/full/train_awards.pkl', 'data/', fill_value=np.nan, N=365, skip=0, device='gpu'),\n",
    "        LagN('date', 'playerId', [0], 'data/artifacts/full/train_transactions.pkl', 'data/', fill_value=np.nan, N=1, skip=0, device='gpu'),\n",
    "        LagN('date', 'playerId', [0], 'data/artifacts/full/train_rosters.pkl', 'data/', fill_value=np.nan, N=1, skip=0, device='gpu'),\n",
    "        #ExpandingCount('date', 'playerId', [0], 'data/artifacts/full/train_rosters.pkl', 'data/', fill_value=np.nan, N=1500, skip=0, device='gpu'),\n",
    "\n",
    "        #LagN('date', 'playerId', [0], 'data/artifacts/full/train_rosters.pkl', 'data/', fill_value=np.nan, N=2, skip=0, device='gpu'),\n",
    "\n",
    "    # ExpandingMedian('date', 'playerId', list(range(0, 4)), 'data/artifacts/full/train_targets.pkl', 'data/', fill_value=np.nan, N=365, skip=30, device='gpu')\n",
    "    #,\n",
    "    verbose=True\n",
    ")\n",
    "X_tr19 = pipe9.transform(tr_index)\n",
    "X_vl19 = pipe9.transform(vl_index)"
   ]
  },
  {
   "cell_type": "code",
   "execution_count": 29,
   "id": "5d6a77d5-a5df-40d2-8b51-bf8590c3c888",
   "metadata": {},
   "outputs": [
    {
     "data": {
      "text/plain": [
       "((2444346, 8),\n",
       " (2444346, 8),\n",
       " (2444346, 5),\n",
       " (2444346, 24),\n",
       " (2444346, 15),\n",
       " (2444346, 15),\n",
       " (2444346, 21))"
      ]
     },
     "execution_count": 29,
     "metadata": {},
     "output_type": "execute_result"
    }
   ],
   "source": [
    "X_tr11.shape, X_tr12.shape, X_tr13.shape, X_tr14.shape, X_tr15.shape, X_tr16.shape, X_tr17.shape"
   ]
  },
  {
   "cell_type": "code",
   "execution_count": 30,
   "id": "c020bb42-26fd-4d35-97ec-e10deedc3f1d",
   "metadata": {},
   "outputs": [],
   "source": [
    "X_tr1 = np.hstack((X_tr11, X_tr12, X_tr13, X_tr14,  X_tr141, X_tr15, X_tr16, X_tr17, X_tr162, X_tr19, X_tr18, X_tr143, X_tr142, X_tr163, X_tr164, X_tr165, X_tr144, X_tr166))\n",
    "X_vl1 = np.hstack((X_vl11, X_vl12, X_vl13, X_vl14,  X_vl141, X_vl15, X_vl16, X_vl17, X_vl162, X_vl19, X_vl18, X_vl143, X_vl142, X_vl163, X_vl164, X_vl165, X_vl144, X_vl166))"
   ]
  },
  {
   "cell_type": "code",
   "execution_count": 31,
   "id": "26c08c83-6487-4fd8-8bc0-7b2f6c6b1548",
   "metadata": {},
   "outputs": [
    {
     "data": {
      "text/plain": [
       "(2444346, 299)"
      ]
     },
     "execution_count": 31,
     "metadata": {},
     "output_type": "execute_result"
    }
   ],
   "source": [
    "X_tr1.shape"
   ]
  },
  {
   "cell_type": "code",
   "execution_count": 32,
   "id": "e693ac5a-600c-4b88-8ddb-504d43d35f5f",
   "metadata": {},
   "outputs": [
    {
     "data": {
      "text/plain": [
       "dict_keys(['read_root', 'save_root', 'data_flag', 'artifacts_path', 'date_field', 'user_field', 'save_prefix', 'filter_query', 'player_artifact_name', 'team_artifact_name', 'targets_artifact_name', 'plscores1_artifact_name', 'plscores2_artifact_name', 'plscores3_artifact_name', 'plscores4_artifact_name', 'plscores5_artifact_name', 'tscores1_artifact_name', 'tscores2_artifact_name', 'prepare_playeridartifact', 'prepare_teamidartifact', 'prepare_targets', 'prepare_targets2', 'prepare_scores1', 'prepare_scores2', 'prepare_scores3', 'prepare_scores4', 'prepare_scores5', 'team_scores1', 'team_scores2', 'awards', 'rosters', 'transactions', 'pltwitter', 'prepare_3Dartifacts'])"
      ]
     },
     "execution_count": 32,
     "metadata": {},
     "output_type": "execute_result"
    }
   ],
   "source": [
    "config = OmegaConf.load(\"configs/data_preparation/config.yaml\")\n",
    "config.keys()"
   ]
  },
  {
   "cell_type": "code",
   "execution_count": 33,
   "id": "44c1b269-a148-430d-8564-22395123f2e5",
   "metadata": {},
   "outputs": [],
   "source": [
    "ftargets = config.prepare_targets.steps[0][1].use_cols[1:]\n",
    "\n",
    "fplscores3 = config.prepare_scores3.steps[0][1].use_cols[1:]\n",
    "fplscores31 = [f+\"_lag1\" for f in fplscores3]\n",
    "fplscores1 = config.prepare_scores1.steps[0][1].use_cols[1:]\n",
    "\n",
    "fplscores2 = config.prepare_scores2.steps[0][1].use_cols[1:]\n",
    "fplscores21 = [f+\"_lag1\" for f in fplscores2]\n",
    "\n",
    "fplscores4 = config.prepare_scores4.steps[0][1].use_cols[1:]\n",
    "fplscores41 = [f+\"_lag1\" for f in fplscores4]\n",
    "\n",
    "fplscores5 = config.prepare_scores3.steps[0][1].use_cols[1:]\n",
    "fplscores42 = [f+\"_lag2\" for f in fplscores4]\n"
   ]
  },
  {
   "cell_type": "code",
   "execution_count": 34,
   "id": "079f7878-ff80-4f04-825e-3494a0bcd290",
   "metadata": {},
   "outputs": [],
   "source": [
    "feature_names = fplscores3 + fplscores31 + fplscores1 + fplscores2 + fplscores21 + fplscores4 + fplscores41 + fplscores5 + fplscores42"
   ]
  },
  {
   "cell_type": "code",
   "execution_count": 35,
   "id": "356c2487-ae42-42af-854c-6c0aca385660",
   "metadata": {},
   "outputs": [
    {
     "data": {
      "text/plain": [
       "131"
      ]
     },
     "execution_count": 35,
     "metadata": {},
     "output_type": "execute_result"
    }
   ],
   "source": [
    "len(feature_names)"
   ]
  },
  {
   "cell_type": "code",
   "execution_count": 36,
   "id": "ff9868f0-bde0-4092-abee-0e75ba859365",
   "metadata": {},
   "outputs": [
    {
     "data": {
      "text/plain": [
       "(2444346, 299)"
      ]
     },
     "execution_count": 36,
     "metadata": {},
     "output_type": "execute_result"
    }
   ],
   "source": [
    "X_tr1.shape"
   ]
  },
  {
   "cell_type": "code",
   "execution_count": 37,
   "id": "35389e0a-2ecb-48d4-81fe-0f548e59867c",
   "metadata": {},
   "outputs": [
    {
     "data": {
      "text/plain": [
       "104.4180230622015"
      ]
     },
     "execution_count": 37,
     "metadata": {},
     "output_type": "execute_result"
    }
   ],
   "source": [
    "pd.DataFrame(X_tr1).notnull().sum(axis=1).mean()"
   ]
  },
  {
   "cell_type": "code",
   "execution_count": 38,
   "id": "23eb35e4-6870-47ec-bc21-e8bc3c8138ab",
   "metadata": {},
   "outputs": [
    {
     "name": "stderr",
     "output_type": "stream",
     "text": [
      "/home/mohsin_okcredit_in/anaconda3/envs/setienv/lib/python3.8/site-packages/lightgbm/engine.py:154: UserWarning: Found `n_estimators` in params. Will use it instead of argument\n",
      "  _log_warning(f\"Found `{alias}` in params. Will use it instead of argument\")\n"
     ]
    },
    {
     "name": "stdout",
     "output_type": "stream",
     "text": [
      "Training until validation scores don't improve for 200 rounds\n",
      "[50]\tvalid_0's l1: 1.12692\n",
      "[100]\tvalid_0's l1: 1.11319\n",
      "[150]\tvalid_0's l1: 1.11267\n",
      "[200]\tvalid_0's l1: 1.11232\n",
      "[250]\tvalid_0's l1: 1.11192\n",
      "[300]\tvalid_0's l1: 1.10941\n",
      "[350]\tvalid_0's l1: 1.10804\n",
      "[400]\tvalid_0's l1: 1.10754\n",
      "[450]\tvalid_0's l1: 1.10693\n",
      "[500]\tvalid_0's l1: 1.10659\n",
      "[550]\tvalid_0's l1: 1.10617\n",
      "[600]\tvalid_0's l1: 1.10561\n",
      "[650]\tvalid_0's l1: 1.10504\n",
      "[700]\tvalid_0's l1: 1.10251\n",
      "[750]\tvalid_0's l1: 1.10103\n",
      "[800]\tvalid_0's l1: 1.09966\n",
      "[850]\tvalid_0's l1: 1.09937\n",
      "[900]\tvalid_0's l1: 1.09937\n",
      "[950]\tvalid_0's l1: 1.09936\n",
      "[1000]\tvalid_0's l1: 1.09916\n",
      "[1050]\tvalid_0's l1: 1.09801\n",
      "[1100]\tvalid_0's l1: 1.09771\n",
      "[1150]\tvalid_0's l1: 1.09757\n",
      "[1200]\tvalid_0's l1: 1.09753\n",
      "[1250]\tvalid_0's l1: 1.09742\n",
      "[1300]\tvalid_0's l1: 1.09728\n",
      "[1350]\tvalid_0's l1: 1.0973\n",
      "[1400]\tvalid_0's l1: 1.0974\n",
      "[1450]\tvalid_0's l1: 1.09726\n",
      "[1500]\tvalid_0's l1: 1.09716\n",
      "[1550]\tvalid_0's l1: 1.09682\n",
      "[1600]\tvalid_0's l1: 1.09644\n",
      "[1650]\tvalid_0's l1: 1.09641\n",
      "[1700]\tvalid_0's l1: 1.09641\n",
      "[1750]\tvalid_0's l1: 1.09607\n",
      "[1800]\tvalid_0's l1: 1.09628\n",
      "[1850]\tvalid_0's l1: 1.09588\n",
      "[1900]\tvalid_0's l1: 1.09604\n",
      "[1950]\tvalid_0's l1: 1.09617\n",
      "[2000]\tvalid_0's l1: 1.096\n",
      "[2050]\tvalid_0's l1: 1.09603\n",
      "Early stopping, best iteration is:\n",
      "[1854]\tvalid_0's l1: 1.09564\n"
     ]
    }
   ],
   "source": [
    "import lightgbm as lgb\n",
    "targets = ['target1', 'target2', 'target3', 'target4']\n",
    "y_tr = tr_index[targets].values\n",
    "y_vl = vl_index[targets].values\n",
    "# print(np.unique(X_tra[:, 235]))\n",
    "tr1 = lgb.Dataset(X_tr1, y_tr[:, 0]) #, categorical_feature=[13, 14, 15, 16, ])\n",
    "tr2 = lgb.Dataset(X_tr1, y_tr[:, 1]) #, categorical_feature=[13, 14, 15, 16, ])\n",
    "tr3 = lgb.Dataset(X_tr1, y_tr[:, 2]) #, categorical_feature=[13, 14, 15, 16, ])\n",
    "tr4 = lgb.Dataset(X_tr1, y_tr[:, 3]) #, categorical_feature=[13, 14, 15, 16, ])\n",
    "\n",
    "vl1 = lgb.Dataset(X_vl1, y_vl[:, 0], reference=tr1)\n",
    "vl2 = lgb.Dataset(X_vl1, y_vl[:, 1], reference=tr2)\n",
    "vl3 = lgb.Dataset(X_vl1, y_vl[:, 2], reference=tr3)\n",
    "vl4 = lgb.Dataset(X_vl1, y_vl[:, 3], reference=tr4)\n",
    "\n",
    "# params = {\n",
    "#     'n_estimators': 4000,\n",
    "#     'learning_rate': 0.08,\n",
    "#     'num_leaves': 31,\n",
    "#     'colsample_bytree': 0.3,\n",
    "#     'subsample': 0.5,\n",
    "#     'reg_alpha': 0.1,\n",
    "#     'reg_lambda': 0.1,\n",
    "#     'max_bin': 255,\n",
    "#     'objective': 'mae',\n",
    "#     'metric': 'mae'\n",
    "# }\n",
    "\n",
    "params = {\n",
    "    'n_estimators': 4000,\n",
    "    'learning_rate': 0.1,\n",
    "    'num_leaves': 255,\n",
    "    'max_depth': -1,\n",
    "    'min_data_in_leaf': 20,\n",
    "    'colsample_bytree': 0.5,\n",
    "    'subsample': 0.95,\n",
    "    'bagging_freq': 1,\n",
    "    'reg_alpha': 0.1,\n",
    "    'reg_lambda': 0.1,\n",
    "    'extra_trees': False,\n",
    "    'max_bin': 127,\n",
    "    #'device': 'gpu',\n",
    "    #'gpu_use_dp': False,\n",
    "    #'gpu_device_id': 0,\n",
    "    'boost_from_average': True,\n",
    "    'reg_sqrt': True,\n",
    "    'objective': 'mae',\n",
    "    'metric': 'mae',\n",
    "    'verbose': -1,\n",
    "    'seed': 123478659,\n",
    "    'min_data_per_group': 10,\n",
    "    'cat_l2': 1,\n",
    "    'cat_smooth': 10,\n",
    "    'num_threads': 16\n",
    "}\n",
    "bst1 = lgb.train(params, tr1, valid_sets=[vl1], early_stopping_rounds=200, verbose_eval=50)\n"
   ]
  },
  {
   "cell_type": "code",
   "execution_count": 39,
   "id": "2c026bad-418a-42ce-86c8-ac348308df07",
   "metadata": {},
   "outputs": [
    {
     "name": "stdout",
     "output_type": "stream",
     "text": [
      "Training until validation scores don't improve for 200 rounds\n",
      "[50]\tvalid_0's l1: 2.11272\n",
      "[100]\tvalid_0's l1: 2.08055\n",
      "[150]\tvalid_0's l1: 2.07282\n",
      "[200]\tvalid_0's l1: 2.06687\n",
      "[250]\tvalid_0's l1: 2.06363\n",
      "[300]\tvalid_0's l1: 2.06283\n",
      "[350]\tvalid_0's l1: 2.06149\n",
      "[400]\tvalid_0's l1: 2.0603\n",
      "[450]\tvalid_0's l1: 2.05845\n",
      "[500]\tvalid_0's l1: 2.05818\n",
      "[550]\tvalid_0's l1: 2.0569\n",
      "[600]\tvalid_0's l1: 2.05698\n",
      "[650]\tvalid_0's l1: 2.05498\n",
      "[700]\tvalid_0's l1: 2.05491\n",
      "[750]\tvalid_0's l1: 2.05351\n",
      "[800]\tvalid_0's l1: 2.05282\n",
      "[850]\tvalid_0's l1: 2.05151\n",
      "[900]\tvalid_0's l1: 2.05109\n",
      "[950]\tvalid_0's l1: 2.05102\n",
      "[1000]\tvalid_0's l1: 2.05096\n",
      "[1050]\tvalid_0's l1: 2.05009\n",
      "[1100]\tvalid_0's l1: 2.04975\n",
      "[1150]\tvalid_0's l1: 2.04901\n",
      "[1200]\tvalid_0's l1: 2.04869\n",
      "[1250]\tvalid_0's l1: 2.04831\n",
      "[1300]\tvalid_0's l1: 2.04825\n",
      "[1350]\tvalid_0's l1: 2.04848\n",
      "[1400]\tvalid_0's l1: 2.0483\n",
      "[1450]\tvalid_0's l1: 2.04815\n",
      "Early stopping, best iteration is:\n",
      "[1260]\tvalid_0's l1: 2.04805\n"
     ]
    }
   ],
   "source": [
    "bst2 = lgb.train(params, tr2, valid_sets=[vl2], early_stopping_rounds=200, verbose_eval=50)"
   ]
  },
  {
   "cell_type": "code",
   "execution_count": 40,
   "id": "49e1d272-23cc-4e64-82ca-9c4d86f74162",
   "metadata": {},
   "outputs": [
    {
     "name": "stdout",
     "output_type": "stream",
     "text": [
      "Training until validation scores don't improve for 200 rounds\n",
      "[50]\tvalid_0's l1: 0.944355\n",
      "[100]\tvalid_0's l1: 0.941649\n",
      "[150]\tvalid_0's l1: 0.941493\n",
      "[200]\tvalid_0's l1: 0.941331\n",
      "[250]\tvalid_0's l1: 0.940501\n",
      "[300]\tvalid_0's l1: 0.939741\n",
      "[350]\tvalid_0's l1: 0.938797\n",
      "[400]\tvalid_0's l1: 0.938426\n",
      "[450]\tvalid_0's l1: 0.937755\n",
      "[500]\tvalid_0's l1: 0.937637\n",
      "[550]\tvalid_0's l1: 0.935904\n",
      "[600]\tvalid_0's l1: 0.935315\n",
      "[650]\tvalid_0's l1: 0.934638\n",
      "[700]\tvalid_0's l1: 0.934451\n",
      "[750]\tvalid_0's l1: 0.933937\n",
      "[800]\tvalid_0's l1: 0.93369\n",
      "[850]\tvalid_0's l1: 0.933844\n",
      "[900]\tvalid_0's l1: 0.933825\n",
      "[950]\tvalid_0's l1: 0.93365\n",
      "[1000]\tvalid_0's l1: 0.932781\n",
      "[1050]\tvalid_0's l1: 0.932824\n",
      "[1100]\tvalid_0's l1: 0.932643\n",
      "[1150]\tvalid_0's l1: 0.932523\n",
      "[1200]\tvalid_0's l1: 0.932483\n",
      "[1250]\tvalid_0's l1: 0.932398\n",
      "[1300]\tvalid_0's l1: 0.932325\n",
      "[1350]\tvalid_0's l1: 0.932272\n",
      "[1400]\tvalid_0's l1: 0.932303\n",
      "[1450]\tvalid_0's l1: 0.932383\n",
      "[1500]\tvalid_0's l1: 0.932414\n",
      "[1550]\tvalid_0's l1: 0.932686\n",
      "Early stopping, best iteration is:\n",
      "[1356]\tvalid_0's l1: 0.932156\n"
     ]
    }
   ],
   "source": [
    "bst3 = lgb.train(params, tr3, valid_sets=[vl3], early_stopping_rounds=200, verbose_eval=50)"
   ]
  },
  {
   "cell_type": "code",
   "execution_count": 41,
   "id": "9df5dc09-cf30-481a-abdf-9e024b5d6f72",
   "metadata": {},
   "outputs": [
    {
     "name": "stdout",
     "output_type": "stream",
     "text": [
      "Training until validation scores don't improve for 200 rounds\n",
      "[50]\tvalid_0's l1: 1.57579\n",
      "[100]\tvalid_0's l1: 1.56367\n",
      "[150]\tvalid_0's l1: 1.56218\n",
      "[200]\tvalid_0's l1: 1.55994\n",
      "[250]\tvalid_0's l1: 1.55851\n",
      "[300]\tvalid_0's l1: 1.55783\n",
      "[350]\tvalid_0's l1: 1.55667\n",
      "[400]\tvalid_0's l1: 1.55588\n",
      "[450]\tvalid_0's l1: 1.55524\n",
      "[500]\tvalid_0's l1: 1.55453\n",
      "[550]\tvalid_0's l1: 1.55357\n",
      "[600]\tvalid_0's l1: 1.55409\n",
      "[650]\tvalid_0's l1: 1.55404\n",
      "[700]\tvalid_0's l1: 1.55402\n",
      "[750]\tvalid_0's l1: 1.55366\n",
      "Early stopping, best iteration is:\n",
      "[551]\tvalid_0's l1: 1.55357\n"
     ]
    }
   ],
   "source": [
    "bst4 = lgb.train(params, tr4, valid_sets=[vl4], early_stopping_rounds=200, verbose_eval=50)"
   ]
  },
  {
   "cell_type": "code",
   "execution_count": 42,
   "id": "209b8073-511b-45a6-97fa-d48836315f7f",
   "metadata": {},
   "outputs": [
    {
     "name": "stdout",
     "output_type": "stream",
     "text": [
      "1.4073541618501342\n"
     ]
    }
   ],
   "source": [
    "from sklearn.metrics import mean_absolute_error as mae\n",
    "pred1 = bst1.predict(X_vl1)\n",
    "pred2 = bst2.predict(X_vl1)\n",
    "pred3 = bst3.predict(X_vl1)\n",
    "pred4 = bst4.predict(X_vl1)\n",
    "preds = np.vstack((pred1, pred2, pred3, pred4)).T\n",
    "print(mae(y_vl, preds))"
   ]
  },
  {
   "cell_type": "code",
   "execution_count": 90,
   "id": "f1ad3f83-1c66-479d-8130-9bbf1a8f97db",
   "metadata": {},
   "outputs": [
    {
     "data": {
      "text/plain": [
       "Index(['date', 'nextDayPlayerEngagement', 'games', 'rosters',\n",
       "       'playerBoxScores', 'teamBoxScores', 'transactions', 'standings',\n",
       "       'awards', 'events', 'playerTwitterFollowers', 'teamTwitterFollowers'],\n",
       "      dtype='object')"
      ]
     },
     "execution_count": 90,
     "metadata": {},
     "output_type": "execute_result"
    }
   ],
   "source": [
    "raw_data.columns"
   ]
  },
  {
   "cell_type": "code",
   "execution_count": 125,
   "id": "21ff6683-9ecb-4c76-9203-2b18310876fa",
   "metadata": {},
   "outputs": [
    {
     "ename": "TypeError",
     "evalue": "'list' object is not callable",
     "output_type": "error",
     "traceback": [
      "\u001b[0;31m---------------------------------------------------------------------------\u001b[0m",
      "\u001b[0;31mTypeError\u001b[0m                                 Traceback (most recent call last)",
      "\u001b[0;32m<ipython-input-125-cb9621309e18>\u001b[0m in \u001b[0;36m<module>\u001b[0;34m\u001b[0m\n\u001b[1;32m      1\u001b[0m \u001b[0mbst1\u001b[0m\u001b[0;34m.\u001b[0m\u001b[0mfeature_name\u001b[0m \u001b[0;34m=\u001b[0m \u001b[0mfeature_names\u001b[0m\u001b[0;34m\u001b[0m\u001b[0;34m\u001b[0m\u001b[0m\n\u001b[0;32m----> 2\u001b[0;31m \u001b[0mlgb\u001b[0m\u001b[0;34m.\u001b[0m\u001b[0mplot_importance\u001b[0m\u001b[0;34m(\u001b[0m\u001b[0mbst1\u001b[0m\u001b[0;34m)\u001b[0m\u001b[0;34m\u001b[0m\u001b[0;34m\u001b[0m\u001b[0m\n\u001b[0m",
      "\u001b[0;32m~/anaconda3/envs/setienv/lib/python3.8/site-packages/lightgbm/plotting.py\u001b[0m in \u001b[0;36mplot_importance\u001b[0;34m(booster, ax, height, xlim, ylim, title, xlabel, ylabel, importance_type, max_num_features, ignore_zero, figsize, dpi, grid, precision, **kwargs)\u001b[0m\n\u001b[1;32m    102\u001b[0m \u001b[0;34m\u001b[0m\u001b[0m\n\u001b[1;32m    103\u001b[0m     \u001b[0mimportance\u001b[0m \u001b[0;34m=\u001b[0m \u001b[0mbooster\u001b[0m\u001b[0;34m.\u001b[0m\u001b[0mfeature_importance\u001b[0m\u001b[0;34m(\u001b[0m\u001b[0mimportance_type\u001b[0m\u001b[0;34m=\u001b[0m\u001b[0mimportance_type\u001b[0m\u001b[0;34m)\u001b[0m\u001b[0;34m\u001b[0m\u001b[0;34m\u001b[0m\u001b[0m\n\u001b[0;32m--> 104\u001b[0;31m     \u001b[0mfeature_name\u001b[0m \u001b[0;34m=\u001b[0m \u001b[0mbooster\u001b[0m\u001b[0;34m.\u001b[0m\u001b[0mfeature_name\u001b[0m\u001b[0;34m(\u001b[0m\u001b[0;34m)\u001b[0m\u001b[0;34m\u001b[0m\u001b[0;34m\u001b[0m\u001b[0m\n\u001b[0m\u001b[1;32m    105\u001b[0m \u001b[0;34m\u001b[0m\u001b[0m\n\u001b[1;32m    106\u001b[0m     \u001b[0;32mif\u001b[0m \u001b[0;32mnot\u001b[0m \u001b[0mlen\u001b[0m\u001b[0;34m(\u001b[0m\u001b[0mimportance\u001b[0m\u001b[0;34m)\u001b[0m\u001b[0;34m:\u001b[0m\u001b[0;34m\u001b[0m\u001b[0;34m\u001b[0m\u001b[0m\n",
      "\u001b[0;31mTypeError\u001b[0m: 'list' object is not callable"
     ]
    }
   ],
   "source": [
    "bst1.feature_name = feature_names\n",
    "lgb.plot_importance(bst1)"
   ]
  },
  {
   "cell_type": "code",
   "execution_count": 126,
   "id": "47089dc9-4acf-4401-8906-ca4986e878e6",
   "metadata": {},
   "outputs": [
    {
     "data": {
      "text/plain": [
       "array(['gamesPlayedPitching_lag1', 'gamesStartedPitching_lag1',\n",
       "       'saveOpportunities', 'rbi', 'winsPitching_lag1', 'holds', 'saves',\n",
       "       'completeGamesPitching_lag1', 'runsScored_lag1', 'strikeOuts_lag1',\n",
       "       'atBatsPitching_lag2', 'airOutsPitching_lag2',\n",
       "       'stolenBasesPitching', 'runsPitching_lag2',\n",
       "       'intentionalWalksPitching_lag1', 'doublesPitching_lag1',\n",
       "       'groundOutsPitching_lag1', 'gamesStartedPitching',\n",
       "       'shutoutsPitching_lag1', 'sacFlies_lag1',\n",
       "       'strikeOutsPitching_lag2', 'groundOuts_lag1', 'lossesPitching',\n",
       "       'groundOutsPitching_lag2', 'atBatsPitching',\n",
       "       'triplesPitching_lag1', 'homeRunsPitching',\n",
       "       'hitByPitchPitching_lag1', 'blownSaves', 'groundIntoDoublePlay',\n",
       "       'hitsPitching_lag1', 'intentionalWalks', 'strikeOuts', 'saves',\n",
       "       'baseOnBalls', 'groundIntoTriplePlay', 'flyOutsPitching_lag1',\n",
       "       'groundOuts', 'jerseyNum', 'strikeOutsPitching_lag1',\n",
       "       'groundOutsPitching', 'home', 'winsPitching',\n",
       "       'plateAppearances_lag1', 'baseOnBalls_lag1', 'strikeOutsPitching',\n",
       "       'intentionalWalksPitching_lag2', 'groundIntoTriplePlay_lag1',\n",
       "       'hits_lag1', 'flyOutsPitching', 'hits',\n",
       "       'groundIntoDoublePlay_lag1', 'gamesPlayedBatting_lag1',\n",
       "       'intentionalWalks_lag1', 'hitsPitching_lag2', 'sacBunts',\n",
       "       'baseOnBallsPitching_lag2', 'flyOutsPitching_lag2',\n",
       "       'saveOpportunities_lag1', 'plateAppearances', 'totalBases_lag1',\n",
       "       'baseOnBallsPitching_lag1', 'rbi_lag1', 'positionCode',\n",
       "       'gamesPlayedPitching', 'leftOnBase', 'catchersInterference',\n",
       "       'doublesPitching_lag2', 'pickoffs', 'triplesPitching',\n",
       "       'saves_lag1', 'battingOrder', 'catchersInterference_lag1',\n",
       "       'lossesPitching_lag1', 'sacFlies', 'caughtStealingPitching',\n",
       "       'sacBunts_lag1', 'baseOnBallsPitching', 'gamesStartedPitching',\n",
       "       'positionType', 'hitByPitch_lag1', 'homeRunsPitching_lag1',\n",
       "       'totalBases', 'intentionalWalksPitching', 'doubles_lag1',\n",
       "       'hitByPitchPitching', 'hitsPitching', 'runsPitching_lag1',\n",
       "       'homeRunsPitching_lag2', 'hitByPitch', 'airOutsPitching',\n",
       "       'doublesPitching', 'doubles', 'stolenBasesPitching_lag1',\n",
       "       'pickoffs_lag1', 'holds_lag1', 'triples_lag1', 'flyOuts_lag1',\n",
       "       'stolenBasesPitching_lag2', 'lossesPitching', 'triples',\n",
       "       'completeGamesPitching', 'leftOnBase_lag1',\n",
       "       'hitByPitchPitching_lag2', 'airOutsPitching_lag1', 'winsPitching',\n",
       "       'flyOuts', 'runsPitching', 'gamesPlayedBatting', 'atBats',\n",
       "       'caughtStealingPitching_lag2', 'atBatsPitching_lag1',\n",
       "       'blownSaves_lag1', 'atBats_lag1', 'caughtStealingPitching_lag1',\n",
       "       'triplesPitching_lag2', 'stolenBases_lag1', 'runsScored',\n",
       "       'shutoutsPitching', 'caughtStealing_lag1', 'completeGamesPitching',\n",
       "       'caughtStealing', 'gamesPlayedBatting', 'saveOpportunities',\n",
       "       'blownSaves', 'gamesPlayedPitching', 'homeRuns_lag1',\n",
       "       'stolenBases', 'holds', 'shutoutsPitching', 'homeRuns'],\n",
       "      dtype='<U29')"
      ]
     },
     "execution_count": 126,
     "metadata": {},
     "output_type": "execute_result"
    }
   ],
   "source": [
    "imp = bst4.feature_importance(importance_type='gain')\n",
    "idx = np.argsort(imp)[::-1]\n",
    "np.array(feature_names)[idx]"
   ]
  },
  {
   "cell_type": "code",
   "execution_count": 38,
   "id": "c269413b-f57f-4c14-9046-284bc60006f2",
   "metadata": {},
   "outputs": [
    {
     "data": {
      "text/plain": [
       "(1418465, 142)"
      ]
     },
     "execution_count": 38,
     "metadata": {},
     "output_type": "execute_result"
    }
   ],
   "source": [
    "X_tr1.shape"
   ]
  },
  {
   "cell_type": "code",
   "execution_count": null,
   "id": "d58c9813-4dcd-4e55-b644-651cfbbae99e",
   "metadata": {},
   "outputs": [],
   "source": [
    "# 1.7930\n",
    "# 1.7708 - added lag of flags\n",
    "# 1.7368 - added categorical features from box score\n",
    "# 1.6982 - added batter scores\n",
    "# 1.6890       - added pitcher scores\n",
    "# 1.6892   - added remaining features ( :-( )\n",
    "# 1.6883     - added pitcher lags \n",
    "# 1.6810   - adde batter lags\n",
    "# 1.6777   - more pitcher lags\n",
    "# 1.5774 - added target mean (skip - 30 and last 365)\n",
    "# change hyperparams - colsamplebytree 0.7 --> 0.4; 1.6814 (reverting)\n",
    "# 1.534 - changed val to from 10 april - \n",
    "# 1.517 - added lag3\n",
    "# 1.5146 - changed hyperparams - colsample to 0.5\n",
    "# 1.509 - num_leaves 255\n",
    "# 1.5078  - min_leaf_samples 20\n",
    "# 1.4884 - added statusCode\n",
    "# 1.4891 - made it cat\n",
    "# 1.4795 - removed cat encoding\n",
    "# 1.4455 - fixed last n expanding mean and added last 10\n",
    "# 1.4396 - added last 10 stats\n",
    "# 1.4379 - last 5 innings sum of pitching scores\n",
    "# 1.4322 - last 5 mean scores\n",
    "# 1.4278 - expading mean batter scores\n",
    "# 1.4257 - expanding mean pitcher scores\n",
    "# 1.4070 - expanding sum - last 10 scores \n",
    "# "
   ]
  },
  {
   "cell_type": "code",
   "execution_count": 38,
   "id": "d52475b7-1931-484c-a304-22ddc09b3f3e",
   "metadata": {},
   "outputs": [
    {
     "data": {
      "text/html": [
       "<div>\n",
       "<style scoped>\n",
       "    .dataframe tbody tr th:only-of-type {\n",
       "        vertical-align: middle;\n",
       "    }\n",
       "\n",
       "    .dataframe tbody tr th {\n",
       "        vertical-align: top;\n",
       "    }\n",
       "\n",
       "    .dataframe thead th {\n",
       "        text-align: right;\n",
       "    }\n",
       "</style>\n",
       "<table border=\"1\" class=\"dataframe\">\n",
       "  <thead>\n",
       "    <tr style=\"text-align: right;\">\n",
       "      <th></th>\n",
       "      <th>seasonId</th>\n",
       "      <th>seasonStartDate</th>\n",
       "      <th>seasonEndDate</th>\n",
       "      <th>preSeasonStartDate</th>\n",
       "      <th>preSeasonEndDate</th>\n",
       "      <th>regularSeasonStartDate</th>\n",
       "      <th>regularSeasonEndDate</th>\n",
       "      <th>lastDate1stHalf</th>\n",
       "      <th>allStarDate</th>\n",
       "      <th>firstDate2ndHalf</th>\n",
       "      <th>postSeasonStartDate</th>\n",
       "      <th>postSeasonEndDate</th>\n",
       "    </tr>\n",
       "  </thead>\n",
       "  <tbody>\n",
       "    <tr>\n",
       "      <th>0</th>\n",
       "      <td>2017</td>\n",
       "      <td>2017-04-02</td>\n",
       "      <td>2017-11-01</td>\n",
       "      <td>2017-02-22</td>\n",
       "      <td>2017-04-01</td>\n",
       "      <td>2017-04-02</td>\n",
       "      <td>2017-10-01</td>\n",
       "      <td>2017-07-09</td>\n",
       "      <td>2017-07-11</td>\n",
       "      <td>2017-07-14</td>\n",
       "      <td>2017-10-03</td>\n",
       "      <td>2017-11-01</td>\n",
       "    </tr>\n",
       "    <tr>\n",
       "      <th>1</th>\n",
       "      <td>2018</td>\n",
       "      <td>2018-03-29</td>\n",
       "      <td>2018-10-28</td>\n",
       "      <td>2018-02-21</td>\n",
       "      <td>2018-03-27</td>\n",
       "      <td>2018-03-29</td>\n",
       "      <td>2018-10-01</td>\n",
       "      <td>2018-07-15</td>\n",
       "      <td>2018-07-17</td>\n",
       "      <td>2018-07-19</td>\n",
       "      <td>2018-10-02</td>\n",
       "      <td>2018-10-28</td>\n",
       "    </tr>\n",
       "    <tr>\n",
       "      <th>2</th>\n",
       "      <td>2019</td>\n",
       "      <td>2019-03-20</td>\n",
       "      <td>2019-10-30</td>\n",
       "      <td>2019-02-21</td>\n",
       "      <td>2019-03-26</td>\n",
       "      <td>2019-03-20</td>\n",
       "      <td>2019-09-29</td>\n",
       "      <td>2019-07-07</td>\n",
       "      <td>2019-07-09</td>\n",
       "      <td>2019-07-11</td>\n",
       "      <td>2019-10-01</td>\n",
       "      <td>2019-10-30</td>\n",
       "    </tr>\n",
       "    <tr>\n",
       "      <th>3</th>\n",
       "      <td>2020</td>\n",
       "      <td>2020-07-23</td>\n",
       "      <td>2020-10-28</td>\n",
       "      <td>2020-02-21</td>\n",
       "      <td>2020-07-22</td>\n",
       "      <td>2020-07-23</td>\n",
       "      <td>2020-09-27</td>\n",
       "      <td>2020-08-25</td>\n",
       "      <td>NaN</td>\n",
       "      <td>2020-08-26</td>\n",
       "      <td>2020-09-29</td>\n",
       "      <td>2020-10-28</td>\n",
       "    </tr>\n",
       "    <tr>\n",
       "      <th>4</th>\n",
       "      <td>2021</td>\n",
       "      <td>2021-02-28</td>\n",
       "      <td>2021-10-31</td>\n",
       "      <td>2021-02-28</td>\n",
       "      <td>2021-03-30</td>\n",
       "      <td>2021-04-01</td>\n",
       "      <td>2021-10-03</td>\n",
       "      <td>2021-07-11</td>\n",
       "      <td>2021-07-13</td>\n",
       "      <td>2021-07-15</td>\n",
       "      <td>2021-10-04</td>\n",
       "      <td>2021-10-31</td>\n",
       "    </tr>\n",
       "  </tbody>\n",
       "</table>\n",
       "</div>"
      ],
      "text/plain": [
       "   seasonId seasonStartDate seasonEndDate preSeasonStartDate preSeasonEndDate  \\\n",
       "0      2017      2017-04-02    2017-11-01         2017-02-22       2017-04-01   \n",
       "1      2018      2018-03-29    2018-10-28         2018-02-21       2018-03-27   \n",
       "2      2019      2019-03-20    2019-10-30         2019-02-21       2019-03-26   \n",
       "3      2020      2020-07-23    2020-10-28         2020-02-21       2020-07-22   \n",
       "4      2021      2021-02-28    2021-10-31         2021-02-28       2021-03-30   \n",
       "\n",
       "  regularSeasonStartDate regularSeasonEndDate lastDate1stHalf allStarDate  \\\n",
       "0             2017-04-02           2017-10-01      2017-07-09  2017-07-11   \n",
       "1             2018-03-29           2018-10-01      2018-07-15  2018-07-17   \n",
       "2             2019-03-20           2019-09-29      2019-07-07  2019-07-09   \n",
       "3             2020-07-23           2020-09-27      2020-08-25         NaN   \n",
       "4             2021-04-01           2021-10-03      2021-07-11  2021-07-13   \n",
       "\n",
       "  firstDate2ndHalf postSeasonStartDate postSeasonEndDate  \n",
       "0       2017-07-14          2017-10-03        2017-11-01  \n",
       "1       2018-07-19          2018-10-02        2018-10-28  \n",
       "2       2019-07-11          2019-10-01        2019-10-30  \n",
       "3       2020-08-26          2020-09-29        2020-10-28  \n",
       "4       2021-07-15          2021-10-04        2021-10-31  "
      ]
     },
     "execution_count": 38,
     "metadata": {},
     "output_type": "execute_result"
    }
   ],
   "source": [
    "pd.read_csv(\"data/seasons.csv\")"
   ]
  },
  {
   "cell_type": "code",
   "execution_count": 32,
   "id": "ce08fcf2-a5a8-43b4-afd8-51401ab475db",
   "metadata": {},
   "outputs": [],
   "source": [
    "# TODO\n",
    "# Running stats on rank per day"
   ]
  },
  {
   "cell_type": "code",
   "execution_count": null,
   "id": "ce978ca2-3cc8-4aaa-b20e-7624bc5a6b37",
   "metadata": {},
   "outputs": [],
   "source": []
  }
 ],
 "metadata": {
  "kernelspec": {
   "display_name": "Python 3",
   "language": "python",
   "name": "python3"
  },
  "language_info": {
   "codemirror_mode": {
    "name": "ipython",
    "version": 3
   },
   "file_extension": ".py",
   "mimetype": "text/x-python",
   "name": "python",
   "nbconvert_exporter": "python",
   "pygments_lexer": "ipython3",
   "version": "3.8.10"
  }
 },
 "nbformat": 4,
 "nbformat_minor": 5
}
