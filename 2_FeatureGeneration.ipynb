{
 "cells": [
  {
   "cell_type": "code",
   "execution_count": 1,
   "id": "bb785e4a-eacf-450e-87aa-3aae7b254703",
   "metadata": {},
   "outputs": [],
   "source": [
    "import json\n",
    "import pandas as pd\n",
    "import matplotlib.pyplot as plt\n",
    "import numpy as np\n",
    "import seaborn as sns\n",
    "from sklearn.pipeline import make_union, make_pipeline\n",
    "\n",
    "from mllib.transformers import *\n",
    "from src.pipelines.artifacts import *\n",
    "from src.constants import (\n",
    "    TARGETS,\n",
    "    PLTWITTER,\n",
    "    SCORES1,\n",
    "    SCORES2,\n",
    "    SCORES3,\n",
    "    SCORES4,\n",
    "    SCORES5,\n",
    "    TEAM_SCORES1,\n",
    "    TEAM_SCORES2,\n",
    "    TEAM_SCORES3,\n",
    "    TEAM_STANDINGS,\n",
    "    AWARDS,\n",
    "    ROSTERS,\n",
    "    TRANSACTIONS,\n",
    "    AWARDID_DICT\n",
    ")\n",
    "from src.constants import (\n",
    "    playerid_mapping,\n",
    "    teamid_mapping,\n",
    "    targets_artifact,\n",
    "    scores1_mean_artifact,\n",
    "    scores1_first_artifact,\n",
    "    scores1_last_artifact,\n",
    "    scores2_mean_artifact,\n",
    "    scores2_first_artifact,\n",
    "    scores2_last_artifact,\n",
    "    scores3_mean_artifact,\n",
    "    scores3_first_artifact,\n",
    "    scores3_last_artifact,\n",
    "    scores4_mean_artifact,\n",
    "    scores4_first_artifact,\n",
    "    scores4_last_artifact,\n",
    "    scores5_mean_artifact,\n",
    "    scores5_first_artifact,\n",
    "    scores5_last_artifact,\n",
    "    team_scores1_mean_artifact,\n",
    "    team_scores2_mean_artifact,\n",
    "    team_scores3_mean_artifact,\n",
    "    awards_artifact,\n",
    "    rosters_artifact,\n",
    "    player_twitter_artifact,\n",
    "    transactions_artifact,\n",
    "    team_standings_artifact\n",
    ")"
   ]
  },
  {
   "cell_type": "code",
   "execution_count": 2,
   "id": "82229a74-1b1c-4f31-b52c-e6184285c068",
   "metadata": {},
   "outputs": [],
   "source": [
    "# Generate index\n",
    "TRAIN_FILE = \"data/train.csv\"\n",
    "VAL_START_DATE = 20210415\n",
    "DEVICE = 'gpu'\n",
    "device = DEVICE\n",
    "artifacts_path = 'data/artifacts/v0'"
   ]
  },
  {
   "cell_type": "code",
   "execution_count": 3,
   "id": "0b727866-3ca3-48c9-9e01-f1c50722f228",
   "metadata": {},
   "outputs": [],
   "source": [
    "# raw_data = pd.read_csv(TRAIN_FILE)\n",
    "# tr = raw_data.loc[raw_data.date < VAL_START_DATE]\n",
    "# val = raw_data.loc[raw_data.date >= VAL_START_DATE]\n",
    "# print(raw_data.shape, val.shape)\n",
    "\n",
    "# roster_2021 = pd.read_csv(PLAYERS_FILE)\n",
    "# roster_2021 = roster_2021.loc[roster_2021.playerForTestSetAndFuturePreds == True]\n",
    "# target_enc = ParsePlayerData(\"nextDayPlayerEngagement\", TARGETS)\n",
    "# tr_index = target_enc.fit_transform(tr).reset_index(drop=False)\n",
    "# tr_index = tr_index.loc[tr_index.playerId.isin(roster_2021.playerId.astype(str))]\n",
    "# # tr_index['debutdate'] = tr_index.map()\n",
    "# vl_index = target_enc.fit_transform(val).reset_index(drop=False)\n",
    "# vl_index = vl_index.loc[vl_index.playerId.isin(roster_2021.playerId.astype(str))]\n",
    "# tr_index.to_csv(\"data/tr_index_small.csv\", index=False)\n",
    "# vl_index.to_csv(\"data/vl_index_small.csv\", index=False)"
   ]
  },
  {
   "cell_type": "code",
   "execution_count": 415,
   "id": "73d56d61-233b-4510-9abc-5510263f8679",
   "metadata": {},
   "outputs": [
    {
     "name": "stderr",
     "output_type": "stream",
     "text": [
      "100%|██████████| 77/77 [00:01<00:00, 63.72it/s]\n"
     ]
    }
   ],
   "source": [
    "raw_data = pd.read_csv(\"data/train_updated.csv\")\n",
    "vl = raw_data.loc[raw_data.date > 20210501]\n",
    "roster_2021 = pd.read_csv(\"data/players.csv\")\n",
    "roster_2021 = roster_2021.loc[roster_2021.playerForTestSetAndFuturePreds == True]\n",
    "target_enc = ParsePlayerData(\"nextDayPlayerEngagement\", TARGETS)\n",
    "vl_index2 = target_enc.fit_transform(vl).reset_index(drop=False)\n",
    "vl_index2 = vl_index2.loc[vl_index2.playerId.isin(roster_2021.playerId.astype(str))]\n",
    "vl_index2.to_csv(\"data/vl_index_small2.csv\", index=False)"
   ]
  },
  {
   "cell_type": "code",
   "execution_count": null,
   "id": "391b7a8b-ba45-48e6-9bd4-641091011360",
   "metadata": {},
   "outputs": [],
   "source": [
    "tr_index = pd.read_csv(\"data/tr_index_small.csv\")\n",
    "vl_index = pd.read_csv(\"data/vl_index_small.csv\")\n",
    "vl_indexw = pd.read_csv(\"data/vl_index_small2.csv\")\n",
    "\n",
    "tr_index.shape, vl_index.shape, vl_index2.shape"
   ]
  },
  {
   "cell_type": "code",
   "execution_count": 5,
   "id": "3c042786-e621-4c8c-bdaf-b6abba8839ce",
   "metadata": {},
   "outputs": [
    {
     "data": {
      "text/plain": [
       "425"
      ]
     },
     "execution_count": 5,
     "metadata": {},
     "output_type": "execute_result"
    }
   ],
   "source": [
    "f1 = [f'scores3_{i}' for i in range(11)]\n",
    "f2 = [f'scores3_count_last{j}_last{i}' for i in range(11) for j in [10, 30, 300]]\n",
    "f3 = [f'scores1_{i}_lag{j}' for j in range(2) for i in range(5)]\n",
    "f4 = [f'scores2_{i}_lag{j}' for i in range(24) for j in range(2)]\n",
    "f5 = [f'scores2_{i}_mean{j}' for i in range(24) for j in [10, 30, 300]]\n",
    "f6 = [f'scores2_{i}_sum{j}' for i in range(24) for j in [10, 30, 300]]\n",
    "f7 = [f'scores4_{i}_lag{j}' for i in range(15) for j in range(2)]\n",
    "f8 = [f'scores4_{i}_mean{j}' for i in range(15) for j in [10, 30, 300]]\n",
    "f9 = [f'scores4_{i}_sum{j}' for i in range(15) for j in [10, 30, 300]]\n",
    "f10 = [f'scores5_{i}_lag{j}' for i in range(21) for j in range(1)]\n",
    "f11 = [f'target_{i}_mean{j}' for j in [10, 28, 365, 1500] for i in range(4)]\n",
    "f12 = [f'target_{i}_{stat}' for stat in ['max', 'min', 'q75', 'q25'] for i in range(4)]\n",
    "f13 = ['last_award', 'num_awards', 'last_txn', 'is_active', 'player_twitter', 'position_code']\n",
    "fnames = f1 + f2 + f3 + f4 + f5 + f6 +f7 +f8 + f9 + f10 + f11 + f12 + f13\n",
    "len(fnames)"
   ]
  },
  {
   "cell_type": "code",
   "execution_count": 6,
   "id": "89c72783-0fe3-42d7-b8ae-4cbfdda3f123",
   "metadata": {},
   "outputs": [
    {
     "data": {
      "text/plain": [
       "(54, 246)"
      ]
     },
     "execution_count": 6,
     "metadata": {},
     "output_type": "execute_result"
    }
   ],
   "source": [
    "len(f1+f2+f3), len(f1+f2+f3+f4+f5+f6)"
   ]
  },
  {
   "cell_type": "code",
   "execution_count": 332,
   "id": "6944281e-56ee-473d-8719-e99fbc7bc98e",
   "metadata": {},
   "outputs": [],
   "source": [
    "target_stats = make_union(\n",
    "    ExpandingMean('date', 'playerId', list(range(0, 4)), f'{artifacts_path}/{targets_artifact}', N=10, skip=3, device=DEVICE, fill_value=0),\n",
    "    ExpandingMean('date', 'playerId', list(range(0, 4)), f'{artifacts_path}/{targets_artifact}', N=30, skip=3, device=DEVICE, fill_value=0), \n",
    "    ExpandingMean('date', 'playerId', list(range(0, 4)), f'{artifacts_path}/{targets_artifact}', N=300, skip=3, device=DEVICE, fill_value=0),\n",
    "    ExpandingMedian('date', 'playerId', list(range(0, 4)), f'{artifacts_path}/{targets_artifact}', N=2000, skip=3, device=DEVICE, fill_value=0), \n",
    "    ExpandingMax('date', 'playerId', list(range(0, 4)), f'{artifacts_path}/{targets_artifact}', N=20, skip=3, device=DEVICE, fill_value=0), \n",
    "    ExpandingMin('date', 'playerId', list(range(0, 4)), f'{artifacts_path}/{targets_artifact}', N=20, skip=3, device=DEVICE, fill_value=0),\n",
    "    ExpandingMedian('date', 'playerId', list(range(0, 4)), f'{artifacts_path}/{targets_artifact}', N=20, skip=3, device=DEVICE, fill_value=0), \n",
    "    ExpandingQ75('date', 'playerId', list(range(0, 4)), f'{artifacts_path}/{targets_artifact}', N=20, skip=3, device=DEVICE, fill_value=0), \n",
    "    ExpandingQ25('date', 'playerId', list(range(0, 4)), f'{artifacts_path}/{targets_artifact}', N=20, skip=3, device=DEVICE, fill_value=0),\n",
    "    LagN('date', 'playerId', [0, 1, 2, 3], f'{artifacts_path}/{targets_artifact}', N=1, skip=2, device=DEVICE, fill_value=0),\n",
    "    LagN('date', 'playerId', [0, 1, 2, 3], f'{artifacts_path}/{targets_artifact}', N=2, skip=2, device=DEVICE, fill_value=0),\n",
    "    LagN('date', 'playerId', [0, 1, 2, 3], f'{artifacts_path}/{targets_artifact}', N=3, skip=2, device=DEVICE, fill_value=0),\n",
    "    LagN('date', 'playerId', [0, 1, 2, 3], f'{artifacts_path}/{targets_artifact}', N=4, skip=2, device=DEVICE, fill_value=0),\n",
    "    LagN('date', 'playerId', [0, 1, 2, 3], f'{artifacts_path}/{targets_artifact}', N=5, skip=2, device=DEVICE, fill_value=0),\n",
    "    LagN('date', 'playerId', [0, 1, 2, 3], f'{artifacts_path}/{targets_artifact}', N=6, skip=2, device=DEVICE, fill_value=0),\n",
    "    LagN('date', 'playerId', [0, 1, 2, 3], f'{artifacts_path}/{targets_artifact}', N=7, skip=2, device=DEVICE, fill_value=0),\n",
    ")\n",
    "\n",
    "other_features = make_union(\n",
    "    LagN('date', 'playerId', [0], f'{artifacts_path}/train_awards.pkl', fill_value=-1, N=1, skip=0, device=device),\n",
    "    ExpandingCount('date', 'playerId', [0], f'{artifacts_path}/train_awards.pkl', fill_value=0, N=365, skip=0, device=device),\n",
    "    LagN('date', 'playerId', [0], f'{artifacts_path}/train_transactions.pkl', fill_value=-1, N=1, skip=0, device=device),\n",
    "    LagN('date', 'playerId', [0], f'{artifacts_path}/train_rosters.pkl', fill_value=-1, N=1, skip=0, device=device),\n",
    "    ExpandingCount('date', 'playerId', [0], f'{artifacts_path}/train_rosters.pkl', fill_value=0, N=20, skip=0, device=device),\n",
    "    make_pipeline(LagN('date', 'playerId', [0], f'{artifacts_path}/train_pltwitter.pkl', fill_value=0, N=1, skip=0, device=device),\n",
    "                  FunctionTransfomer(np.log1p)),\n",
    ")\n",
    "\n",
    "scores1 = make_union(\n",
    "    LagN('date', 'playerId', [0, 1, 2, 3], f'{artifacts_path}/{scores1_last_artifact}', fill_value=0, N=1, skip=0, device=device),\n",
    "    LagN('date', 'playerId', [4], f'{artifacts_path}/{scores1_last_artifact}', N=1, skip=0, fill_value=0, device=device),\n",
    "    LagN('date', 'playerId', [0, 1, 2, 3], f'{artifacts_path}/{scores1_last_artifact}', fill_value=0, N=2, skip=0, device=device),\n",
    "    LagN('date', 'playerId', [4], f'{artifacts_path}/{scores1_last_artifact}', N=2, skip=0, fill_value=0, device=device),\n",
    "    LagN('date', 'playerId', [0, 1, 2, 3], f'{artifacts_path}/{scores1_last_artifact}', fill_value=0, N=3, skip=0, device=device),\n",
    "    LagN('date', 'playerId', [4], f'{artifacts_path}/{scores1_last_artifact}', N=3, skip=0, fill_value=0, device=device),\n",
    "    LagN('date', 'playerId', [0, 1, 2, 3], f'{artifacts_path}/{scores1_last_artifact}', fill_value=0, N=4, skip=0, device=device),\n",
    "    LagN('date', 'playerId', [4], f'{artifacts_path}/{scores1_last_artifact}', N=4, skip=0, fill_value=0, device=device),\n",
    "    LagN('date', 'playerId', [0, 1, 2, 3], f'{artifacts_path}/{scores1_last_artifact}', fill_value=0, N=5, skip=0, device=device),\n",
    "    LagN('date', 'playerId', [4], f'{artifacts_path}/{scores1_last_artifact}', N=5, skip=0, fill_value=0, device=device),\n",
    "    LagN('date', 'playerId', [0, 1, 2, 3], f'{artifacts_path}/{scores1_last_artifact}', fill_value=0, N=6, skip=0, device=device),\n",
    "    LagN('date', 'playerId', [4], f'{artifacts_path}/{scores1_last_artifact}', N=6, skip=0, fill_value=0, device=device),\n",
    "    LagN('date', 'playerId', [0, 1, 2, 3], f'{artifacts_path}/{scores1_last_artifact}', fill_value=0, N=7, skip=0, device=device),\n",
    "    LagN('date', 'playerId', [4], f'{artifacts_path}/{scores1_last_artifact}', N=7, skip=0, fill_value=0, device=device),\n",
    "    LagN('date', 'playerId', [0, 1, 2, 3], f'{artifacts_path}/{scores1_last_artifact}', fill_value=0, N=8, skip=0, device=device),\n",
    "    LagN('date', 'playerId', [4], f'{artifacts_path}/{scores1_last_artifact}', N=8, skip=0, fill_value=0, device=device),\n",
    "    ExpandingCount('date', 'playerId', [0, 1, 2, 3], f'{artifacts_path}/{scores1_last_artifact}', fill_value=0, N=20, skip=0, device=device),\n",
    "    ExpandingCount('date', 'playerId', [4], f'{artifacts_path}/{scores1_last_artifact}', N=20, skip=0, fill_value=0, device=device),\n",
    ")\n",
    "\n",
    "scores3 = make_union(\n",
    "    *[\n",
    "        ExpandingSum('date', 'playerId', list(range(i*4, (i+1)*4)), f'{artifacts_path}/{scores3_last_artifact}', fill_value=0, N=10, skip=0, device=device)\n",
    "         for i in range(2)\n",
    "     ],\n",
    "    ExpandingSum('date', 'playerId', [8, 9, 10], f'{artifacts_path}/{scores3_last_artifact}', fill_value=0, N=10, skip=0, device=device),\n",
    "    *[\n",
    "        ExpandingSum('date', 'playerId', list(range(i*4, (i+1)*4)), f'{artifacts_path}/{scores3_last_artifact}', fill_value=0, N=200, skip=0, device=device)\n",
    "         for i in range(2)\n",
    "     ],\n",
    "    ExpandingSum('date', 'playerId', [8, 9, 10], f'{artifacts_path}/{scores3_last_artifact}', fill_value=0, N=200, skip=0, device=device),\n",
    "\n",
    ")\n",
    "\n",
    "scores2 = make_union(\n",
    "    *[\n",
    "        LagN('date', 'playerId', list(range(i*4, (i+1)*4)), f'{artifacts_path}/{scores2_last_artifact}', fill_value=0, N=j+1, skip=0, device=device)\n",
    "        for i in range(6) for j in range(4)\n",
    "     ],\n",
    ")\n",
    "\n",
    "scores4 = make_union(\n",
    "    *[\n",
    "        LagN('date', 'playerId', list(range(i*4, (i+1)*4)), f'{artifacts_path}/{scores4_last_artifact}', fill_value=0, N=j+1, skip=0, device=device)\n",
    "        for i in range(3) for j in range(2)\n",
    "     ],\n",
    "    *[\n",
    "        LagN('date', 'playerId', [12, 13, 14], f'{artifacts_path}/{scores4_last_artifact}', fill_value=0, N=j+1, skip=0, device=device)\n",
    "        for j in range(2)\n",
    "     ],\n",
    ")\n",
    "\n",
    "scores5 = make_union(\n",
    "    *[\n",
    "        LagN('date', 'playerId', list(range(i*4, (i+1)*4)), f'{artifacts_path}/{scores5_last_artifact}', fill_value=0, N=j+1, skip=0, device=device)\n",
    "        for i in range(5) for j in range(1)\n",
    "     ],\n",
    "    *[\n",
    "        LagN('date', 'playerId', [20], f'{artifacts_path}/{scores5_last_artifact}', fill_value=0, N=j+1, skip=0, device=device)\n",
    "        for j in range(1)\n",
    "     ],\n",
    ")\n",
    "\n",
    "all_players = make_union(\n",
    "    *[\n",
    "        DateLagN('date', list(range(i*4, (i+1)*4)), f'{artifacts_path}/{scores2_last_artifact}', N=j+1, skip=0, device=device)\n",
    "        for i in range(6) for j in range(1)\n",
    "     ],\n",
    "    *[\n",
    "        DateLagN('date', list(range(i*4, (i+1)*4)), f'{artifacts_path}/{scores4_last_artifact}', N=j+1, skip=0, device=device)\n",
    "        for i in range(6) for j in range(1)\n",
    "     ],\n",
    "    *[\n",
    "        DateLagN('date', [12, 13, 14], f'{artifacts_path}/{scores4_last_artifact}', N=j+1, skip=0, device=device)\n",
    "        for j in range(1)\n",
    "     ],\n",
    ")"
   ]
  },
  {
   "cell_type": "code",
   "execution_count": 333,
   "id": "40a4c34d-47e8-460b-8cbc-fc079fda7b64",
   "metadata": {},
   "outputs": [],
   "source": [
    "feature_pipeline = make_union(target_stats, other_features, scores1, scores2, scores3, scores4, scores5, all_players)"
   ]
  },
  {
   "cell_type": "code",
   "execution_count": null,
   "id": "835fb4e3-6022-473d-9e8c-0484f22c9e23",
   "metadata": {},
   "outputs": [],
   "source": [
    "# X_tr01 = target_stats.transform(tr_index)\n",
    "# X_vl01 = target_stats.transform(vl_index)\n",
    "\n",
    "# X_tr02 = other_features.transform(tr_index)\n",
    "# X_vl02 = other_features.transform(vl_index)\n",
    "\n",
    "# X_tr03 = scores1.transform(tr_index)\n",
    "# X_vl03 = scores1.transform(vl_index)\n",
    "\n",
    "# X_tr04 = scores3.transform(tr_index)\n",
    "# X_vl04 = scores3.transform(vl_index)\n",
    "\n",
    "# X_tr05 = scores2.transform(tr_index)\n",
    "# X_vl05 = scores2.transform(vl_index)\n",
    "\n",
    "# X_tr06 = scores4.transform(tr_index)\n",
    "# X_vl06 = scores4.transform(vl_index)\n",
    "\n",
    "# X_tr07 = scores5.transform(tr_index)\n",
    "# X_vl07 = scores5.transform(vl_index)\n",
    "\n",
    "# X_tr08 = all_players.transform(tr_index)\n",
    "# X_vl08 = all_players.transform(vl_index)"
   ]
  },
  {
   "cell_type": "code",
   "execution_count": 36,
   "id": "0f161bfb-2be4-420b-ae5e-da77bbbce80a",
   "metadata": {},
   "outputs": [],
   "source": [
    "# feature_pipeline = make_union(\n",
    "#     *[\n",
    "#         LagN('date', 'playerId', list(range(i*4, (i+1)*4)), f'{artifacts_path}/{targets_artifact}', fill_value=np.nan, N=j, skip=0, deviLagNdevice)\n",
    "#          for i in range(2) for j in range(1)\n",
    "#      ],\n",
    "#     LagN('date', 'playerId', [8, 9, 10], f'{artifacts_path}/train_plscores3.pkl', fill_value=np.nan, N=1, skip=0, device=device),\n",
    "#     *[\n",
    "#         ExpandingSum('date', 'playerId', list(range(i*4, (i+1)*4)), f'{artifacts_path}/train_plscores3.pkl', fill_value=np.nan, N=j, skip=0, device=device)\n",
    "#          for i in range(2) for j in [10, 30, 300]\n",
    "#      ],\n",
    "#     *[\n",
    "#         ExpandingSum('date', 'playerId', [8, 9, 10], f'{artifacts_path}/train_plscores3.pkl', 'data/', fill_value=np.nan, N=j, skip=0, device=device)\n",
    "#         for j in [10, 30, 300]\n",
    "#     ],\n",
    "#     LagN('date', 'playerId', [0, 1, 2, 3], f'{artifacts_path}/train_plscores1.pkl', 'data/', fill_value=np.nan, N=1, skip=0, device=device),\n",
    "#     LagN('date', 'playerId', [4], f'{artifacts_path}/train_plscores1.pkl', 'data/', N=1, skip=0, fill_value=np.nan, device=device),\n",
    "#     LagN('date', 'playerId', [0, 1, 2, 3], f'{artifacts_path}/train_plscores1.pkl', 'data/', fill_value=np.nan, N=2, skip=0, device=device),\n",
    "#     LagN('date', 'playerId', [4], f'{artifacts_path}/train_plscores1.pkl', 'data/', N=2, skip=0, fill_value=np.nan, device=device),\n",
    "#     *[\n",
    "#         LagN('date', 'playerId', list(range(i*4, (i+1)*4)), f'{artifacts_path}/train_plscores2.pkl', 'data/', fill_value=np.nan, N=j+1, skip=0, device=device)\n",
    "#         for i in range(6) for j in range(2)\n",
    "#      ],\n",
    "#     *[\n",
    "#         ExpandingMean('date', 'playerId', list(range(i*4, (i+1)*4)), f'{artifacts_path}/train_plscores2.pkl', 'data/', fill_value=np.nan, N=j, skip=0, device=device)\n",
    "#          for i in range(6) for j in [10, 30, 300]\n",
    "#      ],\n",
    "#     *[\n",
    "#         ExpandingSum('date', 'playerId', list(range(i*4, (i+1)*4)), f'{artifacts_path}/train_plscores2.pkl', 'data/', fill_value=np.nan, N=j, skip=0, device=device)\n",
    "#         for i in range(6) for j in [10, 30, 300] \n",
    "#      ],\n",
    "#     *[\n",
    "#         LagN('date', 'playerId', list(range(i*4, (i+1)*4)), f'{artifacts_path}/train_plscores4.pkl', 'data/', fill_value=np.nan, N=j+1, skip=0, device=device)\n",
    "#         for i in range(3) for j in range(2)\n",
    "#      ],\n",
    "#     *[\n",
    "#         LagN('date', 'playerId', [12, 13, 14], f'{artifacts_path}/train_plscores4.pkl', 'data/', fill_value=np.nan, N=j+1, skip=0, device=device)\n",
    "#         for j in range(2)\n",
    "#      ],\n",
    "#     *[\n",
    "#         ExpandingMean('date', 'playerId', list(range(i*4, (i+1)*4)), f'{artifacts_path}/train_plscores4.pkl', 'data/', fill_value=np.nan, N=j, skip=0, device=device)\n",
    "#         for i in range(3) for j in [10, 30, 300] \n",
    "#      ],\n",
    "#     *[\n",
    "#         ExpandingMean('date', 'playerId', [12, 13, 14], f'{artifacts_path}/train_plscores4.pkl', 'data/', fill_value=np.nan, N=j, skip=0, device=device)\n",
    "#         for j in [10, 30, 300]\n",
    "#      ],\n",
    "#     *[\n",
    "#         ExpandingSum('date', 'playerId', list(range(i*4, (i+1)*4)), f'{artifacts_path}/train_plscores4.pkl', 'data/', fill_value=np.nan, N=j, skip=0, device=device)\n",
    "#         for i in range(3) for j in [10, 30, 300] \n",
    "#      ],\n",
    "#     *[\n",
    "#         ExpandingSum('date', 'playerId', [12, 13, 14], f'{artifacts_path}/train_plscores4.pkl', 'data/', N=j, fill_value=np.nan, skip=0, device=device)\n",
    "#         for j in [10, 30, 300]\n",
    "#      ],\n",
    "#     *[\n",
    "#         LagN('date', 'playerId', list(range(i*4, (i+1)*4)), f'{artifacts_path}/train_plscores5.pkl', 'data/', fill_value=np.nan, N=1, skip=0, device=device)\n",
    "#         for i in range(5)\n",
    "#      ],\n",
    "#     LagN('date', 'playerId', [20], f'{artifacts_path}/train_plscores5.pkl', 'data/', N=1, skip=0, device=device, fill_value=np.nan),\n",
    "#     ExpandingMean('date', 'playerId', list(range(0, 4)), f'{artifacts_path}/train_targets.pkl', 'data/', N=10, skip=3, device=device, fill_value=np.nan),\n",
    "#     # LagN('date', 'playerId', list(range(0, 4)), f'{artifacts_path}/train_targets.pkl', 'data/', N=3, skip=0, device=device),\n",
    "#     ExpandingMean('date', 'playerId', list(range(0, 4)), f'{artifacts_path}/train_targets.pkl', 'data/', N=28, skip=3, device=device, fill_value=np.nan), \n",
    "#     ExpandingMean('date', 'playerId', list(range(0, 4)), f'{artifacts_path}/train_targets.pkl', 'data/', N=365, skip=3, device=device, fill_value=np.nan),\n",
    "#     # ExpandingMedian('date', 'playerId', list(range(0, 4)), f'{artifacts_path}/train_targets.pkl', 'data/', N=365, skip=3, device=device), \n",
    "#     ExpandingMean('date', 'playerId', list(range(0, 4)), f'{artifacts_path}/train_targets.pkl', 'data/', N=1500, skip=3, device=device, fill_value=np.nan), \n",
    "#     ExpandingMax('date', 'playerId', list(range(0, 4)), f'{artifacts_path}/train_targets.pkl', 'data/', N=28, skip=3, device=device, fill_value=np.nan), \n",
    "#     ExpandingMin('date', 'playerId', list(range(0, 4)), f'{artifacts_path}/train_targets.pkl', 'data/', N=28, skip=3, device=device, fill_value=np.nan), \n",
    "#     ExpandingQ75('date', 'playerId', list(range(0, 4)), f'{artifacts_path}/train_targets.pkl', 'data/', N=28, skip=3, device=device, fill_value=np.nan), \n",
    "#     ExpandingQ25('date', 'playerId', list(range(0, 4)), f'{artifacts_path}/train_targets.pkl', 'data/', N=28, skip=3, device=device, fill_value=np.nan), \n",
    "#     LagN('date', 'playerId', [0], f'{artifacts_path}/train_awards.pkl', 'data/', fill_value=np.nan, N=1, skip=0, device=device),\n",
    "#     ExpandingCount('date', 'playerId', [0], f'{artifacts_path}/train_awards.pkl', 'data/', fill_value=0, N=365, skip=0, device=device),\n",
    "#     LagN('date', 'playerId', [0], f'{artifacts_path}/train_transactions.pkl', 'data/', fill_value=np.nan, N=1, skip=0, device=device),\n",
    "#     LagN('date', 'playerId', [0], f'{artifacts_path}/train_rosters.pkl', 'data/', fill_value=np.nan, N=1, skip=0, device=device),\n",
    "#     LagN('date', 'playerId', [0], f'{artifacts_path}/train_pltwitter.pkl', 'data/', fill_value=np.nan, N=1, skip=0, device=device),\n",
    "#     make_pipeline(\n",
    "#         MapToCol(map_col='playerId', attr='primaryPositionCode', mapper_input='players.csv', mapper_pipeline=make_pipeline(\n",
    "#             DataLoader(load_path='data'),\n",
    "#             MapCol(field_name='primaryPositionCode', mapping={\n",
    "#                 '8': 8, '3': 3, '1': 1, '4': 4, '6': 6, '2': 2, '9': 9, '7': 7, '5': 5, 'O': 0, '10': 10, 'I': 11,\n",
    "#             })\n",
    "#         )\n",
    "#         )\n",
    "#     ),\n",
    "#     # LagN('date', 'playerId', [0], f'{artifacts_path}/train_pltwitter.pkl', 'data/', fill_value=np.nan, N=1, skip=0, device=device),\n",
    "#     verbose=10\n",
    "# )"
   ]
  },
  {
   "cell_type": "code",
   "execution_count": 334,
   "id": "a3be9303-f677-4131-9ce8-f5a8624da7e6",
   "metadata": {},
   "outputs": [
    {
     "name": "stdout",
     "output_type": "stream",
     "text": [
      "CPU times: user 3min 57s, sys: 12.3 s, total: 4min 10s\n",
      "Wall time: 4min 8s\n"
     ]
    }
   ],
   "source": [
    "%%time\n",
    "X_tr = feature_pipeline.transform(tr_index)"
   ]
  },
  {
   "cell_type": "code",
   "execution_count": 335,
   "id": "b1d650e9-bf48-447b-b59f-1628edc8c7f5",
   "metadata": {},
   "outputs": [
    {
     "name": "stdout",
     "output_type": "stream",
     "text": [
      "CPU times: user 13.6 s, sys: 548 ms, total: 14.2 s\n",
      "Wall time: 14.2 s\n"
     ]
    }
   ],
   "source": [
    "%%time\n",
    "X_vl = feature_pipeline.transform(vl_index)"
   ]
  },
  {
   "cell_type": "code",
   "execution_count": 336,
   "id": "c5b2815f-3237-47e1-bd24-cf4e13be4d10",
   "metadata": {},
   "outputs": [],
   "source": [
    "np.save(\"data/X_tr1_v1.npy\", X_tr1)\n",
    "np.save(\"data/X_vl1_v1.npy\", X_vl1)"
   ]
  },
  {
   "cell_type": "code",
   "execution_count": 337,
   "id": "062a6f2d-e448-4c64-aee5-1d11340ea57c",
   "metadata": {},
   "outputs": [],
   "source": [
    "X_tr = np.load(\"data/X_tr1_v1.npy\")\n",
    "X_vl = np.load(\"data/X_vl1_v1.npy\")"
   ]
  },
  {
   "cell_type": "code",
   "execution_count": 338,
   "id": "7701e06f-807e-4264-9260-99b5ab628a9a",
   "metadata": {},
   "outputs": [],
   "source": [
    "# feature_pipeline3 = make_union(\n",
    "#     *[\n",
    "#         DateLagN('date', list(range(i*4, (i+1)*4)), f'{artifacts_path}/train_plscores2.pkl', 'data/', N=j+1, skip=0, device=device)\n",
    "#         for i in range(6) for j in range(2)\n",
    "#      ],\n",
    "#     *[\n",
    "#         DateLagN('date', list(range(i*4, (i+1)*4)), f'{artifacts_path}/train_plscores4.pkl', 'data/', N=j+1, skip=0, device=device)\n",
    "#         for i in range(3) for j in range(2)\n",
    "#      ],\n",
    "#     *[\n",
    "#         DateLagN('date', [12, 13, 14], f'{artifacts_path}/train_plscores4.pkl', 'data/', N=j+1, skip=0, device=device)\n",
    "#         for j in range(2)\n",
    "#      ],\n",
    "\n",
    "# )\n",
    "# X_tr11 = feature_pipeline3.transform(tr_index)\n",
    "# X_vl11 = feature_pipeline3.transform(vl_index)\n",
    "# print(X_tr11.shape, X_vl11.shape)"
   ]
  },
  {
   "cell_type": "code",
   "execution_count": 339,
   "id": "c03362f4-d201-4021-9be8-d425e5d6b01f",
   "metadata": {},
   "outputs": [],
   "source": [
    "# feature_pipeline2 = make_pipeline(\n",
    "#     AddFeature(\n",
    "#         name='teamId',\n",
    "#         pipe=LagN('date', 'playerId', [1], f'{artifacts_path}/train_rosters.pkl', 'data/', fill_value=-1, N=1, skip=0, device=device),\n",
    "#     ),\n",
    "#     make_union(\n",
    "#         *[\n",
    "#             LagN('date', 'teamId', list(range(i*4, (i+1)*4)), f'{artifacts_path}/train_tscores1.pkl', 'data/', N=j+1, skip=0, device=device)\n",
    "#             for i in range(6) for j in range(2)\n",
    "#          ],\n",
    "#         *[\n",
    "#             LagN('date', 'teamId', list(range(i*4, (i+1)*4)), f'{artifacts_path}/train_tscores2.pkl', 'data/', N=j+1, skip=0, device=device)\n",
    "#             for i in range(4) for j in range(2)\n",
    "#          ],\n",
    "#         *[\n",
    "#             LagN('date', 'teamId', [12, 13], f'{artifacts_path}/train_tscores2.pkl', 'data/', N=j+1, skip=0, device=device)\n",
    "#             for j in range(2)\n",
    "#         ],\n",
    "# #         *[\n",
    "# #             LagN('date', 'teamId', list(range(i*4, (i+1)*4)), f'{artifacts_path}/train_tscores3.pkl', 'data/', N=j+1, skip=0, device=device)\n",
    "# #             for i in range(4) for j in range(1)\n",
    "# #          ], \n",
    "# #         *[\n",
    "# #             LagN('date', 'teamId', [12, 13], f'{artifacts_path}/train_tscores3.pkl', 'data/', N=j+1, skip=0, device=device)\n",
    "# #             for j in range(1)\n",
    "# #         ],\n",
    "#         *[\n",
    "#             LagN('date', 'teamId', list(range(i*4, (i+1)*4)), f'{artifacts_path}/train_standings.pkl', 'data/', N=1, skip=0, device=device)\n",
    "#             for i in range(10)\n",
    "#          ],\n",
    "\n",
    "#         verbose=True\n",
    "#     ), verbose=True\n",
    "# )"
   ]
  },
  {
   "cell_type": "code",
   "execution_count": 340,
   "id": "26c08c83-6487-4fd8-8bc0-7b2f6c6b1548",
   "metadata": {},
   "outputs": [],
   "source": [
    "# X_tr2 = feature_pipeline2.transform(tr_index)\n",
    "# X_vl2 = feature_pipeline2.transform(vl_index)\n",
    "# X_tr = np.hstack((X_tr1, X_tr1[:,54:54+48]/(1e-6 + X_tr11[:, :48]), X_tr1[:,246:246+30]/(1e-6 + X_tr11[:, 48:]),X_tr2))\n",
    "# X_vl = np.hstack((X_vl1, X_vl1[:,54:54+48]/(1e-6 + X_vl11[:, :48]), X_vl1[:,246:246+30]/(1e-6 + X_vl11[:, 48:]),X_vl2))"
   ]
  },
  {
   "cell_type": "code",
   "execution_count": 311,
   "id": "d66997a8-8997-464c-8406-29c2fb2962b4",
   "metadata": {},
   "outputs": [],
   "source": [
    "# X_tr = np.hstack((X_tr01, X_tr02, X_tr03, X_tr04, X_tr05, X_tr06, X_tr07, X_tr08))\n",
    "# X_vl = np.hstack((X_vl01, X_vl02, X_vl03, X_vl04, X_vl05, X_vl06, X_vl07, X_vl08))"
   ]
  },
  {
   "cell_type": "code",
   "execution_count": 389,
   "id": "23eb35e4-6870-47ec-bc21-e8bc3c8138ab",
   "metadata": {},
   "outputs": [],
   "source": [
    "import lightgbm as lgb\n",
    "targets = ['target1', 'target2', 'target3', 'target4']\n",
    "y_tr = tr_index[targets].values\n",
    "y_vl = vl_index[targets].values\n",
    "# print(np.unique(X_tra[:, 235]))\n",
    "y_tr_log = np.log1p(y_tr)\n",
    "y_vl_log = np.log1p(y_vl)\n",
    "\n",
    "tr1 = lgb.Dataset(X_tr, y_tr_log[:, 0]) #, categorical_feature=[13, 14, 15, 16, 419])\n",
    "tr2 = lgb.Dataset(X_tr, y_tr_log[:, 1]) #, categorical_feature=[13, 14, 15, 16, 419])\n",
    "tr3 = lgb.Dataset(X_tr, y_tr_log[:, 2]) #, categorical_feature=[13, 14, 15, 16, 419])\n",
    "tr4 = lgb.Dataset(X_tr, y_tr_log[:, 3]) #, categorical_feature=[13, 14, 15, 16, 419])\n",
    "\n",
    "vl1 = lgb.Dataset(X_vl, y_vl_log[:, 0], reference=tr1)\n",
    "vl2 = lgb.Dataset(X_vl, y_vl_log[:, 1], reference=tr2)\n",
    "vl3 = lgb.Dataset(X_vl, y_vl_log[:, 2], reference=tr3)\n",
    "vl4 = lgb.Dataset(X_vl, y_vl_log[:, 3], reference=tr4)\n",
    "\n",
    "# params = {\n",
    "#     'n_estimators': 4000,\n",
    "#     'learning_rate': 0.08,\n",
    "#     'num_leaves': 31,\n",
    "#     'colsample_bytree': 0.3,\n",
    "#     'subsample': 0.5,\n",
    "#     'reg_alpha': 0.1,\n",
    "#     'reg_lambda': 0.1,\n",
    "#     'max_bin': 255,\n",
    "#     'objective': 'mae',\n",
    "#     'metric': 'mae'\n",
    "# }\n",
    "\n",
    "params = {\n",
    "    'n_estimators': 4000,\n",
    "    'learning_rate': 0.02,\n",
    "    'num_leaves': 255,\n",
    "    'max_depth': -1,\n",
    "    'min_data_in_leaf': 20,\n",
    "    'colsample_bytree': 0.5,\n",
    "    'subsample': 0.95,\n",
    "    'bagging_freq': 1,\n",
    "    'reg_alpha': 0.1,\n",
    "    'reg_lambda': 0.1,\n",
    "    'extra_trees': False,\n",
    "    'max_bin': 127,\n",
    "    #'device': 'gpu',\n",
    "    #'gpu_use_dp': False,\n",
    "    #'gpu_device_id': 0,\n",
    "    'boost_from_average': True,\n",
    "    'reg_sqrt': False,\n",
    "    'objective': 'mae',\n",
    "    'metric': 'mae',\n",
    "    'verbose': -1,\n",
    "    'seed': 1234786591000,\n",
    "    'min_data_per_group': 10,\n",
    "    'cat_l2': 10,\n",
    "    'cat_smooth': 10,\n",
    "    'num_threads': 16\n",
    "}\n",
    "from sklearn.metrics import mean_absolute_error as mae\n"
   ]
  },
  {
   "cell_type": "code",
   "execution_count": 326,
   "id": "b688e064-ce0a-4a8c-974c-5933300ab217",
   "metadata": {},
   "outputs": [
    {
     "name": "stderr",
     "output_type": "stream",
     "text": [
      "/home/mohsin_okcredit_in/anaconda3/envs/setienv/lib/python3.8/site-packages/lightgbm/engine.py:154: UserWarning: Found `n_estimators` in params. Will use it instead of argument\n",
      "  _log_warning(f\"Found `{alias}` in params. Will use it instead of argument\")\n"
     ]
    },
    {
     "name": "stdout",
     "output_type": "stream",
     "text": [
      "Training until validation scores don't improve for 200 rounds\n",
      "[50]\tvalid_0's l1: 0.253433\n",
      "[100]\tvalid_0's l1: 0.232622\n",
      "[150]\tvalid_0's l1: 0.226322\n",
      "[200]\tvalid_0's l1: 0.223521\n",
      "[250]\tvalid_0's l1: 0.222098\n",
      "[300]\tvalid_0's l1: 0.221225\n",
      "[350]\tvalid_0's l1: 0.220672\n",
      "[400]\tvalid_0's l1: 0.220318\n",
      "[450]\tvalid_0's l1: 0.219994\n",
      "[500]\tvalid_0's l1: 0.219812\n",
      "[550]\tvalid_0's l1: 0.219675\n",
      "[600]\tvalid_0's l1: 0.219442\n",
      "[650]\tvalid_0's l1: 0.219273\n",
      "[700]\tvalid_0's l1: 0.219136\n",
      "[750]\tvalid_0's l1: 0.219028\n",
      "[800]\tvalid_0's l1: 0.218942\n",
      "[850]\tvalid_0's l1: 0.218893\n",
      "[900]\tvalid_0's l1: 0.218879\n",
      "[950]\tvalid_0's l1: 0.218855\n",
      "[1000]\tvalid_0's l1: 0.218836\n",
      "[1050]\tvalid_0's l1: 0.21882\n",
      "[1100]\tvalid_0's l1: 0.21882\n",
      "[1150]\tvalid_0's l1: 0.218821\n",
      "[1200]\tvalid_0's l1: 0.218825\n",
      "[1250]\tvalid_0's l1: 0.218812\n",
      "[1300]\tvalid_0's l1: 0.218811\n",
      "[1350]\tvalid_0's l1: 0.218816\n",
      "[1400]\tvalid_0's l1: 0.218813\n",
      "[1450]\tvalid_0's l1: 0.218814\n",
      "Early stopping, best iteration is:\n",
      "[1287]\tvalid_0's l1: 0.21881\n",
      "1.0975758711811299\n"
     ]
    }
   ],
   "source": [
    "bst1 = lgb.train(params, tr1, valid_sets=[vl1], early_stopping_rounds=200, verbose_eval=50)\n",
    "pred1 = bst1.predict(X_vl)\n",
    "print(mae(y_vl[:, 0], np.expm1(pred1)))   # 1.08"
   ]
  },
  {
   "cell_type": "code",
   "execution_count": 327,
   "id": "2c026bad-418a-42ce-86c8-ac348308df07",
   "metadata": {},
   "outputs": [
    {
     "name": "stderr",
     "output_type": "stream",
     "text": [
      "/home/mohsin_okcredit_in/anaconda3/envs/setienv/lib/python3.8/site-packages/lightgbm/engine.py:154: UserWarning: Found `n_estimators` in params. Will use it instead of argument\n",
      "  _log_warning(f\"Found `{alias}` in params. Will use it instead of argument\")\n"
     ]
    },
    {
     "name": "stdout",
     "output_type": "stream",
     "text": [
      "Training until validation scores don't improve for 200 rounds\n",
      "[50]\tvalid_0's l1: 0.405786\n",
      "[100]\tvalid_0's l1: 0.341385\n",
      "[150]\tvalid_0's l1: 0.3238\n",
      "[200]\tvalid_0's l1: 0.318141\n",
      "[250]\tvalid_0's l1: 0.315744\n",
      "[300]\tvalid_0's l1: 0.313835\n",
      "[350]\tvalid_0's l1: 0.312163\n",
      "[400]\tvalid_0's l1: 0.311034\n",
      "[450]\tvalid_0's l1: 0.310392\n",
      "[500]\tvalid_0's l1: 0.309711\n",
      "[550]\tvalid_0's l1: 0.309219\n",
      "[600]\tvalid_0's l1: 0.308713\n",
      "[650]\tvalid_0's l1: 0.308492\n",
      "[700]\tvalid_0's l1: 0.308251\n",
      "[750]\tvalid_0's l1: 0.308087\n",
      "[800]\tvalid_0's l1: 0.307828\n",
      "[850]\tvalid_0's l1: 0.307763\n",
      "[900]\tvalid_0's l1: 0.307673\n",
      "[950]\tvalid_0's l1: 0.30748\n",
      "[1000]\tvalid_0's l1: 0.307292\n",
      "[1050]\tvalid_0's l1: 0.307139\n",
      "[1100]\tvalid_0's l1: 0.306957\n",
      "[1150]\tvalid_0's l1: 0.306854\n",
      "[1200]\tvalid_0's l1: 0.306623\n",
      "[1250]\tvalid_0's l1: 0.306565\n",
      "[1300]\tvalid_0's l1: 0.306528\n",
      "[1350]\tvalid_0's l1: 0.306488\n",
      "[1400]\tvalid_0's l1: 0.306408\n",
      "[1450]\tvalid_0's l1: 0.306334\n",
      "[1500]\tvalid_0's l1: 0.306271\n",
      "[1550]\tvalid_0's l1: 0.306151\n",
      "[1600]\tvalid_0's l1: 0.306102\n",
      "[1650]\tvalid_0's l1: 0.306007\n",
      "[1700]\tvalid_0's l1: 0.305918\n",
      "[1750]\tvalid_0's l1: 0.305836\n",
      "[1800]\tvalid_0's l1: 0.305782\n",
      "[1850]\tvalid_0's l1: 0.305758\n",
      "[1900]\tvalid_0's l1: 0.305779\n",
      "[1950]\tvalid_0's l1: 0.305776\n",
      "[2000]\tvalid_0's l1: 0.305765\n",
      "[2050]\tvalid_0's l1: 0.305745\n",
      "[2100]\tvalid_0's l1: 0.305741\n",
      "[2150]\tvalid_0's l1: 0.305704\n",
      "[2200]\tvalid_0's l1: 0.305669\n",
      "[2250]\tvalid_0's l1: 0.305675\n",
      "[2300]\tvalid_0's l1: 0.305669\n",
      "[2350]\tvalid_0's l1: 0.305648\n",
      "[2400]\tvalid_0's l1: 0.30566\n",
      "Early stopping, best iteration is:\n",
      "[2218]\tvalid_0's l1: 0.305646\n",
      "1.8570172936856575\n"
     ]
    }
   ],
   "source": [
    "bst2 = lgb.train(params, tr2, valid_sets=[vl2], early_stopping_rounds=200, verbose_eval=50)\n",
    "pred2 = bst2.predict(X_vl)\n",
    "print(mae(y_vl[:, 1], np.expm1(pred2))) \n",
    "# 2.22(target means - zero fill value)\n",
    "# 2.2332 (-1 fill value)\n",
    "# 2.31 remove 10 mean\n",
    "# 2.21 add lag 3\n",
    "# 2.26 removed quantiles\n",
    "# 2.18 quantiles back and lags till 4\n",
    "# 2.18 add median for last 30 as well\n",
    "# 2.177 added lag till 7 days\n",
    "# 2.179 added lag till 15 days\n",
    "# 2.114 keep only 7 day lag and try skip 2 days for 1 and 2 day lag\n",
    "# 2.116 skip 2 for everything\n",
    "# 2.118 skip 2 for lags, others3 and changed 30 to 40 days for stats\n",
    "# 2.091 changed 40 to 20 days\n",
    "# 2.106 changed 20 to 10\n",
    "# 2.107 changed 10 to 15\n",
    "# 2.060 added xtra features, awards, roster, txns, pltwitter\n",
    "# 2.060 added non nan count in rosters for last 20 days\n",
    "# 1.9986 added scores1 - current\n",
    "# 1.9734 scores1 lag1\n",
    "# 1.9643 added scores1 lag 2\n",
    "# 1.9613 added scores1 lag 3\n",
    "# 1.9552 added scores1 expnding count last 20\n",
    "# 1.9588 added scores1 expanding count last 1000\n",
    "# 1.9537 added scores1 lag 5\n",
    "# 1.9487 added scores1 lag6\n",
    "# 1.9429 added scores1 lag7\n",
    "# 1.9429 added scores1 lag 8\n",
    "# 1.9438 added scores3 lag0\n",
    "# 1.9232 replaced scores3 lag0 with expanding sum last 10\n",
    "# 1.9294 added scores3 sum last 20\n",
    "# 1.9209 replaced scores3 sum 20 by sum 200\n",
    "# 1.939 replace scores3 sum 10 by sum 20\n",
    "# 1.9223 replace scores3 sum 200 by sum 100 \n",
    "# rolled back to 1.9209 version\n",
    "# 1.8997 added scores2 lag0, lag1\n",
    "# 1.8846 added scores2 lag2, lag3\n",
    "# 1.894 added scores2 lag4, lag5\n",
    "# 1.8857 removed lag4,5 and added mean last 10\n",
    "# 1.8874 scores2 -- replace mean10 - sum10\n",
    "# 1.8932 scores2 sum10 --> sum100\n",
    "# 1.892 scores2 sum100 -> max10\n",
    "# rolled back to only lags for scores2\n",
    "# 1.8675 added scores4 lag0,1\n",
    "# 1.873 added scores4 lag2\n",
    "# 1.876 added scores4 lag3\n",
    "# 1.8798 remove lag2, 3 and add mean 20\n",
    "# 1.8807 mean20 -> count20\n",
    "# 1.8722 count20 -> mean200\n",
    "# rolling back to only lags0,1 for scores4\n",
    "# 1.8645 scores5 lag0\n",
    "# 1.8864 add team standings cols (0, 1, 6, 7, 8)\n",
    "# 1.881 standings - only win loss pct\n",
    "# removing standings completely\n",
    "# 1.872 adding team scores2 lag0\n",
    "# 1.8693 team scores1 lag0\n",
    "# removed team features completely\n",
    "# 1.892 add all players scores1 sum for given date\n",
    "# 1.8610 all players scores2 sum - lag0\n",
    "# 1.8635 all players scores4 sum - lag0"
   ]
  },
  {
   "cell_type": "code",
   "execution_count": 328,
   "id": "49e1d272-23cc-4e64-82ca-9c4d86f74162",
   "metadata": {},
   "outputs": [
    {
     "name": "stderr",
     "output_type": "stream",
     "text": [
      "/home/mohsin_okcredit_in/anaconda3/envs/setienv/lib/python3.8/site-packages/lightgbm/engine.py:154: UserWarning: Found `n_estimators` in params. Will use it instead of argument\n",
      "  _log_warning(f\"Found `{alias}` in params. Will use it instead of argument\")\n"
     ]
    },
    {
     "name": "stdout",
     "output_type": "stream",
     "text": [
      "Training until validation scores don't improve for 200 rounds\n",
      "[50]\tvalid_0's l1: 0.189993\n",
      "[100]\tvalid_0's l1: 0.183489\n",
      "[150]\tvalid_0's l1: 0.180153\n",
      "[200]\tvalid_0's l1: 0.178669\n",
      "[250]\tvalid_0's l1: 0.177954\n",
      "[300]\tvalid_0's l1: 0.177592\n",
      "[350]\tvalid_0's l1: 0.177408\n",
      "[400]\tvalid_0's l1: 0.17728\n",
      "[450]\tvalid_0's l1: 0.177172\n",
      "[500]\tvalid_0's l1: 0.176985\n",
      "[550]\tvalid_0's l1: 0.176949\n",
      "[600]\tvalid_0's l1: 0.176857\n",
      "[650]\tvalid_0's l1: 0.176795\n",
      "[700]\tvalid_0's l1: 0.176765\n",
      "[750]\tvalid_0's l1: 0.176728\n",
      "[800]\tvalid_0's l1: 0.176734\n",
      "[850]\tvalid_0's l1: 0.176708\n",
      "[900]\tvalid_0's l1: 0.1767\n",
      "[950]\tvalid_0's l1: 0.176692\n",
      "[1000]\tvalid_0's l1: 0.17666\n",
      "[1050]\tvalid_0's l1: 0.176631\n",
      "[1100]\tvalid_0's l1: 0.176484\n",
      "[1150]\tvalid_0's l1: 0.176409\n",
      "[1200]\tvalid_0's l1: 0.176397\n",
      "[1250]\tvalid_0's l1: 0.17637\n",
      "[1300]\tvalid_0's l1: 0.176364\n",
      "[1350]\tvalid_0's l1: 0.176366\n",
      "[1400]\tvalid_0's l1: 0.176366\n",
      "[1450]\tvalid_0's l1: 0.176366\n",
      "Early stopping, best iteration is:\n",
      "[1283]\tvalid_0's l1: 0.176364\n",
      "0.8767324179204725\n"
     ]
    }
   ],
   "source": [
    "bst3 = lgb.train(params, tr3, valid_sets=[vl3], early_stopping_rounds=200, verbose_eval=50)\n",
    "pred3 = bst3.predict(X_vl)\n",
    "print(mae(y_vl[:, 2], np.expm1(pred3)))   # 0.892"
   ]
  },
  {
   "cell_type": "code",
   "execution_count": 410,
   "id": "9df5dc09-cf30-481a-abdf-9e024b5d6f72",
   "metadata": {},
   "outputs": [
    {
     "name": "stderr",
     "output_type": "stream",
     "text": [
      "/home/mohsin_okcredit_in/anaconda3/envs/setienv/lib/python3.8/site-packages/lightgbm/engine.py:154: UserWarning: Found `n_estimators` in params. Will use it instead of argument\n",
      "  _log_warning(f\"Found `{alias}` in params. Will use it instead of argument\")\n"
     ]
    },
    {
     "name": "stdout",
     "output_type": "stream",
     "text": [
      "Training until validation scores don't improve for 200 rounds\n",
      "[50]\tvalid_0's l1: 0.315039\n",
      "[100]\tvalid_0's l1: 0.316094\n",
      "[150]\tvalid_0's l1: 0.319409\n",
      "[200]\tvalid_0's l1: 0.321343\n",
      "[250]\tvalid_0's l1: 0.322876\n",
      "Early stopping, best iteration is:\n",
      "[74]\tvalid_0's l1: 0.311756\n"
     ]
    }
   ],
   "source": [
    "params1 = {\n",
    "    'n_estimators': 4000,\n",
    "    'learning_rate': 0.05,\n",
    "    'num_leaves': 31,\n",
    "    'max_depth': -1,\n",
    "    'min_data_in_leaf': 20,\n",
    "    'colsample_bytree': 0.55,\n",
    "    'subsample': 0.95,\n",
    "    'bagging_freq': 1,\n",
    "    'reg_alpha': 0.1,\n",
    "    'reg_lambda': 0.1,\n",
    "    'extra_trees': False,\n",
    "    'max_bin': 127,\n",
    "    #'device': 'gpu',\n",
    "    #'gpu_use_dp': False,\n",
    "    #'gpu_device_id': 0,\n",
    "    'boost_from_average': True,\n",
    "    'reg_sqrt': False,\n",
    "    'objective': 'mae',\n",
    "    'metric': 'mae',\n",
    "    'verbose': -1,\n",
    "    'seed': 1234786,\n",
    "    'min_data_per_group': 10,\n",
    "    'cat_l2': 10,\n",
    "    'cat_smooth': 10,\n",
    "    'num_threads': 16\n",
    "}\n",
    "bst4 = lgb.train(params1, tr4, valid_sets=[vl4], early_stopping_rounds=200, verbose_eval=50)"
   ]
  },
  {
   "cell_type": "code",
   "execution_count": 411,
   "id": "80de512c-0126-4435-8d36-1309d10b3fee",
   "metadata": {},
   "outputs": [
    {
     "name": "stdout",
     "output_type": "stream",
     "text": [
      "1.5059481170024789\n"
     ]
    }
   ],
   "source": [
    "pred4 = bst4.predict(X_vl)\n",
    "print(mae(y_vl[:, 3], np.expm1(pred4)))   # 1.4466"
   ]
  },
  {
   "cell_type": "code",
   "execution_count": 412,
   "id": "209b8073-511b-45a6-97fa-d48836315f7f",
   "metadata": {},
   "outputs": [
    {
     "name": "stdout",
     "output_type": "stream",
     "text": [
      "1.3343184249474347\n"
     ]
    }
   ],
   "source": [
    "#pred1 = bst1.predict(X_vl)\n",
    "#pred2 = bst2.predict(X_vl)\n",
    "#pred3 = bst3.predict(X_vl)\n",
    "#pred4 = bst4.predict(X_vl)\n",
    "preds = np.vstack((pred1, pred2, pred3, pred4)).T\n",
    "print(mae(y_vl, np.expm1(preds)))   # 1.3549"
   ]
  },
  {
   "cell_type": "code",
   "execution_count": null,
   "id": "d58c9813-4dcd-4e55-b644-651cfbbae99e",
   "metadata": {},
   "outputs": [],
   "source": [
    "# 1.7930\n",
    "# 1.7708 - added lag of flags\n",
    "# 1.7368 - added categorical features from box score\n",
    "# 1.6982 - added batter scores\n",
    "# 1.6890       - added pitcher scores\n",
    "# 1.6892   - added remaining features ( :-( )\n",
    "# 1.6883     - added pitcher lags \n",
    "# 1.6810   - adde batter lags\n",
    "# 1.6777   - more pitcher lags\n",
    "# 1.5774 - added target mean (skip - 30 and last 365)\n",
    "# change hyperparams - colsamplebytree 0.7 --> 0.4; 1.6814 (reverting)\n",
    "# 1.534 - changed val to from 10 april - \n",
    "# 1.517 - added lag3\n",
    "# 1.5146 - changed hyperparams - colsample to 0.5\n",
    "# 1.509 - num_leaves 255\n",
    "# 1.5078  - min_leaf_samples 20\n",
    "# 1.4884 - added statusCode\n",
    "# 1.4891 - made it cat\n",
    "# 1.4795 - removed cat encoding\n",
    "# 1.4455 - fixed last n expanding mean and added last 10\n",
    "# 1.4396 - added last 10 stats\n",
    "# 1.4379 - last 5 innings sum of pitching scores\n",
    "# 1.4322 - last 5 mean scores\n",
    "# 1.4278 - expading mean batter scores\n",
    "# 1.4257 - expanding mean pitcher scores\n",
    "# 1.4070 - expanding sum - last 10 scores \n",
    "# 1.3687 -- changed validation to last 15 days\n",
    "# 1.3602 - changed target means from 10 days to 15 days \n",
    "# 1.3556 - changed from 15 to 30 days\n",
    "# 1.355 - changes days a bit\n",
    "# 1.3499 - changed lr to 0.05\n",
    "# 1.346 - changed hyperparams"
   ]
  },
  {
   "cell_type": "code",
   "execution_count": 406,
   "id": "a77301b1-a0e9-4290-8665-527dcc7b1bd7",
   "metadata": {},
   "outputs": [
    {
     "data": {
      "text/plain": [
       "<lightgbm.basic.Booster at 0x7f18d033acd0>"
      ]
     },
     "execution_count": 406,
     "metadata": {},
     "output_type": "execute_result"
    }
   ],
   "source": [
    "bst1.save_model(\"artifacts/bst1_train_v3.pkl\")\n",
    "bst2.save_model(\"artifacts/bst2_train_v3.pkl\")\n",
    "bst3.save_model(\"artifacts/bst3_train_v3.pkl\")\n",
    "bst4.save_model(\"artifacts/bst4_train_v3.pkl\")"
   ]
  },
  {
   "cell_type": "code",
   "execution_count": null,
   "id": "88708fb3-e8c4-44b2-a8e3-e6f822ee20f2",
   "metadata": {},
   "outputs": [],
   "source": [
    "np.save(\"data/lgb_t1.npy\", pred1)\n",
    "np.save(\"data/lgb_t2.npy\", pred2)\n",
    "np.save(\"data/lgb_t3.npy\", pred3)\n",
    "np.save(\"data/lgb_t4.npy\", pred4)\n"
   ]
  },
  {
   "cell_type": "code",
   "execution_count": null,
   "id": "ca18d960-e27a-4700-8ba0-a0739cad111e",
   "metadata": {},
   "outputs": [],
   "source": [
    "from catboost import CatBoostRegressor"
   ]
  },
  {
   "cell_type": "code",
   "execution_count": null,
   "id": "432fcc01-00bb-46fc-b0fa-46ea8672dc3b",
   "metadata": {},
   "outputs": [],
   "source": [
    "model1 = CatBoostRegressor(loss_function='MAE', learning_rate=0.1, iterations=2000, grow_policy='Lossguide', max_leaves=255, min_data_in_leaf=20, \n",
    "                          )\n",
    "model1.fit(X_tr1, y_tr[:, 0], eval_set=(X_vl1, y_vl[:, 0]), verbose_eval=50, early_stopping_rounds=200)"
   ]
  },
  {
   "cell_type": "code",
   "execution_count": null,
   "id": "352bf4ec-804a-4123-b26e-4819e5e14ef8",
   "metadata": {},
   "outputs": [],
   "source": [
    "pred12= model1.predict(X_vl1)\n"
   ]
  },
  {
   "cell_type": "code",
   "execution_count": null,
   "id": "7729f0dd-65b8-4133-b89d-d1272a130504",
   "metadata": {},
   "outputs": [],
   "source": [
    "mae(y_vl[:, 0], np.mean([pred1, pred12], 0))"
   ]
  },
  {
   "cell_type": "code",
   "execution_count": null,
   "id": "2e96028d-76db-41f5-9b68-163313e84da1",
   "metadata": {},
   "outputs": [],
   "source": [
    "mae(y_vl[:, 0], pred1*0.7+pred12*0.3)"
   ]
  },
  {
   "cell_type": "code",
   "execution_count": null,
   "id": "d52475b7-1931-484c-a304-22ddc09b3f3e",
   "metadata": {},
   "outputs": [],
   "source": [
    "pd.read_csv(\"data/seasons.csv\")"
   ]
  },
  {
   "cell_type": "code",
   "execution_count": null,
   "id": "ce08fcf2-a5a8-43b4-afd8-51401ab475db",
   "metadata": {},
   "outputs": [],
   "source": [
    "# TODO\n",
    "# Running stats on rank per day"
   ]
  },
  {
   "cell_type": "code",
   "execution_count": null,
   "id": "ce978ca2-3cc8-4aaa-b20e-7624bc5a6b37",
   "metadata": {},
   "outputs": [],
   "source": []
  }
 ],
 "metadata": {
  "kernelspec": {
   "display_name": "Python 3",
   "language": "python",
   "name": "python3"
  },
  "language_info": {
   "codemirror_mode": {
    "name": "ipython",
    "version": 3
   },
   "file_extension": ".py",
   "mimetype": "text/x-python",
   "name": "python",
   "nbconvert_exporter": "python",
   "pygments_lexer": "ipython3",
   "version": "3.8.10"
  }
 },
 "nbformat": 4,
 "nbformat_minor": 5
}
